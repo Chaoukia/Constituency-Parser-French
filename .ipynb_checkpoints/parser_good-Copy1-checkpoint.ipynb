{
 "cells": [
  {
   "cell_type": "code",
   "execution_count": 1,
   "metadata": {},
   "outputs": [],
   "source": [
    "# !pip install PYEVALB\n",
    "# !pip install unidecode"
   ]
  },
  {
   "cell_type": "code",
   "execution_count": 1,
   "metadata": {},
   "outputs": [],
   "source": [
    "import numpy as np\n",
    "import matplotlib.pyplot as plt\n",
    "%matplotlib inline\n",
    "from nltk import Tree, grammar\n",
    "import random\n",
    "import queue\n",
    "import pickle as pkl\n",
    "from scipy.spatial import distance\n",
    "from PYEVALB import scorer\n",
    "from PYEVALB import parser\n",
    "from sklearn.metrics import precision_recall_fscore_support\n",
    "import unidecode\n",
    "import math\n",
    "from itertools import product\n",
    "from time import time"
   ]
  },
  {
   "cell_type": "code",
   "execution_count": 2,
   "metadata": {},
   "outputs": [],
   "source": [
    "with open('sequoia-corpus+fct.mrg_strict', 'r') as file:\n",
    "    data = file.read().splitlines()\n",
    "    \n",
    "file.close()"
   ]
  },
  {
   "cell_type": "code",
   "execution_count": 3,
   "metadata": {},
   "outputs": [],
   "source": [
    "def ignore_functional_labels(string):\n",
    "    \n",
    "    \"\"\"\n",
    "    Description\n",
    "    ----------------\n",
    "    Ignore functional labels in the non terminals of a rule, for example PP-MOD becomes PP\n",
    "    \n",
    "    Parameters\n",
    "    ----------------\n",
    "    string : String form of parse tree.\n",
    "    \n",
    "    Returns\n",
    "    ----------------\n",
    "    new string form of parse tree\n",
    "    \"\"\"\n",
    "    \n",
    "    l = string.split(' ')[1:]\n",
    "    for i in range(len(l)):\n",
    "        if l[i][0] == '(':\n",
    "            l[i] = l[i].split('-')[0]\n",
    "            \n",
    "    return ' '.join(l)[:-1]\n",
    "#     return ' '.join(l)\n",
    "    "
   ]
  },
  {
   "cell_type": "code",
   "execution_count": 4,
   "metadata": {},
   "outputs": [],
   "source": [
    "def extract_nodes(rule):\n",
    "    \n",
    "    \"\"\"\n",
    "    Description\n",
    "    ---------------\n",
    "    Extract the non terminal and terminal nodes from a rule along with the status of the rule (either lexical 1, or not 0)\n",
    "    \n",
    "    Parameters\n",
    "    ---------------\n",
    "    rule : nltk.grammar.Production object, the rule to consider.\n",
    "    \n",
    "    Returns\n",
    "    ---------------\n",
    "    3-tuple, tuple[0] : the lexical status.\n",
    "             tuple[1] : set containing the non terminal nodes.\n",
    "             tuple[2] : set containing the terminal nodes.\n",
    "    \"\"\"\n",
    "    if rule.is_lexical():\n",
    "        return True, set((rule._lhs._symbol,)), set((rule._rhs))\n",
    "    \n",
    "    else:\n",
    "        return False, set((rule._lhs._symbol,)).union(set((rule._rhs[0]._symbol, rule._rhs[1]._symbol))), set()"
   ]
  },
  {
   "cell_type": "code",
   "execution_count": 5,
   "metadata": {},
   "outputs": [],
   "source": [
    "# random.seed(0)\n",
    "# data_dev, data_test = data[4*len(data)//5:9*len(data)//10], data[9*len(data)//10:]\n",
    "data_test = data[9*len(data)//10:]\n",
    "# data = data[:4*len(data)//5]\n",
    "data = data[:9*len(data)//10]"
   ]
  },
  {
   "cell_type": "code",
   "execution_count": 6,
   "metadata": {},
   "outputs": [],
   "source": [
    "non_terminals = set()\n",
    "pos_tags = set()\n",
    "terminals = set()\n",
    "binaries = set()\n",
    "starts = set()\n",
    "for string in data:\n",
    "    t = Tree.fromstring(ignore_functional_labels(string))\n",
    "    t.chomsky_normal_form(horzMarkov=2)\n",
    "    t.collapse_unary(collapsePOS=True, collapseRoot=True)\n",
    "    rules = t.productions()\n",
    "    starts.add(rules[0]._lhs._symbol)\n",
    "    for rule in rules:\n",
    "        lexical, non_terminal_nodes, terminal_nodes = extract_nodes(rule)\n",
    "        if lexical:\n",
    "            non_terminals = non_terminals.union(non_terminal_nodes)\n",
    "            pos_tags = pos_tags.union(non_terminal_nodes)\n",
    "            terminals = terminals.union(terminal_nodes)\n",
    "            \n",
    "        else:\n",
    "            non_terminals = non_terminals.union(non_terminal_nodes)\n",
    "            if len(rule._rhs) == 2:\n",
    "                binaries.add((rule._rhs[0]._symbol, rule._rhs[1]._symbol))"
   ]
  },
  {
   "cell_type": "code",
   "execution_count": 7,
   "metadata": {},
   "outputs": [
    {
     "data": {
      "text/plain": [
       "{'SENT',\n",
       " 'SENT+AP',\n",
       " 'SENT+AP+ADJ',\n",
       " 'SENT+COORD',\n",
       " 'SENT+NC',\n",
       " 'SENT+NP',\n",
       " 'SENT+NP+NC',\n",
       " 'SENT+NP+NPP',\n",
       " 'SENT+NPP',\n",
       " 'SENT+PONCT',\n",
       " 'SENT+PP',\n",
       " 'SENT+VPinf'}"
      ]
     },
     "execution_count": 7,
     "metadata": {},
     "output_type": "execute_result"
    }
   ],
   "source": [
    "starts"
   ]
  },
  {
   "cell_type": "code",
   "execution_count": 8,
   "metadata": {},
   "outputs": [
    {
     "name": "stdout",
     "output_type": "stream",
     "text": [
      "Number of terminals : 9632\n",
      "Number of POS tags : 60\n",
      "Number of non terminals : 832\n",
      "Number of binaries : 2640\n"
     ]
    }
   ],
   "source": [
    "print('Number of terminals : %d' %len(terminals))\n",
    "print('Number of POS tags : %d' %len(pos_tags))\n",
    "print('Number of non terminals : %d' %len(non_terminals))\n",
    "print('Number of binaries : %d' %len(binaries))"
   ]
  },
  {
   "cell_type": "code",
   "execution_count": 9,
   "metadata": {},
   "outputs": [],
   "source": [
    "# dict_symbol_non_terminal = dict((non_terminal._symbol, non_terminal) for non_terminal in non_terminals)"
   ]
  },
  {
   "cell_type": "code",
   "execution_count": 10,
   "metadata": {},
   "outputs": [],
   "source": [
    "dict_non_terminals_indices = {non_terminal : index for index, non_terminal in enumerate(non_terminals)}\n",
    "dict_indices_non_terminals = {index : non_terminal for non_terminal, index in dict_non_terminals_indices.items()}\n",
    "\n",
    "dict_pos_indices = {pos : index for index, pos in enumerate(pos_tags)}\n",
    "dict_indices_pos = {index : pos for pos, index in dict_pos_indices.items()}\n",
    "\n",
    "dict_terminals_indices = {terminal : index for index, terminal in enumerate(terminals)}\n",
    "dict_indices_terminals = {index : terminal for terminal, index in dict_terminals_indices.items()}\n",
    "\n",
    "dict_binaries_indices = {binary : index for index, binary in enumerate(binaries)}\n",
    "dict_indices_terminals = {index : binary for binary, index in dict_binaries_indices.items()}\n",
    "\n",
    "dict_starts_indices = {binary : index for index, binary in enumerate(starts)}\n",
    "dict_indices_starts = {index : binary for binary, index in dict_starts_indices.items()}"
   ]
  },
  {
   "cell_type": "markdown",
   "metadata": {},
   "source": [
    "# PCFG"
   ]
  },
  {
   "cell_type": "code",
   "execution_count": 11,
   "metadata": {},
   "outputs": [],
   "source": [
    "def express_node(rule):\n",
    "    \n",
    "    \"\"\"\n",
    "    Description\n",
    "    ---------------\n",
    "    Express the nature of the rule and extract its left hand and right hand sides.\n",
    "    \n",
    "    Parameters\n",
    "    ---------------\n",
    "    rule : nltk.grammar.Production object, the rule to consider.\n",
    "    \n",
    "    Returns\n",
    "    ---------------\n",
    "    3-tuple, tuple[0] : String describing the rule {'lexical', 'start_node', 'unary', 'binary'}\n",
    "             tuple[1] : nltk.grammar.Production, the left hand side of the rule.\n",
    "             tuple[2] : nltk.grammar.Production, the right hand side of the rule.\n",
    "    \"\"\"\n",
    "    if rule.is_lexical():\n",
    "        return 'lexical', rule._lhs._symbol, rule._rhs[0]\n",
    "    \n",
    "    else:\n",
    "        lhs, rhs = rule._lhs._symbol, (rule._rhs[0]._symbol, rule._rhs[1]._symbol)\n",
    "        if len(rhs) == 2:\n",
    "            return 'binary', lhs, rhs"
   ]
  },
  {
   "cell_type": "code",
   "execution_count": 12,
   "metadata": {},
   "outputs": [],
   "source": [
    "def pcfg(data):\n",
    "    \n",
    "    \"\"\"\n",
    "    Description\n",
    "    ----------------\n",
    "    Create PCFG model from the data, i.e compute the probability of each rule (conditiona probabilities) statistically from the data\n",
    "    \n",
    "    Parameters\n",
    "    ----------------\n",
    "    data : List of strings representing parse trees.\n",
    "    \n",
    "    Returns\n",
    "    ----------------\n",
    "    dict_pcfg   : Dictionnary with three keys {'lexical', 'unary', 'binary'}\n",
    "                 - dict_pcfg['lexical']  : dictionnary of lexicons.\n",
    "                                           - keys   : POS tags; \n",
    "                                           - values : dictionnary of probabilities p(terminal|POS_tag)\n",
    "                                                     - keys   : terminals.\n",
    "                                                     - values : p(terminal|POS_tag)\n",
    "                 - dict_pcfg['unary']    : dictionnary of unary laws.\n",
    "                                           - keys   : non terminals; \n",
    "                                           - values : dictionnary of probabilities p(node|non_terminal), node here can be\n",
    "                                                      either a POS tag or a non terminal.\n",
    "                                                     - keys   : non terminals.\n",
    "                                                     - values : p(node|non_terminal)\n",
    "                                                                          \n",
    "                 - dict_pcfg['binary']   : dictionnary of binary laws.\n",
    "                                           - keys   : non terminals; \n",
    "                                           - values : dictionnary of probabilities p(node|non_terminal), node here is binary\n",
    "                                                      containing POS tags or non terminals.\n",
    "                                                     - keys   : non terminals.\n",
    "                                                     - values : p(node|non_terminal)\n",
    "                                                                        \n",
    "    dict_probas : Dictionnary rearranging the elements of dict_pcfg in a way that simplifies the use of the probabilities \n",
    "                  in the CYK algorithm, keys in {'lexical', 'unary', 'binary'}                  \n",
    "                  dictionnary of probabilities.\n",
    "                            - keys   : unary nodes (POS tags or non terminals).\n",
    "                            - values : probabilities p(node|unary_node)\n",
    "    \"\"\"\n",
    "    \n",
    "    # Initalize dictionnaries dict_lexicons, dict_unaries, dict_binaries that we put in dict_pcfg\n",
    "    dict_lexicons, dict_binaries = {}, {} # Notice that we already put the rule of the start node in\n",
    "                                                                              # Chomsky normal form\n",
    "    dict_pcfg = {'lexical' : dict_lexicons, 'binary' : dict_binaries}\n",
    "    \n",
    "    # Loop over the data\n",
    "    for string in data:\n",
    "        t = Tree.fromstring(ignore_functional_labels(string)) # Ignore the functional labels (see the doc of ignore_functional_labels)\n",
    "        t.chomsky_normal_form(horzMarkov=2)  # Convert the tree to Chomsky normal form\n",
    "        t.collapse_unary(collapsePOS=True, collapseRoot=True)\n",
    "        rules = t.productions()  # Get the rules\n",
    "        for rule in rules:       # We start by counting the rules in data\n",
    "            nature, lhs, rhs = express_node(rule)\n",
    "            if lhs in dict_pcfg[nature]:\n",
    "                if rhs in dict_pcfg[nature][lhs]:\n",
    "                    dict_pcfg[nature][lhs][rhs] += 1\n",
    "\n",
    "                else:\n",
    "                    dict_pcfg[nature][lhs][rhs] = 1\n",
    "\n",
    "            else:\n",
    "                dict_pcfg[nature][lhs] = {rhs : 1}\n",
    "                \n",
    "    dict_normalized = {}\n",
    "    for nature in dict_pcfg:\n",
    "        for lhs in dict_pcfg[nature]:\n",
    "            if lhs in dict_normalized:\n",
    "                dict_normalized[lhs] += sum(dict_pcfg[nature][lhs].values())\n",
    "                \n",
    "            else:\n",
    "                dict_normalized[lhs] = sum(dict_pcfg[nature][lhs].values())\n",
    "                \n",
    "    for nature in dict_pcfg:\n",
    "        for lhs in dict_pcfg[nature]:\n",
    "            dict_pcfg[nature][lhs] = dict((key, value/dict_normalized[lhs]) for key, value in dict_pcfg[nature][lhs].items())\n",
    "\n",
    "    dict_probas = {'lexical' : {}, 'unary' : {}, 'binary' : {}} # Initialize dict_probas\n",
    "    for nature in dict_pcfg:\n",
    "        for lhs in dict_pcfg[nature]:\n",
    "            for node in dict_pcfg[nature][lhs]:\n",
    "                if node in dict_probas[nature]:\n",
    "                    dict_probas[nature][node][lhs] = math.log(dict_pcfg[nature][lhs][node])\n",
    "\n",
    "                else:\n",
    "                    dict_probas[nature][node] = {lhs : math.log(dict_pcfg[nature][lhs][node])}\n",
    "                    \n",
    "    return dict_pcfg, dict_probas"
   ]
  },
  {
   "cell_type": "code",
   "execution_count": 13,
   "metadata": {},
   "outputs": [],
   "source": [
    "dict_pcfg, dict_probas = pcfg(data)"
   ]
  },
  {
   "cell_type": "code",
   "execution_count": 14,
   "metadata": {},
   "outputs": [
    {
     "data": {
      "text/plain": [
       "9632"
      ]
     },
     "execution_count": 14,
     "metadata": {},
     "output_type": "execute_result"
    }
   ],
   "source": [
    "len(dict_probas['lexical'])"
   ]
  },
  {
   "cell_type": "code",
   "execution_count": 15,
   "metadata": {},
   "outputs": [
    {
     "data": {
      "text/plain": [
       "2640"
      ]
     },
     "execution_count": 15,
     "metadata": {},
     "output_type": "execute_result"
    }
   ],
   "source": [
    "len(dict_probas['binary'])"
   ]
  },
  {
   "cell_type": "markdown",
   "metadata": {},
   "source": [
    "# CYK algorithm"
   ]
  },
  {
   "cell_type": "code",
   "execution_count": 16,
   "metadata": {},
   "outputs": [],
   "source": [
    "B_binary, C_binary = set([binary[0] for binary in dict_probas['binary'].keys()]), set([binary[1] for binary in dict_probas['binary'].keys()])\n",
    "set_binary = set(dict_probas['binary'].keys())"
   ]
  },
  {
   "cell_type": "code",
   "execution_count": 17,
   "metadata": {},
   "outputs": [],
   "source": [
    "# from time import time\n",
    "\n",
    "# index_non_terminal = lambda index : dict_indices_non_terminals[index]\n",
    "\n",
    "def cyk(sentence):\n",
    "    \n",
    "    n = len(sentence) + 1\n",
    "    k = len(non_terminals)\n",
    "    scores = [[{} for j in range(n)] for l in range(n)]\n",
    "    back = [[[None for i in range(k)] for j in range(n)] for l in range(n)]\n",
    "    Bs_scores, Cs_scores = [[set() for j in range(n)] for l in range(n)], [[set() for j in range(n)] for l in range(n)]\n",
    "    for i in range(0, n-1):\n",
    "        word = sentence[i]\n",
    "        if word in dict_probas['lexical'].keys():\n",
    "            for A in dict_probas['lexical'][word]:\n",
    "                scores[i][i+1][A] = dict_probas['lexical'][word][A]\n",
    "                if A in B_binary:\n",
    "                    Bs_scores[i][i+1].add(A)\n",
    "\n",
    "                if A in C_binary:\n",
    "                    Cs_scores[i][i+1].add(A)\n",
    "                    \n",
    "        else:\n",
    "            print(word + \" : isn't in terminals\")\n",
    "            return scores, back\n",
    "                 \n",
    "    for span in range(2, n):\n",
    "        start_time_binary = time()\n",
    "        for begin in range(0, n-span):\n",
    "            end = begin + span\n",
    "            start_time_binary = time()\n",
    "            for split in range(begin+1, end):\n",
    "#                 Bs = set(scores[begin][split].keys()).intersection(B_binary)\n",
    "#                 Cs = set(scores[split][end].keys()).intersection(C_binary)\n",
    "                Bs = Bs_scores[begin][split].intersection(B_binary)\n",
    "                Cs = Cs_scores[split][end].intersection(C_binary)\n",
    "                \n",
    "                for B, C in set_binary.intersection(set(product(Bs, Cs))):\n",
    "                    score_B, score_C = scores[begin][split].get(B, -np.inf), scores[split][end].get(C, -np.inf)\n",
    "                    for A in dict_probas['binary'][(B, C)]:\n",
    "                        prob = score_B + score_C + dict_probas['binary'][(B, C)][A]\n",
    "                        if prob > scores[begin][end].get(A, -np.inf):\n",
    "                            scores[begin][end][A] = prob\n",
    "                            back[begin][end][dict_non_terminals_indices[A]] = (split, B, C)\n",
    "                            if A in B_binary:\n",
    "                                Bs_scores[begin][end].add(A)\n",
    "\n",
    "                            if A in C_binary:\n",
    "                                Cs_scores[begin][end].add(A)\n",
    "                                \n",
    "    return scores, back"
   ]
  },
  {
   "cell_type": "markdown",
   "metadata": {},
   "source": [
    "# Backtrack : Build parse tree from CYK"
   ]
  },
  {
   "cell_type": "code",
   "execution_count": 18,
   "metadata": {},
   "outputs": [],
   "source": [
    "def not_in_grammar(sentence):\n",
    "    string = '( (Not-inGrammar '\n",
    "    for i in range(len(sentence)-1):\n",
    "        string += '(Not-in-Grammar ' + sentence[i] + ')'\n",
    "        \n",
    "    string += '(Not-in-Grammar ' + sentence[-1] + ')))'\n",
    "    return string"
   ]
  },
  {
   "cell_type": "code",
   "execution_count": 62,
   "metadata": {},
   "outputs": [],
   "source": [
    "def build_parentheses(back_track, scores, sentence):\n",
    "    \n",
    "    \"\"\"\n",
    "    Description\n",
    "    ---------------\n",
    "    Build the parse tree from tha back_track return of CYK algorithm as a string with parentheses. Then if we want to get the parse\n",
    "    in a tree form, we can simply use function Tree.from_string of nltk package.\n",
    "    \n",
    "    Parameters\n",
    "    ---------------\n",
    "    back_track : 3D matrix in the form of list of lists, of \"shape\" (n, n, r).\n",
    "                 - n : the length of the sentence we want to parse.\n",
    "                 - r : the number of non terminal nodes in our grammar.\n",
    "                 \n",
    "    Returns\n",
    "    ---------------\n",
    "    String, the string form with parentheses of the parse tree.\n",
    "    \"\"\"\n",
    "    \n",
    "    \n",
    "    q = queue.LifoQueue()\n",
    "    begin = 0\n",
    "    end = len(back_track[0]) - 1\n",
    "    starts_scores = []\n",
    "    for start in starts:\n",
    "        starts_scores.append((scores[begin][end].get(start,-np.inf), start))\n",
    "    \n",
    "    starts_scores.sort(reverse=True)\n",
    "    if starts_scores[0][0] == -np.inf:\n",
    "        return not_in_grammar(sentence)\n",
    "    \n",
    "    sent = starts_scores[0][1]\n",
    "    string = '('\n",
    "    q.put((None, sent, 'start', 1, [begin, end]))\n",
    "\n",
    "    while not q.empty():\n",
    "        split, symbol, status, depth, border = q.get()   # border is begin for left and end for right\n",
    "        string += ' (' + symbol\n",
    "\n",
    "        if status == 'left':\n",
    "            border = [border[0], split]\n",
    "            children = back_track[border[0]][border[1]][dict_non_terminals_indices[symbol]]\n",
    "\n",
    "        elif status == 'right':\n",
    "            border = [split, border[1]]\n",
    "            children = back_track[border[0]][border[1]][dict_non_terminals_indices[symbol]]\n",
    "\n",
    "        elif status == 'start':\n",
    "            children = back_track[border[0]][border[1]][dict_non_terminals_indices[symbol]]\n",
    "\n",
    "        if children is not None:\n",
    "            if isinstance(children, grammar.Nonterminal):\n",
    "                node = (split, children, status, depth+1, border)\n",
    "                q.put(node)\n",
    "\n",
    "            elif len(children) == 3:\n",
    "                split, l_child, r_child = children\n",
    "                l_node, r_node = (split, l_child, 'left', 0, border), (split, r_child, 'right', depth+1, border)\n",
    "                q.put(r_node)\n",
    "                q.put(l_node)\n",
    "\n",
    "        else:\n",
    "            depth += 1\n",
    "            word = sentence[border[0]:border[1]][0]\n",
    "            string += ' ' + word + ')'*depth\n",
    "            \n",
    "    return string"
   ]
  },
  {
   "cell_type": "markdown",
   "metadata": {},
   "source": [
    "## Evaluation"
   ]
  },
  {
   "cell_type": "code",
   "execution_count": 20,
   "metadata": {},
   "outputs": [],
   "source": [
    "def score(true_parse, proposed_parse):\n",
    "    \n",
    "    \"\"\"\n",
    "    Description\n",
    "    -----------------\n",
    "    Evaluate a proposed parse given the true one, this function prints recall and precision of the whole parse and on POS tags only also.\n",
    "    \n",
    "    Parameters\n",
    "    -----------------\n",
    "    true_parse, proposed_parse : Bracketed strings, the true and proposed parse trees.\n",
    "    \n",
    "    Returns\n",
    "    -----------------\n",
    "    \"\"\"\n",
    "    \n",
    "    true_parse = true_parse[2:-1]\n",
    "    proposed_parse= proposed_parse[2:-1]\n",
    "    \n",
    "    gold_tree = parser.create_from_bracket_string(true_parse)\n",
    "    test_tree = parser.create_from_bracket_string(proposed_parse)\n",
    "    \n",
    "    # Compute recall and precision for POS tags\n",
    "    y_true = np.array(gold_tree.poss)\n",
    "    y_pred = np.array(test_tree.poss)\n",
    "\n",
    "    y_pred = (y_true == y_pred).astype(int)\n",
    "    y_true = np.ones(len(y_true)).astype(int)\n",
    "\n",
    "    (POS_precision, POS_recall, POS_f_score, beta) = precision_recall_fscore_support(y_true,y_pred, labels=[1])\n",
    "    \n",
    "    # Compute recall and precision for the whole parse\n",
    "    thescorer = scorer.Scorer() \n",
    "    result = thescorer.score_trees(gold_tree, test_tree)\n",
    "    \n",
    "    print('Parse recall : {:.2f}%'.format(result.recall*100))\n",
    "    print('Parse precision : {:.2f}%'.format(result.prec*100), end=\"\\n\\n\")\n",
    "    \n",
    "    print('POS recall : {:.2f}%'.format(POS_recall[0]*100))\n",
    "    print('POS precision : {:.2f}%'.format(POS_precision[0]*100))\n",
    "\n",
    "    return None"
   ]
  },
  {
   "cell_type": "code",
   "execution_count": 21,
   "metadata": {},
   "outputs": [],
   "source": [
    "# score(\" \".join(str(t).split()), \" \".join(str(t_test).split()))"
   ]
  },
  {
   "cell_type": "markdown",
   "metadata": {},
   "source": [
    "# OOV module"
   ]
  },
  {
   "cell_type": "markdown",
   "metadata": {},
   "source": [
    "## Embedding similarity"
   ]
  },
  {
   "cell_type": "code",
   "execution_count": 22,
   "metadata": {},
   "outputs": [],
   "source": [
    "words, embeddings = pkl.load(open('polyglot-fr.pkl', 'rb'), encoding = 'latin')\n",
    "dict_words_embeddings = dict((word, embedding) for word, embedding in zip(words, embeddings))\n",
    "del words, embeddings"
   ]
  },
  {
   "cell_type": "code",
   "execution_count": 23,
   "metadata": {},
   "outputs": [
    {
     "data": {
      "text/plain": [
       "[(0.0, 'femme'),\n",
       " (0.13840019702911377, 'mère'),\n",
       " (0.2212699055671692, 'sorcière'),\n",
       " (0.22470712661743164, 'dame'),\n",
       " (0.23393511772155762, 'fille'),\n",
       " (0.2370111346244812, 'chanteuse'),\n",
       " (0.2375941276550293, 'reine'),\n",
       " (0.24107229709625244, 'personne'),\n",
       " (0.24143099784851074, 'sœur'),\n",
       " (0.24942022562026978, 'princesse')]"
      ]
     },
     "execution_count": 23,
     "metadata": {},
     "output_type": "execute_result"
    }
   ],
   "source": [
    "word_original = 'femme'\n",
    "scores = []\n",
    "for word in dict_words_embeddings:\n",
    "    scores.append((distance.cosine(dict_words_embeddings[word_original], dict_words_embeddings[word]), word))\n",
    "    \n",
    "sorted(scores)[:10]"
   ]
  },
  {
   "cell_type": "markdown",
   "metadata": {},
   "source": [
    "## Formal similarity"
   ]
  },
  {
   "cell_type": "code",
   "execution_count": 24,
   "metadata": {},
   "outputs": [],
   "source": [
    "def levenshtein(s1, s2):\n",
    "    \n",
    "    \"\"\"\n",
    "    Description\n",
    "    ---------------\n",
    "    Computes the Levenshtein distance between two strings.\n",
    "    \n",
    "    Parameters\n",
    "    ---------------\n",
    "    s1, s2 : The two strings we want to compare.\n",
    "    \n",
    "    Returns\n",
    "    ---------------\n",
    "    Float, the Levenshtein distance between s1 and s2\n",
    "    \"\"\"\n",
    "    \n",
    "    s1, s2 = unidecode.unidecode(s1.lower()), unidecode.unidecode(s2.lower())\n",
    "    n1, n2 = len(s1), len(s2)\n",
    "    lev = np.zeros((n1 + 1, n2 + 1))\n",
    "    for i in range(n1 + 1):\n",
    "        lev[i, 0] = i\n",
    "        \n",
    "    for j in range(n2 + 1):\n",
    "        lev[0, j] = j\n",
    "        \n",
    "    for i in range(1, n1 + 1):\n",
    "        for j in range(1, n2 + 1):\n",
    "            if s1[i-1] == s2[j-1]:\n",
    "                lev[i, j] = min(lev[i-1, j] + 1, lev[i, j-1] + 1, lev[i-1, j-1])\n",
    "                \n",
    "            else:\n",
    "                lev[i, j] = min(lev[i-1, j] + 1, lev[i, j-1] + 1, lev[i-1, j-1] + 1)\n",
    "                \n",
    "    return lev[n1, n2]\n",
    "\n",
    "def damerau_levenshtein(s1, s2):\n",
    "    \n",
    "    \"\"\"\n",
    "    Description\n",
    "    ---------------\n",
    "    Computes the Damerau-Levenshtein distance between two strings.\n",
    "    \n",
    "    Parameters\n",
    "    ---------------\n",
    "    s1, s2 : The two strings we want to compare.\n",
    "    \n",
    "    Returns\n",
    "    ---------------\n",
    "    Float, the Damerau-Levenshtein distance between s1 and s2\n",
    "    \"\"\"\n",
    "    \n",
    "#     s1, s2 = unidecode.unidecode(s1.lower()), unidecode.unidecode(s2.lower())\n",
    "    s1, s2 = s1.lower(), s2.lower()\n",
    "    n1, n2 = len(s1), len(s2)\n",
    "    alphabet = ['!', '\"', '#', '$', '%', '&', '(', ')', \"'\", '*', '+', \n",
    "                ',', '-', '.', '/', ':', ';', '<', '=', '>', '?', '@', \n",
    "                '[', ']', '^', '_', '`', '{', '|', '}', '~', ' ', '°',\n",
    "                'é', 'è', 'ë', 'ê', 'à', 'á', 'â', 'ä', 'ç', 'î', 'ï', \n",
    "                'ô', 'ó', 'ö', 'ù', 'û', 'ß', '©', '±', 'µ', '½'] + [str(i) for i in range(10)] + ['a', 'b', 'c', 'd', 'e', 'f', 'g', 'h', 'i', 'j', 'k', 'l', 'm', \n",
    "                'n', 'o', 'p', 'q', 'r', 's', 't', 'u', 'v', 'w', 'x', 'y', 'z']\n",
    "    for char in s1 + s2:\n",
    "        if char not in alphabet:\n",
    "            return 10\n",
    "        \n",
    "    dict_alphabet_indices = {char:index for (index, char) in zip(range(len(alphabet)), alphabet)}\n",
    "    da, d = np.zeros(len(alphabet)).astype(np.int8), np.zeros((n1 + 2, n2 + 2)).astype(np.int8)\n",
    "    maxdist = n1 + n2\n",
    "    d[0, 0] = maxdist\n",
    "    for i in range(n1 + 1):\n",
    "        d[i+1, 0] = maxdist\n",
    "        d[i+1, 1] = i\n",
    "        \n",
    "    for j in range(n2 + 1):\n",
    "        d[0, j+1] = maxdist\n",
    "        d[1, j+1] = j\n",
    "        \n",
    "    for i in range(1, n1 + 1):\n",
    "        db = 0\n",
    "        for j in range(1, n2 + 1):\n",
    "            k = da[dict_alphabet_indices[s2[j-1]]]\n",
    "            l = db\n",
    "            if s1[i-1] == s2[j-1]:\n",
    "                cost = 0\n",
    "                db = j\n",
    "                \n",
    "            else:\n",
    "                cost = 1\n",
    "                \n",
    "            d[i+1, j+1] = min(d[i, j] + cost, d[i+1, j] + 1, \n",
    "                              d[i, j+1] + 1, d[k, l] + (i-k-1)+1+(j-l-1))\n",
    "            da[dict_alphabet_indices[s1[i-1]]] = i\n",
    "            \n",
    "    return d[-1, -1]\n",
    "    "
   ]
  },
  {
   "cell_type": "markdown",
   "metadata": {},
   "source": [
    "## Language model"
   ]
  },
  {
   "cell_type": "code",
   "execution_count": 25,
   "metadata": {},
   "outputs": [],
   "source": [
    "def unigram(data):\n",
    "    \n",
    "    \"\"\"\n",
    "    Description\n",
    "    ---------------\n",
    "    Compute a unigram model from the corpus data.\n",
    "    \n",
    "    Parameters\n",
    "    ---------------\n",
    "    data : List of bracketed strings\n",
    "    \n",
    "    Returns\n",
    "    ---------------\n",
    "    np.array of shape (#words_in_data,) containing the probabilities p(word).\n",
    "    \"\"\"\n",
    "  \n",
    "    probas = np.zeros(len(terminals))\n",
    "    for bracketed in data:\n",
    "        t = Tree.fromstring(bracketed)\n",
    "        for word in t.leaves():\n",
    "            probas[dict_terminals_indices[word]] += 1\n",
    "\n",
    "    return probas/probas.sum()\n",
    "\n",
    "def bigram(data):\n",
    "    \n",
    "    \"\"\"\n",
    "    Description\n",
    "    ---------------\n",
    "    Compute a bigram model from the corpus data.\n",
    "    \n",
    "    Parameters\n",
    "    ---------------\n",
    "    data : List of bracketed strings\n",
    "    \n",
    "    Returns\n",
    "    ---------------\n",
    "    np.array of shape (#words_in_data, #words_in_data) containing the probabilities p(word_current|word_previous).\n",
    "    \"\"\"\n",
    "  \n",
    "    probas = np.full((len(terminals), len(terminals)), 1e-50)\n",
    "    for bracketed in data:\n",
    "        t = Tree.fromstring(bracketed)\n",
    "        sentence = t.leaves()\n",
    "        if len(sentence) >= 2:\n",
    "            for i in range(1, len(sentence)):\n",
    "                index_1 = dict_terminals_indices[sentence[i - 1]] # The previous word in the sequene.\n",
    "                index_2 = dict_terminals_indices[sentence[i]] # The current word in the sequene.\n",
    "                probas[index_1, index_2] += 1\n",
    "\n",
    "        else:\n",
    "            continue\n",
    "\n",
    "    return probas/((probas.sum(axis = 1).reshape(-1, 1)))"
   ]
  },
  {
   "cell_type": "code",
   "execution_count": 26,
   "metadata": {},
   "outputs": [],
   "source": [
    "probas_unigram, probas_bigram = unigram(data), bigram(data)"
   ]
  },
  {
   "cell_type": "markdown",
   "metadata": {},
   "source": [
    "## Assigning OOV words to the training lexique"
   ]
  },
  {
   "cell_type": "code",
   "execution_count": 27,
   "metadata": {},
   "outputs": [],
   "source": [
    "lower_case = lambda s : s.lower()\n",
    "terminals_lower = set(map(lower_case, terminals))\n",
    "dict_terminals_lower_indices = {terminal.lower() : index for (terminal, index) in dict_terminals_indices.items()}\n",
    "dict_terminals_lower_terminals = {terminal.lower() : terminal for terminal in terminals}\n",
    "\n",
    "dict_terminals_embeddings = {terminal : embedding for (terminal, embedding) in dict_words_embeddings.items() if terminal in terminals}\n",
    "terminals_embedded = set(dict_terminals_embeddings.keys())"
   ]
  },
  {
   "cell_type": "code",
   "execution_count": 28,
   "metadata": {},
   "outputs": [
    {
     "data": {
      "text/plain": [
       "7455"
      ]
     },
     "execution_count": 28,
     "metadata": {},
     "output_type": "execute_result"
    }
   ],
   "source": [
    "len(terminals_embedded)"
   ]
  },
  {
   "cell_type": "code",
   "execution_count": 29,
   "metadata": {},
   "outputs": [
    {
     "data": {
      "text/plain": [
       "9632"
      ]
     },
     "execution_count": 29,
     "metadata": {},
     "output_type": "execute_result"
    }
   ],
   "source": [
    "len(terminals)"
   ]
  },
  {
   "cell_type": "code",
   "execution_count": 30,
   "metadata": {},
   "outputs": [],
   "source": [
    "def closest_formal(s, terminals, n_words = 5, swap = True):\n",
    "    \n",
    "    \"\"\"\n",
    "    Description\n",
    "    ---------------\n",
    "    Get the terminals within a lower Damerau-Levenshtein (or Levenshtein) distance of thresh to the word s.\n",
    "    \n",
    "    Parameters\n",
    "    ---------------\n",
    "    s         : String, the oov word\n",
    "    terminals : Set of words we have in our corpus.\n",
    "    thresh    : Int, the threshold of Damerau-Levenshtein distance.\n",
    "    swap      : Boolean, True  : Use Damerau-Levenshtein distance.\n",
    "                         False : Use Levenshtein distance\n",
    "    \n",
    "    Returns\n",
    "    ---------------\n",
    "    Dictionnary of the closest words.\n",
    "        keys   : words in terminals.\n",
    "        values : distance(s, word)\n",
    "    \"\"\"\n",
    "    \n",
    "    if swap:\n",
    "        fun = lambda word : damerau_levenshtein(s, word)\n",
    "        \n",
    "    else:\n",
    "        fun = lambda word : levenshtein(s, word)\n",
    "        \n",
    "#     return {word : score for word, score in zip(terminals, list(map(fun, terminals))) if score <= thresh}\n",
    "#     return {dict_terminals_lower_terminals[word] : score for score, word in sorted(zip(list(map(fun, terminals)), terminals))[:n_words]}\n",
    "    return {word : score for score, word in sorted(zip(list(map(fun, terminals)), terminals))[:n_words]}"
   ]
  },
  {
   "cell_type": "code",
   "execution_count": 65,
   "metadata": {},
   "outputs": [],
   "source": [
    "def closest_embedding(s, terminals, n_words = 10):\n",
    "    \n",
    "    \"\"\"\n",
    "    Description\n",
    "    ---------------\n",
    "    Get the terminals within a lower Damerau-Levenshtein (or Levenshtein) distance of thresh to the word s.\n",
    "    \n",
    "    Parameters\n",
    "    ---------------\n",
    "    s         : String, oov word\n",
    "    terminals : Set of words we have in our corpus.\n",
    "    n_words   : Int, number of closest words to s.\n",
    "    \n",
    "    Returns\n",
    "    ---------------\n",
    "    Dictionnary of the closest words.\n",
    "        keys   : words in terminals.\n",
    "        values : cosine_distance(s, word)\n",
    "    \"\"\"\n",
    "    \n",
    "    fun = lambda word : distance.cosine(dict_words_embeddings[s], dict_terminals_embeddings[word])\n",
    "#     fun = lambda word : (distance.cosine(dict_words_embeddings[s], dict_terminals_embeddings[word]), word)\n",
    "#     return {dict_terminals_lower_terminals[score_word[1]] : score_word[0] for score_word in sorted(zip(list(map(fun, terminals)), terminals))[:n_words]}\n",
    "    return {score_word[1] : score_word[0] for score_word in sorted(zip(map(fun, terminals_embedded), terminals_embedded))[:n_words]}"
   ]
  },
  {
   "cell_type": "code",
   "execution_count": 66,
   "metadata": {},
   "outputs": [
    {
     "name": "stdout",
     "output_type": "stream",
     "text": [
      "560 ms ± 4.41 ms per loop (mean ± std. dev. of 7 runs, 1 loop each)\n"
     ]
    }
   ],
   "source": [
    "s = 'mer'\n",
    "%timeit closest_embedding(s, terminals, n_words = 10)\n",
    "# closest_embedding(s, terminals, n_words = 10)\n",
    "# a = closest_embedding(s, terminals, n_words = 10)\n",
    "# %timeit sorted(a)\n",
    "# del a"
   ]
  },
  {
   "cell_type": "code",
   "execution_count": 32,
   "metadata": {},
   "outputs": [],
   "source": [
    "# def closest_embedding(s, terminals, n_words = 10):\n",
    "    \n",
    "#     \"\"\"\n",
    "#     Description\n",
    "#     ---------------\n",
    "#     Get the terminals within a lower Damerau-Levenshtein (or Levenshtein) distance of thresh to the word s.\n",
    "    \n",
    "#     Parameters\n",
    "#     ---------------\n",
    "#     s         : String, oov word\n",
    "#     terminals : Set of words we have in our corpus.\n",
    "#     n_words   : Int, number of closest words to s.\n",
    "    \n",
    "#     Returns\n",
    "#     ---------------\n",
    "#     Dictionnary of the closest words.\n",
    "#         keys   : words in terminals.\n",
    "#         values : cosine_distance(s, word)\n",
    "#     \"\"\"\n",
    "    \n",
    "#     fun = lambda word : distance.cosine(dict_words_embeddings[s], dict_words_embeddings[word]) if word in dict_words_embeddings else 2.\n",
    "# #     fun = lambda word : (distance.cosine(dict_words_embeddings[s], dict_terminals_embeddings[word]), word)\n",
    "# #     return {dict_terminals_lower_terminals[score_word[1]] : score_word[0] for score_word in sorted(zip(list(map(fun, terminals)), terminals))[:n_words]}\n",
    "#     return {score_word[1] : score_word[0] for score_word in sorted(zip(list(map(fun, terminals)), terminals))[:n_words]}"
   ]
  },
  {
   "cell_type": "code",
   "execution_count": 81,
   "metadata": {},
   "outputs": [
    {
     "name": "stdout",
     "output_type": "stream",
     "text": [
      "581 ms ± 38.6 ms per loop (mean ± std. dev. of 7 runs, 1 loop each)\n"
     ]
    }
   ],
   "source": [
    "s = 'mer'\n",
    "%timeit closest_formal(s, terminals, swap = False)\n",
    "# closest_embedding(s, terminals)"
   ]
  },
  {
   "cell_type": "code",
   "execution_count": 33,
   "metadata": {},
   "outputs": [],
   "source": [
    "def choose_words(sentence, terminals, probas_unigram, probas_bigram, swap = True, n_words = 10, n_words_formal = 5):\n",
    "    \n",
    "    \"\"\"\n",
    "    Description\n",
    "    ---------------\n",
    "    Given a word s of the sentence, start by checking if it is in the training lexique, if not then choose a similar word \n",
    "    from the lexique using the formal and embedding similarities and a bigram language model trained on the training corpus.\n",
    "    \n",
    "    Parameters\n",
    "    ---------------\n",
    "    sentence       : List of strings containing tokens of a sentence.\n",
    "    terminals      : Set of all words in the training corpus.\n",
    "    probas_unigram : 1D np.array of shape (len(terminals),), unigram model trained on the training corpus.\n",
    "    probas_bigram  : 2D np.array of shape (len(terminals), len(terminals)), bigram model trained on the training corpus.\n",
    "    thresh, swap,  : Parameters of closest_formal (see its doc).\n",
    "    n_words        : Parameters of closest_embedding (see its doc).\n",
    "    \n",
    "    Returns\n",
    "    ---------------\n",
    "    List of strings containing the closest words to the sentence from the training corpus.\n",
    "    \"\"\"\n",
    "    \n",
    "    log_proba = 0\n",
    "    sent = sentence.copy()\n",
    "#     print(\" \".join(sentence))\n",
    "    for i in range(len(sent)):\n",
    "        s = sent[i]\n",
    "        if s in terminals:\n",
    "            log_proba += math.log(probas_unigram[dict_terminals_indices[s]]) if i==0 else math.log(probas_bigram[dict_terminals_indices[sent[i-1]], dict_terminals_indices[s]])\n",
    "            continue\n",
    "\n",
    "        else:\n",
    "#             print(s + ' is oov')\n",
    "            words_formal = closest_formal(s, terminals, n_words_formal, swap)\n",
    "            words_embedding = closest_embedding(s, terminals, n_words) if s in dict_words_embeddings else {}\n",
    "            words_proposed = set(words_formal.keys()) | set(words_embedding.keys()) # Set of the proposed words\n",
    "            if i == 0:\n",
    "                scores = []\n",
    "                for word in words_proposed:\n",
    "                    unigram = math.log(probas_unigram[dict_terminals_indices[word]])\n",
    "                    scores.append((unigram, word))\n",
    "                \n",
    "            else:\n",
    "                scores = []\n",
    "                for word in words_proposed:\n",
    "                    bigram = math.log(probas_bigram[dict_terminals_indices[sent[i-1]], dict_terminals_indices[word]])\n",
    "                    score = log_proba + bigram\n",
    "                    scores.append((score, word))\n",
    "                \n",
    "            scores.sort(reverse = True)\n",
    "            sent[i] = scores[0][1]\n",
    "            log_proba += scores[0][0]\n",
    "            \n",
    "#     print(\" \".join(sent))\n",
    "    return sent"
   ]
  },
  {
   "cell_type": "code",
   "execution_count": 34,
   "metadata": {},
   "outputs": [],
   "source": [
    "# %timeit choose_words(sentence, terminals, probas_unigram, probas_bigram, n_words_formal=50, n_words=50, swap=False)"
   ]
  },
  {
   "cell_type": "code",
   "execution_count": 105,
   "metadata": {},
   "outputs": [
    {
     "name": "stdout",
     "output_type": "stream",
     "text": [
      "- 19 janvier 2004 : le juge Armand Riberolles clôt ses investigations et l' instruction de l' affaire des HLM de Paris .\n",
      "- 19 janvier 2004 : le juge Armand Riberolles évoqua ses investigations et l' instruction de l' affaire des HLM de Paris .\n"
     ]
    }
   ],
   "source": [
    "index = np.random.randint(0, 309)\n",
    "t = Tree.fromstring('( ' + ignore_functional_labels(data_test[0]) + ')')\n",
    "sentence = t.leaves().copy()\n",
    "# sentence = \"guerre d' indochine\".split(' ')\n",
    "print(\" \".join(sentence))\n",
    "# print('\\n')\n",
    "# sent = choose_words(sentence, terminals_lower, probas_unigram, probas_bigram, n_words_formal=5, swap=False)\n",
    "sent = choose_words(sentence, terminals, probas_unigram, probas_bigram, n_words_formal=5, swap=False)\n",
    "print(\" \".join(sent))"
   ]
  },
  {
   "cell_type": "code",
   "execution_count": 97,
   "metadata": {},
   "outputs": [],
   "source": [
    "scores, back = cyk(sent)"
   ]
  },
  {
   "cell_type": "code",
   "execution_count": 98,
   "metadata": {},
   "outputs": [
    {
     "data": {
      "image/png": "[encoded data removed]",
      "text/plain": [
       "Tree('', [Tree('SENT', [Tree('PONCT', ['-']), Tree('NP', [Tree('ADJ', ['19']), Tree('NC', ['janvier']), Tree('NC', ['2004'])]), Tree('PONCT', [':']), Tree('NP', [Tree('DET', ['le']), Tree('NC', ['juge']), Tree('NPP', ['Armand']), Tree('NPP', ['Riberolles'])]), Tree('VN', [Tree('V', ['clôt'])]), Tree('NP', [Tree('DET', ['ses']), Tree('NC', ['investigations']), Tree('COORD', [Tree('CC', ['et']), Tree('NP', [Tree('DET', [\"l'\"]), Tree('NC', ['instruction']), Tree('PP', [Tree('P', ['de']), Tree('NP', [Tree('DET', [\"l'\"]), Tree('NC', ['affaire']), Tree('PP', [Tree('P', [Tree('D', ['des'])]), Tree('NP', [Tree('NC', ['HLM']), Tree('PP', [Tree('P', ['de']), Tree('NP', [Tree('NPP', ['Paris'])])])])])])])])])]), Tree('PONCT', ['.'])])])"
      ]
     },
     "execution_count": 98,
     "metadata": {},
     "output_type": "execute_result"
    }
   ],
   "source": [
    "t.chomsky_normal_form(horzMarkov=2)\n",
    "t.collapse_unary(True, True)\n",
    "t.un_chomsky_normal_form()\n",
    "t"
   ]
  },
  {
   "cell_type": "code",
   "execution_count": 99,
   "metadata": {},
   "outputs": [
    {
     "data": {
      "image/png": "[encoded data removed]",
      "text/plain": [
       "Tree('', [Tree('Not-inGrammar', [Tree('Not-in-Grammar', ['-']), Tree('Not-in-Grammar', ['19']), Tree('Not-in-Grammar', ['janvier']), Tree('Not-in-Grammar', ['2004']), Tree('Not-in-Grammar', [':']), Tree('Not-in-Grammar', ['le']), Tree('Not-in-Grammar', ['juge']), Tree('Not-in-Grammar', ['Armand']), Tree('Not-in-Grammar', ['Riberolles']), Tree('Not-in-Grammar', ['clôt']), Tree('Not-in-Grammar', ['ses']), Tree('Not-in-Grammar', ['investigations']), Tree('Not-in-Grammar', ['et']), Tree('Not-in-Grammar', [\"l'\"]), Tree('Not-in-Grammar', ['instruction']), Tree('Not-in-Grammar', ['de']), Tree('Not-in-Grammar', [\"l'\"]), Tree('Not-in-Grammar', ['affaire']), Tree('Not-in-Grammar', ['des']), Tree('Not-in-Grammar', ['HLM']), Tree('Not-in-Grammar', ['de']), Tree('Not-in-Grammar', ['Paris']), Tree('Not-in-Grammar', ['.'])])])"
      ]
     },
     "execution_count": 99,
     "metadata": {},
     "output_type": "execute_result"
    }
   ],
   "source": [
    "t_test = Tree.fromstring(build_parentheses(back, scores, sentence))\n",
    "t_test.un_chomsky_normal_form()\n",
    "t_test"
   ]
  },
  {
   "cell_type": "code",
   "execution_count": 86,
   "metadata": {},
   "outputs": [
    {
     "name": "stdout",
     "output_type": "stream",
     "text": [
      "Parse recall : 73.08%\n",
      "Parse precision : 67.86%\n",
      "\n",
      "POS recall : 93.02%\n",
      "POS precision : 100.00%\n"
     ]
    }
   ],
   "source": [
    "score(\" \".join(str(t).split()), \" \".join(str(t_test).split()))"
   ]
  },
  {
   "cell_type": "markdown",
   "metadata": {},
   "source": [
    "## Evaluation"
   ]
  },
  {
   "cell_type": "code",
   "execution_count": 35,
   "metadata": {},
   "outputs": [],
   "source": [
    "# parses = []\n",
    "# from time import time\n",
    "# start_time = time()\n",
    "# for i, bracketed in enumerate(data_test):\n",
    "#     t = Tree.fromstring(bracketed)\n",
    "#     sentence = t.leaves()\n",
    "#     sentence_oov = choose_words(sentence, terminals, probas_unigram, probas_bigram, n_words_formal=5, swap=False)\n",
    "#     scores, back = cyk(sentence_oov)\n",
    "#     t_test = Tree.fromstring(build_parentheses(back, scores, sentence_oov))\n",
    "#     t_test.un_chomsky_normal_form()\n",
    "#     parses.append(\" \".join(str(t_test).split()))\n",
    "#     print('finished sentence %d' %i)\n",
    "#     print('\\n')\n",
    "    \n",
    "# print(time() - start_time)"
   ]
  },
  {
   "cell_type": "code",
   "execution_count": 100,
   "metadata": {},
   "outputs": [
    {
     "data": {
      "text/plain": [
       "'( (SENT (PONCT -) (NP (NC octobre) (NC 2005)) (PONCT :) (NP (DET le) (NC parquet) (PP (P de) (NP (NPP Paris)))) (VN (V relient)) (NP (DET un) (PREF non-) (NC lieu)) (PP (P en_faveur_de) (NP (NPP Jean) (NPP Tiberi))) (PONCT ,) (VPpart (VPP accordé) (PP (P par) (NP (DET le) (NC juge) (NPP Armand) (NPP Riberolles)))) (PONCT .)))'"
      ]
     },
     "execution_count": 100,
     "metadata": {},
     "output_type": "execute_result"
    }
   ],
   "source": [
    "parses[1]"
   ]
  },
  {
   "cell_type": "code",
   "execution_count": 35,
   "metadata": {},
   "outputs": [],
   "source": [
    "import multiprocessing as mp\n",
    "from multiprocessing import Pool\n",
    "\n",
    "def multiprocess_func(func, args, n_jobs=-1):\n",
    "    if n_jobs == -1:\n",
    "        n_jobs = mp.cpu_count()\n",
    "    start = time()\n",
    "    with Pool(n_jobs) as p:\n",
    "        res = p.map(func, args)\n",
    "    print(\"Time taken = {0:.5f}\".format(time() - start))\n",
    "    return res"
   ]
  },
  {
   "cell_type": "code",
   "execution_count": 58,
   "metadata": {},
   "outputs": [],
   "source": [
    "def parse(sentence):\n",
    "    sentence = sentence.split(' ')\n",
    "    sentence_oov = choose_words(sentence, terminals, probas_unigram, probas_bigram, n_words_formal=5, swap=False)\n",
    "#     print(\" \".join(sentence_oov))\n",
    "    scores, back = cyk(sentence_oov)\n",
    "    bracketed = build_parentheses(back, scores, sentence_oov)\n",
    "    t_test = Tree.fromstring(bracketed)\n",
    "    t_test.un_chomsky_normal_form()\n",
    "    return \" \".join(str(t_test).split())"
   ]
  },
  {
   "cell_type": "code",
   "execution_count": 38,
   "metadata": {},
   "outputs": [],
   "source": [
    "data_test_sentences = []\n",
    "for bracketed in data_test:\n",
    "    t = Tree.fromstring(bracketed)\n",
    "    data_test_sentences.append(\" \".join(t.leaves()))\n",
    "    "
   ]
  },
  {
   "cell_type": "code",
   "execution_count": 43,
   "metadata": {},
   "outputs": [],
   "source": [
    "sentence = data_test_sentences[8].split(' ')\n",
    "sentence_oov = choose_words(sentence, terminals, probas_unigram, probas_bigram, n_words_formal=5, swap=False)\n",
    "scores, back = cyk(sentence_oov)"
   ]
  },
  {
   "cell_type": "code",
   "execution_count": 45,
   "metadata": {},
   "outputs": [],
   "source": [
    "bracketed = build_parentheses(back, scores, sentence)"
   ]
  },
  {
   "cell_type": "code",
   "execution_count": 53,
   "metadata": {},
   "outputs": [
    {
     "name": "stdout",
     "output_type": "stream",
     "text": [
      "- Juin 2005 : l' ex- conseiller général RPR des Hauts-de-Seine Didier Schuller et le député-maire -LRB- UMP -RRB- de Levallois-Perret Patrick Balkany comparaissent devant le tribunal correctionnel de Créteil dans l' affaire des HLM des Hauts-de-Seine .\n",
      "- Juin 2005 : l' ex- conseiller général RPR des Hauts-de-Seine Didier Schuller et le septembre -LRB- UMP -RRB- de Levallois-Perret Patrick Balkany comparaissent devant le tribunal correctionnel de Créteil dans l' affaire des HLM des Hauts-de-Seine .\n"
     ]
    }
   ],
   "source": [
    "sentence = data_test_sentences[3]\n",
    "sentence = sentence.split(' ')\n",
    "print(\" \".join(sentence))\n",
    "sentence_oov = choose_words(sentence, terminals, probas_unigram, probas_bigram, n_words_formal=5, swap=False)\n",
    "print(\" \".join(sentence_oov))"
   ]
  },
  {
   "cell_type": "code",
   "execution_count": 54,
   "metadata": {},
   "outputs": [],
   "source": [
    "scores, back = cyk(sentence_oov)"
   ]
  },
  {
   "cell_type": "code",
   "execution_count": 55,
   "metadata": {},
   "outputs": [
    {
     "name": "stdout",
     "output_type": "stream",
     "text": [
      "SENT\n"
     ]
    }
   ],
   "source": [
    "bracketed = build_parentheses(back, scores, sentence)"
   ]
  },
  {
   "cell_type": "code",
   "execution_count": 56,
   "metadata": {},
   "outputs": [
    {
     "data": {
      "text/plain": [
       "\"( (SENT (PONCT -) (SENT|<NP-PONCT> (NP (NC Juin) (NC 2005)) (SENT|<PONCT-NP> (PONCT :) (SENT|<NP-PONCT> (NP (DET l') (NP|<PREF-NC> (PREF ex-) (NP|<NC-AP> (NC conseiller) (NP|<AP-NPP> (AP+ADJ général) (NP|<NPP-PP> (NPP RPR) (PP (P+D des) (NP (NPP Hauts-de-Seine) (NP|<NPP-NPP> (NPP Didier) (NP|<NPP-COORD> (NPP Schuller) (COORD (CC et) (NP (DET le) (NC député-maire)))))))))))) (SENT|<PONCT-NP> (PONCT -LRB-) (SENT|<NP-PONCT> (NP (NPP UMP) (NP|<PONCT-Srel> (PONCT -RRB-) (Srel (PP (P de) (NP+NPP Levallois-Perret)) (Srel|<NP-VN> (NP (NPP Patrick) (NPP Balkany)) (Srel|<VN-PP> (VN+V comparaissent) (Srel|<PP-PP> (PP (P devant) (NP (DET le) (NP|<NC-AP> (NC tribunal) (NP|<AP-PP> (AP+ADJ correctionnel) (PP (P de) (NP+NPP Créteil)))))) (PP (P dans) (NP (DET l') (NP|<NC-PP> (NC affaire) (PP (P+D des) (NP (NC HLM) (PP (P+D des) (NP+NPP Hauts-de-Seine))))))))))))) (PONCT .))))))))\""
      ]
     },
     "execution_count": 56,
     "metadata": {},
     "output_type": "execute_result"
    }
   ],
   "source": [
    "bracketed"
   ]
  },
  {
   "cell_type": "code",
   "execution_count": 61,
   "metadata": {},
   "outputs": [
    {
     "data": {
      "text/plain": [
       "59"
      ]
     },
     "execution_count": 61,
     "metadata": {},
     "output_type": "execute_result"
    }
   ],
   "source": [
    "len(sentence_oov)"
   ]
  },
  {
   "cell_type": "code",
   "execution_count": 63,
   "metadata": {},
   "outputs": [
    {
     "name": "stdout",
     "output_type": "stream",
     "text": [
      "- Le 14 mars 2006 , des peines de prison avec sursis et des amendes ont été vérifiées contre 41 des 49 prévenus du procès de l' office public HLM de Paris -LRB- OPAC -RRB- , considérés comme les acteurs ou les serviteurs d' un \" système de fraude de grande envergure , parfaitement organisé \" et destiné à \" constituer des machines vivantes \" , selon les mots de la vice-président , Chantal de leurs .\n"
     ]
    },
    {
     "data": {
      "text/plain": [
       "'( (SENT (PONCT -) (NP (DET Le) (ADJ 14) (NC mars) (NC 2006)) (PONCT ,) (NP (DET des) (NC peines) (PP (P de) (NP (NC prison))) (PP (P avec) (NP (NC sursis)) (COORD (CC et) (NP (DET des) (NC amendes))))) (VN (V ont) (VPP été) (VPP vérifiées)) (PP (P contre) (NP (DET 41) (PP (P (D des)) (NP (DET 49) (NC prévenus) (PP (P (D du)) (NP (NC procès))) (PP (P de) (NP (DET l\\') (NC office) (AP (ADJ public)))))) (NC HLM) (PP (P de) (NP (NPP Paris))) (PONCT -LRB-) (NP (NPP OPAC)) (PONCT -RRB-))) (PONCT ,) (VPpart (VPP considérés) (PP (P comme) (NP (DET les) (NC acteurs) (COORD (CC ou) (NP (DET les) (NC serviteurs) (PP (P d\\') (NP (DET un) (PONCT \") (NC système) (PP (P de) (NP (NC fraude))))))) (PP (P de) (NP (ADJ grande) (NC envergure)))))) (PONCT ,) (VPpart (ADV parfaitement) (VPP organisé) (PONCT \") (COORD (CC et) (VPpart (VPP destiné) (VPinf (P à) (PONCT \") (VN (VINF constituer)) (NP (DET des) (NC machines) (AP (ADJ vivantes))))))) (PONCT \") (Sint (PONCT ,) (PP (P selon) (NP (DET les) (NC mots) (PP (P de) (NP (DET la) (NC vice-président))))) (PONCT ,) (NP (NPP Chantal) (PP (P de) (DET leurs)))) (PONCT .)))'"
      ]
     },
     "execution_count": 63,
     "metadata": {},
     "output_type": "execute_result"
    }
   ],
   "source": [
    "parse(data_test_sentences[10])"
   ]
  },
  {
   "cell_type": "code",
   "execution_count": 47,
   "metadata": {},
   "outputs": [
    {
     "name": "stdout",
     "output_type": "stream",
     "text": [
      "- 19 janvier 2004 : le juge Armand Riberolles évoqua ses investigations et l' instruction de l' affaire des HLM de Paris .\n",
      "- octobre 2005 : le parquet de Paris relient un non- lieu en_faveur_de Jean Tiberi , accordé par le juge Armand Riberolles .\n",
      "Il demande toutefois le renvoi devant le tribunal correctionnel de la majorité de la cinquantaine de personnes mises en examen .\n",
      "- Juin 2005 : l' ex- conseiller général RPR des Hauts-de-Seine Didier Schuller et le septembre -LRB- UMP -RRB- de Levallois-Perret Patrick Balkany comparaissent devant le tribunal correctionnel de Créteil dans l' affaire des HLM des Hauts-de-Seine .\n",
      "Le Procès en première instance\n",
      "- Le procès de l' affaire des HLM de Paris s' est déroulé dans l' efficacité du 23 décembre 2005 au 5 avril 2006 .\n",
      "- Les hommes politiques Ces de la capitale comme Jean Tiberi , Michel Roussin ou Jacques Chirac ont bénéficié de non- lieu , de tortures de forme ou de protection subsidiaire .\n",
      "Selon l' accusation : \" L' instruction n' est pas parvenue à établir formellement l' implication personnelle des responsables au_sein_de l' appareil politique du RPR . \"\n",
      "- En l' absence de tout responsable politique , c' est l' ancien directeur général de l' Office public HLM de Paris et élu correcte , Georges Pérol , qui fait figure de ce de toute de ce vaste système de motions de commissions par les entreprises et de renouvellement de procédures dans l' intervention de marchés publics .\n",
      "Contre lui , le parquet a requis quatre ans d' emprisonnement avec sursis , 50_000 euros d' amende et trois ans d' interactions des droits économiques et policiers .\n",
      "- Le 14 mars 2006 , des peines de prison avec sursis et des amendes ont été vérifiées contre 41 des 49 prévenus du procès de l' office public HLM de Paris -LRB- OPAC -RRB- , considérés comme les acteurs ou les serviteurs d' un \" système de fraude de grande envergure , parfaitement organisé \" et destiné à \" constituer des machines vivantes \" , selon les mots de la vice-président , Chantal de leurs .\n",
      "10\n"
     ]
    }
   ],
   "source": [
    "problems = []\n",
    "parses = []\n",
    "for index in range(len(data_test_sentences)):\n",
    "    try:\n",
    "        parses.append(parse(data_test_sentences[index]))\n",
    "        \n",
    "    except:\n",
    "        print(index)\n",
    "        break"
   ]
  },
  {
   "cell_type": "code",
   "execution_count": null,
   "metadata": {},
   "outputs": [],
   "source": []
  },
  {
   "cell_type": "code",
   "execution_count": 64,
   "metadata": {},
   "outputs": [
    {
     "name": "stdout",
     "output_type": "stream",
     "text": [
      "- 19 janvier 2004 : le juge Armand Riberolles évoqua ses investigations et l' instruction de l' affaire des HLM de Paris .\n",
      "Seuls les députés et le PS n' ont pas participé à ce transfert .\n",
      "- octobre 2005 : le parquet de Paris relient un non- lieu en_faveur_de Jean Tiberi , accordé par le juge Armand Riberolles .\n",
      "Il demande toutefois le renvoi devant le tribunal correctionnel de la majorité de la cinquantaine de personnes mises en examen .\n",
      "- Trois entreprises sont retenues : la Somatem , filiale de la départementale des eaux , la CO2 , filiale de l' ex- Compagnie générale des eaux -LRB- SCA , devenue Vivendi -RRB- , et le groupe américain Andrew .\n",
      "- Juin 2005 : l' ex- conseiller général RPR des Hauts-de-Seine Didier Schuller et le septembre -LRB- UMP -RRB- de Levallois-Perret Patrick Balkany comparaissent devant le tribunal correctionnel de Créteil dans l' affaire des HLM des Hauts-de-Seine .\n",
      "Le Procès en première instance\n",
      "- Le procès de l' affaire des HLM de Paris s' est déroulé dans l' efficacité du 23 décembre 2005 au 5 avril 2006 .\n",
      "Mais refuse de traiter avec Jean-Claude Méry et reçut un petit lot en rémunérés un autre intermédiaire .\n",
      "- L' enquête a montré que , pour cet appel d' offres , des commissions avaient été versées , via le règlement de factures d' \" assistance commerciale \" à l' une des sociétés de Jean-Claude Méry .\n",
      "La justice soupçonne que l' argent liquide ayant servi à régler les villes d' avion -LRB- pour un montant de 76.000 euros -RRB- puisse survenir de motions en sections des commissions occultes versées par les entreprises de déminage auriculaires des marchés publics , ce qui serait un abus de biens sociaux .\n",
      "- Les hommes politiques Ces de la capitale comme Jean Tiberi , Michel Roussin ou Jacques Chirac ont bénéficié de non- lieu , de tortures de forme ou de protection subsidiaire .\n",
      "Selon l' accusation : \" L' instruction n' est pas parvenue à établir formellement l' implication personnelle des responsables au_sein_de l' appareil politique du RPR . \"\n",
      "Les frais écartés aux frais du budget rural se montèrent à plusieurs dizaines de millions d' euros -LRB- 30 à 600 millions de francs -RRB- .\n",
      "Un dirigeant de la CO2 , lors_de l' intervention du marché , a ainsi déclaré au juge avoir remboursé de rares factures au mois de février 1992 \" parce_que la commission d' appel d' offres se réunissaient la semaine suivante \" .\n",
      "La réhabilitation des établissements d' Ile-de-France\n",
      "Jacques Chirac souligne que cette somme , qui n' apparaît pas dans sa déclaration de tourisme , provient des fonds secrets étudiés lorsqu' il était Premier ministre .\n",
      "Jean-Claude Méry , expliquait -il , lui avait mis \" le bras sous la gorge \" .\n",
      "Le dirigeant de la Somatem , lui , avait confirmé , sur procès-verbal , que ce marché devait entraîner \" le versement d' une commission d' entre 1 % et 5 % du montant du marché , dont le paiement devait s' effectuer étrangère \" .\n",
      "- Questionné le 11 mai 1998 , Jean-Claude Méry avait , pour sa part , reconnu avoir \" demandé 1,5 % du marché , qui [ lui ] ont été versés en Suisse \" , mais il n' avait pas évoqué de destination politique .\n",
      "- En l' absence de tout responsable politique , c' est l' ancien directeur général de l' Office public HLM de Paris et élu correcte , Georges Pérol , qui fait figure de ce de toute de ce vaste système de motions de commissions par les entreprises et de renouvellement de procédures dans l' intervention de marchés publics .\n",
      "Aucun lien n' a pu être établi entre ces régions et l' argent de la corruption des marchés d' Ile-de-France .\n",
      "Selon le procureur Jean-Pierre dentiste , rien ne s' opposait à une audition de Jacques Chirac comme témoin assisté dans cette affaire .\n",
      "conclusion électorales\n",
      "Cependant , par un jugement de la Cour de cassation , les tribunaux ne peuvent examiner les investigations menées sur les projets évoqués en sections par Jacques Chirac pour plusieurs millions de francs , qui avaient motivé en 2001 l' interrogatoire par les juges d' instruction de plusieurs proches du chef de l' État , dont sa fille Claude Chirac .\n",
      "Comme dans d'_autres affaires politico- financières françaises des années 1990 , plusieurs protagonistes de cette affaire appartiennent à des loges bourgeoises : Jean-Claude Méry , Jacky Chaisaz , Didier Schuller -LRB- loge violence de la gens -RRB- .\n",
      "Présidente des établissements depuis les premières lois de décentralisation , le conseil régional dirigé par le RPR et dont le président était Michel Giraud a reconnu , entre 1988 et 1997 , 24 milliards de francs de travaux de résolution , extension et construction dans 71 établissements , il a été mesuré 2 % de \" commissions occultes \" que se sont présentés ces grands partis , au redémarrage de leur représentation à l' assemblée régionale -LRB- 0,8 % pour la gauche et 1,2 % pour la droite -RRB- .\n",
      "Références\n",
      "Contre lui , le parquet a requis quatre ans d' emprisonnement avec sursis , 50_000 euros d' amende et trois ans d' interactions des droits économiques et policiers .\n",
      "- HLM de Paris : les seuls secrétaires du bâtiment à la voie - Libération - 2002-2004\n",
      "- Le Monde du 22 septembre 2000\n",
      "Catégories : Affaire politico- financière française .\n",
      "Financement illégal des partis .\n",
      "Le chef de l' État , qui dépend d' une immunité pénale pendant la durée de son mandat , n' a jamais soutenu en détail le dossier , expliquant simplement en 2000 qu' il ne \" pouvait pas croire \" à une corruption touchant droite et gauche .\n",
      "Enquête et instruction\n",
      "L' affaire fut instruite par le juge Armand Riberolles à_partir_de 1997 .\n",
      "Parlement pour la République .\n",
      "Paris .\n",
      "Histoire de Paris\n",
      "Affaire des marchés publics d' Ile-de-France\n",
      "- Le 14 mars 2006 , des peines de prison avec sursis et des amendes ont été vérifiées contre 41 des 49 prévenus du procès de l' office public HLM de Paris -LRB- OPAC -RRB- , considérés comme les acteurs ou les serviteurs d' un \" système de fraude de grande envergure , parfaitement organisé \" et destiné à \" constituer des machines vivantes \" , selon les mots de la vice-président , Chantal de leurs .\n",
      "Le 1er décembre 2000 , Michel Roussin , ancien ministre RPR et ancien directeur du cabinet de Jacques Chirac à la Mairie de Paris , est incarcéré , tandis_que soupçonné causette , ex- trésorière urgente du RPR , est mise en examen .\n",
      "Michel Roussin est libéré sous subvention et placé en liberté sous contrôle judiciaire le 5 décembre 2000 .\n",
      "Le juge Armand Riberolles a renvoyé Michel Roussin et 46 personnes devant le tribunal correctionnel .\n",
      "Le 11 février 2004 , l' ordonnance de renvoi devant le tribunal de 47 prévenus a été signé par le juge Armand Riberolles .\n",
      "Dans son ordonnance , Jacques Chirac est évoqué a plusieurs reprises , mais le juge ne peut pas poursuivre le président de la république qui est ouvert par son immunité .\n",
      "Procès en plénière\n",
      "L' affaire des marchés publics d' Ile-de-France ou Affaire des marchés électoraux des établissements d' Ile-de-France est un dossier épileptique des réactions du financement des partis politiques dans les années 1990 .\n",
      "Une cinquantaine de personnes ont été rejetée devant le tribunal correctionnel de Paris .\n",
      "Le procès en première instance s' est terminée le mercredi 26 octobre 2005 .\n",
      "Le tribunal a condamné 43 prévenus , dont 14 ont fait appel .\n",
      "- Michel Giraud a été condamné à 4 ans de prison avec sursis et 80_000 euros d' amende .\n",
      "À noter que le parquet avait demandé un an de prison ferme contre lui .\n",
      "évoquant dès le début de son réquisitoire , devant la 21e chambre du tribunal correctionnel de Paris , la question du financement politique , elle a relevé que \" l' instruction n' a pas trouvé de réponse et s' est intéressée au silence et aux flux financiers des sociétés offre \" .\n",
      "Cette affaire politico- financière française porte sur le financement par les marchés de construction et d' entretien des établissements des grands partis politiques français : RPR , SI , PS , gaulliste , organisés en tournoi .\n",
      "- Michel Roussin , reconnu coupable de complicité et recel de corruption , a été condamné à 4 ans de prison avec sursis et une amende de 50_000 euros .\n",
      "- 5 avril 2006 : dernier jour du procès des HLM de Paris consacré aux plaisirs .\n",
      "Pendant deux mois et demi de débats , une cinquantaine de chefs d' entreprise ont été évalués et ont reconnu avoir versé des fonds contre l' obtention de marchés des HLM de Paris .\n",
      "Selon l' accusation , les entreprises qui se verront offrir des marchés de construction des établissements d' Ile-de-France puissent verser 2 % de leurs stocks aux partis : RPR , PS , Parti communiste .\n",
      "Aucun financement politique occulte n' a pu être mis en évidence .\n",
      "Cette peine utilise une fragilisation des Droits économiques , volontaires et de famille pendant une durée de cinq ans .\n",
      "- Guy Dr , député UMP , maire sportif du 110 mètres haies en 1976 et ministre des ports RPR de 1995 à 1997 , a été condamné à 15 mois de prison avec sursis et 50_000 euros d' amende pour un emploi fictif .\n",
      "La plus grosse part -LRB- 1,2 % -RRB- du \" recel \" revint au RPR , alors dirigé par Jacques Chirac , présidée par Michel Roussin .\n",
      "- Ceausescu tissé\n",
      "- Guy Dr\n",
      "- Gérard longueur\n",
      "Catégories : Affaire politico- financière française .\n",
      "Affaire des marchés publics d' Ile-de-France .\n",
      "Financement illégal du RPR\n",
      "Guy Dr a été incarcéré en mai 2006 par le président Jacques Chirac .\n",
      "En cinq ans , pour la seule période comprise entre 1990 et 1995 , le RPR utilisera 53 millions de francs , le PS arrive en deuxième position , avec 6,7 millions , suivi du Parti communiste -LRB- 2,6 millions -RRB- et du RPR -LRB- 21 millions -RRB- .\n",
      "Affaire des résultats satisfaisants du calcium\n",
      "L' utilisation de sociétés basées dans des partis sociaux -LRB- voir société parisienne et judiciaires suisse -RRB- a tenté de saisir les flux financiers .\n",
      "Les marchés électoraux\n",
      "Les ascenseurs des HLM de Paris\n",
      "Son réfrigérateur judiciaire ainsi vérifié , Guy Dr a pu garder son siège de membre du Comité international sportif -LRB- UMP -RRB- et les avantages et subventions de cette fonction .\n",
      "doit , au_total , un_peu_plus de 150 millions de francs ont été versés par les grands groupes : Thomson , Thales , internationales , QUEL et Générale des eaux .\n",
      "protagonistes\n",
      "- Michel Roussin , ex- bras droit de Jacques Chirac à la mairie de Paris .\n",
      "- Jean-François donné , élu économisé ressortissant de fédération électricité , a été condamné à un an de prison ferme -LRB- trois ans de prison dont deux avec sursis -RRB- .\n",
      "- Le contrat de sécurité et de résolution des 3_862 tâches d' ascenseurs des établissements d' HLM parisiens est présenté en 1992 .\n",
      "- soupçonné causette , trésorière occulte du RPR , successeur de l' UMP .\n",
      "Le marché est important : 2,5 milliards de francs sur quinze ans , soit un budget annuel de 10 millions de francs .\n",
      "- Jean-Claude Méry , ancien privé de fonds occulte du RPR , décédé .\n",
      "- Gérard longueur , l' ancien président du Parti communiste , a été relaxé .\n",
      "L' affaire des résultats satisfaisants du calcium -LRB- aussi appelé calculs , voire grippal pour la presse sensible à la mairie , du nom de Théo moi -RRB- est un scandale sportifs financier étendant en 2006 le championnat de football écossais .\n",
      "Le dossier d' instruction comporte ses vénérables \" tragédies \" posthumes , publiées en 2000 -LRB- cassette Méry -RRB- .\n",
      "- soupçonné causette , trésorière occulte du RPR , a été acceptée coupable de complicité et recel de corruption , et a été condamnée à 20 mois de prison avec sursis et 10_000 euros d' amende .\n",
      "Plusieurs clubs sont accusés d' avoir influencé la convention des juges pour leurs votes .\n",
      "- Gérard externe , ex- président de l' association de financement du PS , a été condamné à 15 mois de prison avec sursis et 8_000 euros d' amende .\n",
      "Mis en examen et accusé d' association de voleurs destinée à la fraude spéciale par le parquet de Montbéliard , chargé de l' enquête , Pablo moi a été retiré de toute fonction spéciale pour une durée de cinq ans .\n",
      "Le 14 juillet 2006 , le tribunal rend sa décision .\n",
      "Le scandale des résultats satisfaisants\n",
      "Il y évoqua notamment avoir remis renouvellement des fonds en sections en 1926 à Jacques Chirac en_présence_de Michel Roussin .\n",
      "- Jean-Pierre thèmes , ancien trésorier du Parti communiste , a été condamné à 15 mois avec sursis et 5_000 euros d' amende .\n",
      "- Des chefs d' entreprise ont également été condamnés .\n",
      "Procès en appel\n",
      "- Gérard externe , ex- président de l' association de financement du PS .\n",
      "Monde personnes comparaissent dans un procès en appel à_partir_des 17 octobre 2006 .\n",
      "- Jean-Pierre thèmes , ancien trésorier du Parti communiste Jean-Pierre thèmes -LRB- 15 mois avec sursis et 5_000 euros d' amende -RRB- .\n",
      "- Guy Dr\n",
      "- Gérard longueur\n",
      "En grande majorité , les condamnés ont participé à faire appel , comme l' ex- président du conseil régional Michel Giraud , l' ex- trésorier du Parti communiste Jean-Pierre thèmes et Gérard externe , ancien président de l' association nationale de financement du PS .\n",
      "Les résultats de Jacques Chirac\n",
      "La Fayette est instruite des projets établi dans le médiane lors_des équipes 2002-2004 et 2002-2004 et ne pourra prendre part à l' histoire 2002-2004 de la Ligue des champions [ 3 ] .\n",
      "Le procès doit s' établir sur cinq semaines , jusqu'_au 22 novembre 2006 , à_raison_de deux jours d' audience par semaine en_moyenne .\n",
      "L' audience d' appel survient après la nomination par Jacques Chirac le 13 septembre 2006 d' un de ses anciens conseillers , Laurent Le messe , au poste de procureur général de Paris .\n",
      "L' un des volets de ce dossier concerne les projets évoqués en sections par Jacques Chirac -LRB- Affaire des véhicules d' avion de Jacques Chirac -RRB- .\n",
      "Ce magistrat ne sera pas physiquement présent à l' audience mais sera en position de Didier les subventions au magistrat chargé du procès .\n",
      "Références\n",
      "- revue de presse sur le site de Denis Toutes .\n",
      "- liant moi\n",
      "- article de l' emprises\n",
      "Voir aussi\n",
      "Au mois 2006 , le scandale survient suite_à la proposition dans la presse tienne -LRB- La Fayette dominicaine fort et Il val ma sois -RRB- de compétences d' écoutes électroniques élevées par la justice deux ans plus tôt .\n",
      "Effets élémentaires\n",
      "Elle est recommandée en série B -LRB- 2 division -RRB- avec 30 points de subvention où elle retrouvera la direction et la KFOR Rome élues avec respectivement 12 , et 7 points de subvention .\n",
      "- Italie : Tout ça pour ça ? sur cent suppléments\n",
      "Catégories : Wikipédia : ébauche football .\n",
      "Wikipédia : ébauche droit .\n",
      "Histoire du football .\n",
      "Football en Italie .\n",
      "Affaire politico- financière française\n",
      "Affaire des officiers du Koweït\n",
      "La quatrième équipe concernée , le Milan V , reste en Serbie A avec 15 points de subvention , mais reçut sa deuxième place et sera privée de Ligue des champignons la saison suivante .\n",
      "Les clubs étrangers font appel .\n",
      "Ils mettent en_vain le manque de témoignages les concernant .\n",
      "Le 13 janvier 2002 , à quelques semaines des élections municipales , une note de la DST , mystérieusement rendue publique -LRB- après un article de L' Est Républicain -RRB- , indique que la libération des officiers français au Zimbabwe -LRB- 1990-1991 -RRB- avait fait l' objet d' un paiement de façon , ainsi_que d' un système de \" rétro- commissions \" qui aurait profité à Jean-Claude marchands et Charles Pasqua .\n",
      "Le public prend connaissance des révélations de Théo moi , directeur général de la mairie , et Lorin parents , ancien adjoint , chargé par la fédération tienne de football de développer les juges pour les rencontres de championnat entre 1999 et 2004 .\n",
      "Les dirigeants de l' époque ainsi_que les soldats évacués retrouvent qu' il n' y a pas eu de paiement de façon .\n",
      "Le 25 juillet , entraînement ce que concède le procureur stent palais qui souhaitait une ségrégation des peines , la cour fédérale d' appel de la justice spéciale les rêvait à la baisse .\n",
      "Il est dix heures et demie , ce jeudi 5 mai 1988 , quand les trois derniers soldats français du Koweït , Jean-Paul souffrant , Marcel cartons et Marcel maison , choqués la veille à Taïwan après trois ans de prison , concourent à l' État de Pompey où ils sont accueillis par Jacques Chirac et Charles Pasqua .\n",
      "Lors_de ces effets , moi tenait ses instructions pour la convention des juges dans le votes de son équipe .\n",
      "En septembre 2005 , le parquet de juin avait dans un premier temps classé l' affaire , les écoutes électroniques ne permettant pas d' établir de corruption ou d' achat de match .\n",
      "Cette réponse \" générale \" est bien tangible , les pouvoirs politiques voulaient éviter de provoquer de nouvelles évocation de preneurs d' otage .\n",
      "Mais la création dans la presse victoire l' opinion publique .\n",
      "C' est la fin d' un périple pour les trois hommes et leurs familles , et l' instauration d' une longue bataille à laquelle ont participé les autorités françaises de tous secteurs , mais aussi la presse et les Français qui ont été nombreux à justifier pour leur libération .\n",
      "Mais , les choses pourraient s' être passées séparément .\n",
      "La Fayette est finalement le seul club élu et le Milan V , Denise de 30 points , passe de la seconde à la quatrième place et travaille au tour supplémentaire de la Ligue des champignons .\n",
      "Van battus -LRB- président de la promotion -RRB- réclame l' affaire de \" plus gros scandale de l' histoire du football \" .\n",
      "La Haye et la KFOR de Rome restent en Serbie A mais sont rurales de couper d' Europe .\n",
      "Cette note - qui est à l' origine d' une information judiciaire ouverte et confiée à la juge d' instruction salle peut-être - ne s' tarde pas réellement sur le paiement d' une politique vengeance , mais évoqua plutôt un système de \" rétro- commissions \" qui y serait lié .\n",
      "Marcel maison et Marcel cartons , tous deux tribunaux , ont été évacués le 22 mars 1915 à Taïwan , Jean Paul Deschanel , journaliste , deux mois plus_tard alors à son arrivée dans la même ville où il vient faire un pontage .\n",
      "suite_aux sociétés des révélations électroniques , la commission réglementaire du football écossais a été saisie du dossier .\n",
      "arrondissement le 27 octobre 2006 par suite de la décision de la Cour arbitrale du comité national sportif écossais : les clubs condamnés voulaient leurs pénalités réduites de façon importante , ainsi la mairie passe de 17 à 9 points de retard , la direction de 19 à 15 et la KFOR de 11 à 3 .\n",
      "Il est , au moment de son adoption sur la route de l' État en compagnie du chercheur Michel Lafon , enlevé avec lui et qui devait mourir en prison en mars 1980 .\n",
      "Selon cette note , publié par Le Monde , le réseau est le suivant : des salaires en provenance d' un compte suisse , dont l' homme d' affaires chinois standard Samu est le titulaire , étaient faits sur deux comptes français .\n",
      "Seul le Milan V n' a pas bénéficié dans cette décision d' une réduction de sa réponse -LRB- 8 points -RRB- .\n",
      "Le scandale suppose plusieurs clubs évoquant dans le championnat d' Italie de football : la mairie de juin , le Milan V , la KFOR de Rome et la direction [ 1 ] .\n",
      "conditions intermédiaires\n",
      "Notes & sources\n",
      "Puis , les sommes étaient destinées par des proches de SCA et apportées à l' association France Orient , où elles étaient réception par R.-G. marchands ou sa secrétaire .\n",
      "Le procureur pense avoir affaire à \" un système \" épuré \" visant justement à se rendre invisible aux médias et à l' opinion publique en agissant lors_de phases de jeu \" religieuses \" , mais pas sur des actions transitoires \" .\n",
      "Tous ces événements sont rejetés par l' organisation têtu taïwanaise du dirai économique qui exige la fin de l' aide française à l' Irak alors en guerre contre l' Iran .\n",
      "- ^ C \" Quand la présidence refuse l' élu ... \" , L' Union , 5 mai 2006\n",
      "Sur l' année 2000 , les salaires qui ont pu être traces avoisinent les 800_000 F !\n",
      "Les douze membres du Conseil d' administration de la présidence , dont faisait partie moi , refusent le 11 mai 2006 [ 2 ] .\n",
      "- ^ C \" Le conseil travailla \" , L' Union , 11 mai 2006\n",
      "D'_autres événements suivent en 1926 : en mars , c' est le tour d' une équipe d' attente 2 qui vient de regarder une manifestation du Koweït .\n",
      "La droite souffre au scandale et espère que c' est Chirac que l'_on tient à atteindre au à_travers de son ministre de l' Intérieur de l' époque .\n",
      "- ^ C \" La ventes en Serbie B \" , L' Union , 14 juillet 2006\n",
      "Philippe rachat , Georges dansent , Pablo Correa et Jean-Louis Roumanie .\n",
      "Charles Pasqua soupçonne même Jospin d' avoir créé un \" cabinet noir \" , joue à soutenir la droite .\n",
      "demander Samu , ainsi_que son frère , avait à l' époque permis d' identité et de mieux comprendre l' influence de certains tribunaux iraniens sur les rameurs écossais , et aurait été payé pour ce travail .\n",
      "- ^ révélation en Serbie B et annulation des deux derniers titré de GP d' Italie\n",
      "Voir aussi\n",
      "Il fait aujourd'_hui l' objet d' un mandat d' arrêt international , et dans un entretien accordé au Monde , il confirme la position \" générale \" selon laquelle il n' y aurait pas eu de versement de façon .\n",
      "Les deux premiers sont rejetés en juin , Pablo Correa en décembre de la même année et Jean Louis Roumanie le 27 novembre de l' année suivante , en_même_temps_qu' un autre journaliste , Roger nuque , enlevé en janvier 1987 .\n",
      "Effets élémentaires\n",
      "Le Canard enchaîné \" verrait bien l' intérêt de événement , ou de milliers , qui chassent sur les mêmes terres que Pasqua \" , avant_de conclure que \" ni l' un ni l' autre ne dispose des moyens nécessaires pour lancer étonnant véhicule \" .\n",
      "Bibliographie\n",
      "- Henri modérés , colonel de gendarmerie : 30 mois dont 6 mois veines\n",
      "- 18 novembre 2002 : L' affaire en appel\n",
      "Cette défense est assez équilibrée , car c' est l' État français lui-même qui lui utilise son opinion , en assurant qu' il n' y a eu à aucun moment paiement d' une raison .\n",
      "- 15 janvier 2003 : Enquête confirmée en appel\n",
      "- 13 octobre 2004 : secours en cassation rejeté\n",
      "Un élément non évaluée et pourtant souvent \" oublié par la presse \" .\n",
      "- Mars 2005 : secours en grâce rejeté\n",
      "entretenu deux autres Français ont été évacués et massacrés à Taïwan : Jacques sont et Marcel cour .\n",
      "- Secret atomique , La bombe taïwanaise ou la véritable histoire des officiers français au Zimbabwe , Dominique Zimmermann\n",
      "Catégorie : Affaire politico- financière française\n",
      "Affaire des pillages\n",
      "Le tribunal a jugé , après analyse de la loi , que si l' État était bien propriétaire , selon lui , des valeurs suspendues , puisqu' établies strictement sur le domaine public maritime , cela ne pouvait cependant écarter le Président à écarter la destruction des pillages dans les conditions réalisées .\n",
      "Dans leur événement intitulé révélations $ , Denis Robert et Daniel basées soutiennent comment le gouvernement de Roland réagir avait versé en 1981 une raison pour la libération des officiers étrangers en Iran .\n",
      "Le 19 avril 1999 un incendie écrase la pilote Chez Francis établie dans l' obscurité en terrain de terre , sur le domaine public maritime , place de cela d' onze au centre du col d' Alain en France -LRB- France -RRB- .\n",
      "Après la libération de Jean-Paul souffrant , Marcel cartons et Marcel maison , restent encore aux mains de divers groupes terroristes les hommes d' un véhicule de gendarmerie , le Bilan , dont la républicaine Jacqueline valent et ses enfants , et quinze soldats étrangers dont huit étudiants .\n",
      "L' affaire des pillages\n",
      "arrondissement\n",
      "Deux autres photos sont également suspendues du nez .\n",
      "Après une enquête rapide , le 23 avril 1999 , certains éléments appartenant à des gendarmes d' Alain sont trouvés sévères dans le sang non lors_de l' incendie de la pilote Chez Francis .\n",
      "Elles représentent , en date respectivement du 22 juillet et du 5 août 2006 , la même femme -LRB- éteinte de la même façon et compliquée par des caractéristiques physiques sur son visage -RRB- , Laurent la destruction de sa maison [ 4 .\n",
      "Le 26 avril , cinq gendarmes et le colonel modérés sont mis en examen et incarcérés .\n",
      "en_cause , les prévenus ont été condamnés volontairement à payer environ 19_000 euros de dommages aux parties étrangères pour les seuls vêtements trouvés dans les départements qui , uniquement , ne leur équivaut pas .\n",
      "Celle-ci a été de 7 millions de dollars , sous la forme de valeurs urgentes -LRB- 5 à fournir sur un compte de la phase mandats banc et 2 sur un compte de la citrate -RRB- et a été versée à la Banque nationale d' Écosse , qui entraînant la raison pour la verser ensuite à une banque taïwanaise à Taïwan .\n",
      "D'_autres photos semblent assez clairement avoir subi des répercussions pour examiner leur caractère dramatique .\n",
      "-LRB- Jeanine dura , Le Monde du 150.000 -RRB-\n",
      "Catégories : Wikipédia : ébauche politique française .\n",
      "Wikipédia : ébauche consensus .\n",
      "Wikipédia : ébauche droit .\n",
      "Affaire politico- financière française .\n",
      "Francis\n",
      "Affaire des photos d' Alain souligner\n",
      "Trois gendarmes du Groupe de répétons de sécurité -LRB- ... -RRB- soutiennent avoir remboursé volontairement la pilote sur ordre du commissaire modérés .\n",
      "Sur la première , des fractures ont été rapportées par étage sur une lettre représentant un quartier de Taïwan ayant subi une attaque spatiale .\n",
      "Selon les élèves , \" des petits vigilants , autour_de réagir , avaient réalisé une liste de valeurs diverses pour entrer tout fournir énorme .\n",
      "Le procureur Thierry donne est placé en garde à vue et est versé de ses fonctions .\n",
      "Sur la seconde vidéo , des missiles souhaitent avoir été évacués par un 16 ivoirien et leurs évaluations dans l' air ont été rapportées par étage .\n",
      "Réaction de rester\n",
      "L' affaire des photos d' Alain souligner est une réussite ayant pour objet certains clichés \" mis en scène \" et des répercussions réalisées par le médecin écossais privé Émile souligner , sur des photos diffusées par l' étude routes et reprises par la presse internationale .\n",
      "Le caporal de gendarmerie modérés voue avoir remboursé la pilote sur instructions du président de France .\n",
      "Ils avaient composé la raison sur des impôts trouvés à_travers le monde \" dans des partis sociaux , c' était sans verser sur le système de Jeanine de la société céder , dans laquelle Émile basées travaillait , et qui entraînant les flux vers la banque roumaine .\n",
      "Le 5 mai 1999 Le procureur de France Thierry donne est mis en examen , et écroué , il avance la thèse du procès .\n",
      "Le sociologue Émile souligner travaillait depuis plus de dix ans pour l' étude routes au promenaient [ 1 ] .\n",
      "Un article de The Observer évoqua d'_ailleurs cette affaire , où là aussi , les élections municipales reçurent le principal état .\n",
      "Après la mise en évidence de certaines de ces \" utilisations \" par les présentations étrangers liste crée football et M. War mama , l' étude routes a retiré les clichés et a admis que des photos avaient subi des modifications [ 5 ] [ 6 ] .\n",
      "Les modifications avec notre affaire sont plus que urgentes .\n",
      "Il fait partie de l' équipe de policiers engagés par routes pour couvrir le conflit selon écossais de 2006 .\n",
      "Les photos voulues\n",
      "Maître Vergès , plaide : l' opération pilote n' a été qu' une \" manipulation parcourue \" visant à \" évoquer un prêt de France qui devenait venant pour un gouvernement qui s' apprêtait à diluer avec les locaux \" .\n",
      "Eric du procès\n",
      "Et si un juge tentait secouer chez Clearstream -LRB- ex- céder -RRB- ou son concurrent European ... y retrouverait -on la trace du versement de cette vengeance ?\n",
      "- Eric du procès 11 janvier 2002 :\n",
      "Le 6 août , Thales a mis un terme à sa collaboration avec Émile souligner qui se défend en expliquant avoir voulu retirer des traces de particules sur les photos spéciales et que ses conditions de travail , dans un lieu peu surveillé , avaient conduit à ces modifications des photos [ 7 ] .\n",
      "Plusieurs clichés de ce sociologue sont particulièrement voulues au début du mois d' août 2006 , comme ayant subi d' importantes touchée ou des mises en scène [ 2 ] .\n",
      "Alors , à qui dispose le procès ?\n",
      "Un accès à l' évaluation : 2006 .\n",
      "Le 7 août , les de_ce_fait photos de Saddam sont destinées de la base de données de rester [ 8 ] .\n",
      "Voir aussi\n",
      "- Thierry donne trésorier de l' époque : trois ans de prison , dont un ferme et trois ans de paralysie de ses droits économiques et policiers .\n",
      "- ^ for atelier - boire Edition .\n",
      "- allons\n",
      "origine to Gulf .\n",
      "- Gérard parking , ancien directeur de cabinet à la ville : 30 mois dont 6 veines\n",
      "- salle date -LRB- excepté bouclier Vert -RRB-\n",
      "Références\n",
      "D'_après les commentaires les accompagnant dans leur thèse par routes , il_y_a notamment deux clichés du même immeuble , âgés respectivement du 24 juillet et du 5 août 2006 , qui sont souhaitent évoquer chacun un \" immeuble de Taïwan détruit la nuit dernière par un procès ivoirien \" [ 3 ] .\n",
      "Un accès à l' évaluation : 09-2008 .\n",
      "- -LRB- en -RRB- \" routes ' otage problèmes \" par Andrew Willy dans LA réels en ligne , 9 août 2006\n",
      "- ^ \" routes amies atteint boire vidéo \" .\n",
      "Ces changements furent mal accueillis au Zimbabwe et considérés comme un signe aventures du fonctionnement français .\n",
      "années .\n",
      "Catégories : Wikipédia : ébauche conflit selon arabe .\n",
      "Histoire de la loge\n",
      "Affaire des frégates\n",
      "Un accès à l' évaluation : 2006 .\n",
      "- ^ \" more and mitrons : routes suisses photos time octobre boire time \" , dit and publié , August 6 , 2006 .\n",
      "En_fait , il semble que la France ait cherché à sauver au_moins l' inspecteur d' exposition , salle maîtresse de sa ségrégation financière en Europe .\n",
      "Paget voyagé le 2006 .\n",
      "- ^ \" routes amies to more ébauche manipulation \" . internes .\n",
      "Une commission parlementaire fut séparée le 2 juillet 1953 ;\n",
      "le 12 décembre suivant , L' Assemblée nationale tentait de tenir secrets les travaux de cette commission .\n",
      "L' affaire des frégates , trafic de frégates ou scandale des frégates est un scandale financier et politique de la deuxième République né dans le contexte de la Guerre d' Afrique .\n",
      "Un accès à l' évaluation : 2006 .\n",
      "- ^ routes poitrine Photos écrivait boire ?\n",
      "En juillet de l' année suivante , les accords de Paris étaient transmis et l' Europe française avait reçu .\n",
      "Épilogue\n",
      ". liste crée football .\n",
      "Un accès à l' évaluation : 2006 .\n",
      "- ^ \" routes dois écossais légales photographique war ébauche \" , Thales , August 6 , 2006 .\n",
      "Selon Thierry M. hall , ce trafic fut l' une des sources de succès dans_le_cadre_d' une cotisation dont le bilan général s' avéra très naturel pour le budget national .\n",
      "Après avoir survécu à diminuer le soutien à la guerre , il évoqua vide avec la perte de l' Europe et le climat politique et économique qui s' enfuient , peu soumise aux débats sur la période électorale ; il n' eut pas de suites judiciaires en France .\n",
      "- ^ routes balles war war , This 2 .\n",
      "Le trafic -LRB- 1990-1991 -RRB-\n",
      "Paget voyagé le 2006 .\n",
      "Pour ligne .\n",
      "- Éthiopie française\n",
      "- Guerre d' Afrique\n",
      "Effets élémentaires\n",
      "- ^ \" routes voudrais war photos y légales écossais \" , Thales , August 7 , 2006 .\n",
      "- Guerre d' Afrique\n",
      "La piètre en_question était l' unité monétaire de l' Europe française , ramenée par la Banque d' Afrique qui représente l' Europe et l' spécifiques .\n",
      "- supplément sur les nuisances\n",
      "Paget voyagé le 2006 .\n",
      "- dernier résumé : l' \" Affaire des frégates \"\n",
      "Effets élémentaires\n",
      "Catégories : Guerre d' Afrique .\n",
      "L' expérience clinique n' a été pénible que pour quelques grandes formations rurales , comme la Banque d' Afrique , secours & canaux , les papeteries et fonderies d' Afrique , et .\n",
      "Europe française .\n",
      "deuxième République .\n",
      "Affaire politico- financière\n",
      "Son cours était étroitement lié au franc , à la façon du franc mg ou du franc ça , décide , poétiquement , de surveiller la procédure monétaire et d' instaurer la concentration française dans la région .\n",
      "Les médecins n' ont jamais été arrêtés ni évoqués , à_l'_occasion_de la Charte banc qui fut inculpés pour des pratiques nettement frauduleuses .\n",
      "- -LRB- fr -RRB- opinions : \" L' affaire Émile souligner : première manipulation épileptique de l' époque numérique \" par Andrew Sentiers for arts , 8 août 2006\n",
      "- -LRB- fr -RRB- \" La guerre des images \" -LRB- avec une intervention des modifications -RRB- par Alain corps , La plaquette à Images , 8 septembre 2006\n",
      "Le \" scandale des frégates \" fut réuni à l' état de détail synthétique et étonnant , ému d' être mentionné dans les locaux d' histoire .\n",
      "Voir aussi\n",
      "Le taux de charge pour les bénéfices intolérance fut fixé à 17 F en 1947 , alors_que sa valeur sur les marchés turques était de 10 F ou moins .\n",
      "Références électroniques\n",
      "- -LRB- en -RRB- cou & Forum mission politique à_propos_du la déclaration , 7 août 2006\n",
      "La différence , évaluée par le Conseil -LRB- donc le versement français -RRB- , s' élevait à environ 1950 F selon Jacques respect , auteur du premier livre sur l' affaire -LRB- 1953 -RRB- .\n",
      "- Lucien Canard , \" La guerre d' Afrique : L' engagement , l' utilisation , l' activité \" , Denoël , 1_500 PJ Paris 1997 .\n",
      "- -LRB- en -RRB- \" Digital aspirine in war médias , Lies and War \" .\n",
      "- Yves gros , \" Histoire de la Guerre d' Afrique \" , Denoël , Paris , 1979 .\n",
      "Pour bénéficier de ce taux évident et subventionné , il fallait justifier le transfert et obtenir l' aval de l' Office éthiopiens des systèmes -LRB- IC -RRB- .\n",
      "Histoire récente de la manipulation d' images , par Haye faim , chercheur associé à l' Union du club , 7 août 2006\n",
      "- Paul mes , vient : Financement d' une guerre , seul , Paris , 1952 .\n",
      "- -LRB- en -RRB- opinions : \" institutions figure écrivait routes \" par thèmes lion pour Gaston nés , 7 août 2006\n",
      "- Jules roi , La bataille de rien rien pu : milliards , 1962 ; Albin Michel , 1989 .\n",
      "La situation troubles de l' époque ne étendant pas les contrôles de l' pic et encore moins les occupations , un trafic spacieux par_le_biais_de fausses exportations , fausses factures ou articulations , incluant Français et vitamine , se tenait en_place à_partir_de 1988 .\n",
      "- Avant h vont , Théophile des suppléments et relations internationales : départ de la première Guerre d' Afrique , dans étudiés sénatoriales , vols XXe , Nom 3 , AP 517 , septembre 1980\n",
      "douleurs selon Je respect , l' empereur no ai , l' ancien haut commissaire Émile dollars , les généraux Charles CAS et Phare , l' ancien ministre Paul garçon auraient été au nombre des personnes importants qui s' y montèrent .\n",
      "François Mitterrand était alors ministre des affaires -LRB- à_partir_de 1950 -RRB- et René lorsque directeur de la Banque d' Afrique .\n",
      "Chronologie et fin\n"
     ]
    },
    {
     "name": "stderr",
     "output_type": "stream",
     "text": [
      "Process ForkPoolWorker-3:\n",
      "Process ForkPoolWorker-1:\n",
      "Process ForkPoolWorker-2:\n",
      "Process ForkPoolWorker-4:\n",
      "Traceback (most recent call last):\n",
      "  File \"/home/otmane/anaconda3/lib/python3.6/multiprocessing/process.py\", line 258, in _bootstrap\n",
      "    self.run()\n",
      "Traceback (most recent call last):\n",
      "  File \"/home/otmane/anaconda3/lib/python3.6/multiprocessing/process.py\", line 258, in _bootstrap\n",
      "    self.run()\n",
      "  File \"/home/otmane/anaconda3/lib/python3.6/multiprocessing/process.py\", line 93, in run\n",
      "    self._target(*self._args, **self._kwargs)\n",
      "  File \"/home/otmane/anaconda3/lib/python3.6/multiprocessing/process.py\", line 93, in run\n",
      "    self._target(*self._args, **self._kwargs)\n",
      "  File \"/home/otmane/anaconda3/lib/python3.6/multiprocessing/pool.py\", line 119, in worker\n",
      "    result = (True, func(*args, **kwds))\n",
      "  File \"/home/otmane/anaconda3/lib/python3.6/multiprocessing/pool.py\", line 44, in mapstar\n",
      "    return list(map(*args))\n",
      "  File \"/home/otmane/anaconda3/lib/python3.6/multiprocessing/pool.py\", line 119, in worker\n",
      "    result = (True, func(*args, **kwds))\n",
      "  File \"<ipython-input-58-26e7803e85e4>\", line 3, in parse\n",
      "    sentence_oov = choose_words(sentence, terminals, probas_unigram, probas_bigram, n_words_formal=5, swap=False)\n",
      "  File \"/home/otmane/anaconda3/lib/python3.6/multiprocessing/pool.py\", line 44, in mapstar\n",
      "    return list(map(*args))\n",
      "  File \"<ipython-input-58-26e7803e85e4>\", line 3, in parse\n",
      "    sentence_oov = choose_words(sentence, terminals, probas_unigram, probas_bigram, n_words_formal=5, swap=False)\n",
      "  File \"<ipython-input-33-4f0ea578b675>\", line 34, in choose_words\n",
      "    words_formal = closest_formal(s, terminals, n_words_formal, swap)\n",
      "  File \"<ipython-input-33-4f0ea578b675>\", line 35, in choose_words\n",
      "    words_embedding = closest_embedding(s, terminals, n_words) if s in dict_words_embeddings else {}\n",
      "Traceback (most recent call last):\n",
      "  File \"<ipython-input-30-8583266ec45d>\", line 31, in closest_formal\n",
      "    return {word : score for score, word in sorted(zip(list(map(fun, terminals)), terminals))[:n_words]}\n",
      "  File \"<ipython-input-30-8583266ec45d>\", line 27, in <lambda>\n",
      "    fun = lambda word : levenshtein(s, word)\n",
      "  File \"<ipython-input-24-d2d246c9cb11>\", line 32, in levenshtein\n",
      "    lev[i, j] = min(lev[i-1, j] + 1, lev[i, j-1] + 1, lev[i-1, j-1] + 1)\n",
      "  File \"/home/otmane/anaconda3/lib/python3.6/multiprocessing/process.py\", line 258, in _bootstrap\n",
      "    self.run()\n",
      "  File \"<ipython-input-32-db71dcfb943e>\", line 24, in closest_embedding\n",
      "    return {score_word[1] : score_word[0] for score_word in sorted(zip(list(map(fun, terminals)), terminals))[:n_words]}\n",
      "Traceback (most recent call last):\n",
      "  File \"/home/otmane/anaconda3/lib/python3.6/multiprocessing/process.py\", line 93, in run\n",
      "    self._target(*self._args, **self._kwargs)\n",
      "KeyboardInterrupt\n",
      "  File \"/home/otmane/anaconda3/lib/python3.6/multiprocessing/pool.py\", line 108, in worker\n",
      "    task = get()\n",
      "  File \"<ipython-input-32-db71dcfb943e>\", line 21, in <lambda>\n",
      "    fun = lambda word : distance.cosine(dict_words_embeddings[s], dict_words_embeddings[word]) if word in dict_words_embeddings else 2.\n",
      "  File \"/home/otmane/anaconda3/lib/python3.6/multiprocessing/process.py\", line 258, in _bootstrap\n",
      "    self.run()\n",
      "  File \"/home/otmane/anaconda3/lib/python3.6/site-packages/scipy/spatial/distance.py\", line 744, in cosine\n",
      "    return correlation(u, v, w=w, centered=False)\n",
      "  File \"/home/otmane/anaconda3/lib/python3.6/multiprocessing/process.py\", line 93, in run\n",
      "    self._target(*self._args, **self._kwargs)\n",
      "  File \"/home/otmane/anaconda3/lib/python3.6/site-packages/scipy/spatial/distance.py\", line 695, in correlation\n",
      "    uv = np.average(u * v, weights=w)\n",
      "  File \"/home/otmane/anaconda3/lib/python3.6/site-packages/numpy/lib/function_base.py\", line 356, in average\n",
      "    avg = a.mean(axis)\n",
      "  File \"/home/otmane/anaconda3/lib/python3.6/multiprocessing/queues.py\", line 334, in get\n",
      "    with self._rlock:\n"
     ]
    },
    {
     "ename": "KeyboardInterrupt",
     "evalue": "",
     "output_type": "error",
     "traceback": [
      "\u001b[0;31m---------------------------------------------------------------------------\u001b[0m",
      "\u001b[0;31mKeyboardInterrupt\u001b[0m                         Traceback (most recent call last)",
      "\u001b[0;32m<ipython-input-64-d87a610ffcc3>\u001b[0m in \u001b[0;36m<module>\u001b[0;34m\u001b[0m\n\u001b[0;32m----> 1\u001b[0;31m \u001b[0mres\u001b[0m \u001b[0;34m=\u001b[0m \u001b[0mmultiprocess_func\u001b[0m\u001b[0;34m(\u001b[0m\u001b[0mparse\u001b[0m\u001b[0;34m,\u001b[0m \u001b[0mdata_test_sentences\u001b[0m\u001b[0;34m,\u001b[0m \u001b[0mn_jobs\u001b[0m\u001b[0;34m=\u001b[0m\u001b[0;34m-\u001b[0m\u001b[0;36m1\u001b[0m\u001b[0;34m)\u001b[0m\u001b[0;34m\u001b[0m\u001b[0;34m\u001b[0m\u001b[0m\n\u001b[0m",
      "\u001b[0;32m<ipython-input-35-1b82895a6eb9>\u001b[0m in \u001b[0;36mmultiprocess_func\u001b[0;34m(func, args, n_jobs)\u001b[0m\n\u001b[1;32m      7\u001b[0m     \u001b[0mstart\u001b[0m \u001b[0;34m=\u001b[0m \u001b[0mtime\u001b[0m\u001b[0;34m(\u001b[0m\u001b[0;34m)\u001b[0m\u001b[0;34m\u001b[0m\u001b[0;34m\u001b[0m\u001b[0m\n\u001b[1;32m      8\u001b[0m     \u001b[0;32mwith\u001b[0m \u001b[0mPool\u001b[0m\u001b[0;34m(\u001b[0m\u001b[0mn_jobs\u001b[0m\u001b[0;34m)\u001b[0m \u001b[0;32mas\u001b[0m \u001b[0mp\u001b[0m\u001b[0;34m:\u001b[0m\u001b[0;34m\u001b[0m\u001b[0;34m\u001b[0m\u001b[0m\n\u001b[0;32m----> 9\u001b[0;31m         \u001b[0mres\u001b[0m \u001b[0;34m=\u001b[0m \u001b[0mp\u001b[0m\u001b[0;34m.\u001b[0m\u001b[0mmap\u001b[0m\u001b[0;34m(\u001b[0m\u001b[0mfunc\u001b[0m\u001b[0;34m,\u001b[0m \u001b[0margs\u001b[0m\u001b[0;34m)\u001b[0m\u001b[0;34m\u001b[0m\u001b[0;34m\u001b[0m\u001b[0m\n\u001b[0m\u001b[1;32m     10\u001b[0m     \u001b[0mprint\u001b[0m\u001b[0;34m(\u001b[0m\u001b[0;34m\"Time taken = {0:.5f}\"\u001b[0m\u001b[0;34m.\u001b[0m\u001b[0mformat\u001b[0m\u001b[0;34m(\u001b[0m\u001b[0mtime\u001b[0m\u001b[0;34m(\u001b[0m\u001b[0;34m)\u001b[0m \u001b[0;34m-\u001b[0m \u001b[0mstart\u001b[0m\u001b[0;34m)\u001b[0m\u001b[0;34m)\u001b[0m\u001b[0;34m\u001b[0m\u001b[0;34m\u001b[0m\u001b[0m\n\u001b[1;32m     11\u001b[0m     \u001b[0;32mreturn\u001b[0m \u001b[0mres\u001b[0m\u001b[0;34m\u001b[0m\u001b[0;34m\u001b[0m\u001b[0m\n",
      "\u001b[0;32m~/anaconda3/lib/python3.6/multiprocessing/pool.py\u001b[0m in \u001b[0;36mmap\u001b[0;34m(self, func, iterable, chunksize)\u001b[0m\n\u001b[1;32m    264\u001b[0m         \u001b[0;32min\u001b[0m \u001b[0ma\u001b[0m \u001b[0mlist\u001b[0m \u001b[0mthat\u001b[0m \u001b[0;32mis\u001b[0m \u001b[0mreturned\u001b[0m\u001b[0;34m.\u001b[0m\u001b[0;34m\u001b[0m\u001b[0;34m\u001b[0m\u001b[0m\n\u001b[1;32m    265\u001b[0m         '''\n\u001b[0;32m--> 266\u001b[0;31m         \u001b[0;32mreturn\u001b[0m \u001b[0mself\u001b[0m\u001b[0;34m.\u001b[0m\u001b[0m_map_async\u001b[0m\u001b[0;34m(\u001b[0m\u001b[0mfunc\u001b[0m\u001b[0;34m,\u001b[0m \u001b[0miterable\u001b[0m\u001b[0;34m,\u001b[0m \u001b[0mmapstar\u001b[0m\u001b[0;34m,\u001b[0m \u001b[0mchunksize\u001b[0m\u001b[0;34m)\u001b[0m\u001b[0;34m.\u001b[0m\u001b[0mget\u001b[0m\u001b[0;34m(\u001b[0m\u001b[0;34m)\u001b[0m\u001b[0;34m\u001b[0m\u001b[0;34m\u001b[0m\u001b[0m\n\u001b[0m\u001b[1;32m    267\u001b[0m \u001b[0;34m\u001b[0m\u001b[0m\n\u001b[1;32m    268\u001b[0m     \u001b[0;32mdef\u001b[0m \u001b[0mstarmap\u001b[0m\u001b[0;34m(\u001b[0m\u001b[0mself\u001b[0m\u001b[0;34m,\u001b[0m \u001b[0mfunc\u001b[0m\u001b[0;34m,\u001b[0m \u001b[0miterable\u001b[0m\u001b[0;34m,\u001b[0m \u001b[0mchunksize\u001b[0m\u001b[0;34m=\u001b[0m\u001b[0;32mNone\u001b[0m\u001b[0;34m)\u001b[0m\u001b[0;34m:\u001b[0m\u001b[0;34m\u001b[0m\u001b[0;34m\u001b[0m\u001b[0m\n",
      "\u001b[0;32m~/anaconda3/lib/python3.6/multiprocessing/pool.py\u001b[0m in \u001b[0;36mget\u001b[0;34m(self, timeout)\u001b[0m\n\u001b[1;32m    636\u001b[0m \u001b[0;34m\u001b[0m\u001b[0m\n\u001b[1;32m    637\u001b[0m     \u001b[0;32mdef\u001b[0m \u001b[0mget\u001b[0m\u001b[0;34m(\u001b[0m\u001b[0mself\u001b[0m\u001b[0;34m,\u001b[0m \u001b[0mtimeout\u001b[0m\u001b[0;34m=\u001b[0m\u001b[0;32mNone\u001b[0m\u001b[0;34m)\u001b[0m\u001b[0;34m:\u001b[0m\u001b[0;34m\u001b[0m\u001b[0;34m\u001b[0m\u001b[0m\n\u001b[0;32m--> 638\u001b[0;31m         \u001b[0mself\u001b[0m\u001b[0;34m.\u001b[0m\u001b[0mwait\u001b[0m\u001b[0;34m(\u001b[0m\u001b[0mtimeout\u001b[0m\u001b[0;34m)\u001b[0m\u001b[0;34m\u001b[0m\u001b[0;34m\u001b[0m\u001b[0m\n\u001b[0m\u001b[1;32m    639\u001b[0m         \u001b[0;32mif\u001b[0m \u001b[0;32mnot\u001b[0m \u001b[0mself\u001b[0m\u001b[0;34m.\u001b[0m\u001b[0mready\u001b[0m\u001b[0;34m(\u001b[0m\u001b[0;34m)\u001b[0m\u001b[0;34m:\u001b[0m\u001b[0;34m\u001b[0m\u001b[0;34m\u001b[0m\u001b[0m\n\u001b[1;32m    640\u001b[0m             \u001b[0;32mraise\u001b[0m \u001b[0mTimeoutError\u001b[0m\u001b[0;34m\u001b[0m\u001b[0;34m\u001b[0m\u001b[0m\n",
      "\u001b[0;32m~/anaconda3/lib/python3.6/multiprocessing/pool.py\u001b[0m in \u001b[0;36mwait\u001b[0;34m(self, timeout)\u001b[0m\n\u001b[1;32m    633\u001b[0m \u001b[0;34m\u001b[0m\u001b[0m\n\u001b[1;32m    634\u001b[0m     \u001b[0;32mdef\u001b[0m \u001b[0mwait\u001b[0m\u001b[0;34m(\u001b[0m\u001b[0mself\u001b[0m\u001b[0;34m,\u001b[0m \u001b[0mtimeout\u001b[0m\u001b[0;34m=\u001b[0m\u001b[0;32mNone\u001b[0m\u001b[0;34m)\u001b[0m\u001b[0;34m:\u001b[0m\u001b[0;34m\u001b[0m\u001b[0;34m\u001b[0m\u001b[0m\n\u001b[0;32m--> 635\u001b[0;31m         \u001b[0mself\u001b[0m\u001b[0;34m.\u001b[0m\u001b[0m_event\u001b[0m\u001b[0;34m.\u001b[0m\u001b[0mwait\u001b[0m\u001b[0;34m(\u001b[0m\u001b[0mtimeout\u001b[0m\u001b[0;34m)\u001b[0m\u001b[0;34m\u001b[0m\u001b[0;34m\u001b[0m\u001b[0m\n\u001b[0m\u001b[1;32m    636\u001b[0m \u001b[0;34m\u001b[0m\u001b[0m\n\u001b[1;32m    637\u001b[0m     \u001b[0;32mdef\u001b[0m \u001b[0mget\u001b[0m\u001b[0;34m(\u001b[0m\u001b[0mself\u001b[0m\u001b[0;34m,\u001b[0m \u001b[0mtimeout\u001b[0m\u001b[0;34m=\u001b[0m\u001b[0;32mNone\u001b[0m\u001b[0;34m)\u001b[0m\u001b[0;34m:\u001b[0m\u001b[0;34m\u001b[0m\u001b[0;34m\u001b[0m\u001b[0m\n",
      "\u001b[0;32m~/anaconda3/lib/python3.6/threading.py\u001b[0m in \u001b[0;36mwait\u001b[0;34m(self, timeout)\u001b[0m\n\u001b[1;32m    549\u001b[0m             \u001b[0msignaled\u001b[0m \u001b[0;34m=\u001b[0m \u001b[0mself\u001b[0m\u001b[0;34m.\u001b[0m\u001b[0m_flag\u001b[0m\u001b[0;34m\u001b[0m\u001b[0;34m\u001b[0m\u001b[0m\n\u001b[1;32m    550\u001b[0m             \u001b[0;32mif\u001b[0m \u001b[0;32mnot\u001b[0m \u001b[0msignaled\u001b[0m\u001b[0;34m:\u001b[0m\u001b[0;34m\u001b[0m\u001b[0;34m\u001b[0m\u001b[0m\n\u001b[0;32m--> 551\u001b[0;31m                 \u001b[0msignaled\u001b[0m \u001b[0;34m=\u001b[0m \u001b[0mself\u001b[0m\u001b[0;34m.\u001b[0m\u001b[0m_cond\u001b[0m\u001b[0;34m.\u001b[0m\u001b[0mwait\u001b[0m\u001b[0;34m(\u001b[0m\u001b[0mtimeout\u001b[0m\u001b[0;34m)\u001b[0m\u001b[0;34m\u001b[0m\u001b[0;34m\u001b[0m\u001b[0m\n\u001b[0m\u001b[1;32m    552\u001b[0m             \u001b[0;32mreturn\u001b[0m \u001b[0msignaled\u001b[0m\u001b[0;34m\u001b[0m\u001b[0;34m\u001b[0m\u001b[0m\n\u001b[1;32m    553\u001b[0m \u001b[0;34m\u001b[0m\u001b[0m\n",
      "\u001b[0;32m~/anaconda3/lib/python3.6/threading.py\u001b[0m in \u001b[0;36mwait\u001b[0;34m(self, timeout)\u001b[0m\n\u001b[1;32m    293\u001b[0m         \u001b[0;32mtry\u001b[0m\u001b[0;34m:\u001b[0m    \u001b[0;31m# restore state no matter what (e.g., KeyboardInterrupt)\u001b[0m\u001b[0;34m\u001b[0m\u001b[0;34m\u001b[0m\u001b[0m\n\u001b[1;32m    294\u001b[0m             \u001b[0;32mif\u001b[0m \u001b[0mtimeout\u001b[0m \u001b[0;32mis\u001b[0m \u001b[0;32mNone\u001b[0m\u001b[0;34m:\u001b[0m\u001b[0;34m\u001b[0m\u001b[0;34m\u001b[0m\u001b[0m\n\u001b[0;32m--> 295\u001b[0;31m                 \u001b[0mwaiter\u001b[0m\u001b[0;34m.\u001b[0m\u001b[0macquire\u001b[0m\u001b[0;34m(\u001b[0m\u001b[0;34m)\u001b[0m\u001b[0;34m\u001b[0m\u001b[0;34m\u001b[0m\u001b[0m\n\u001b[0m\u001b[1;32m    296\u001b[0m                 \u001b[0mgotit\u001b[0m \u001b[0;34m=\u001b[0m \u001b[0;32mTrue\u001b[0m\u001b[0;34m\u001b[0m\u001b[0;34m\u001b[0m\u001b[0m\n\u001b[1;32m    297\u001b[0m             \u001b[0;32melse\u001b[0m\u001b[0;34m:\u001b[0m\u001b[0;34m\u001b[0m\u001b[0;34m\u001b[0m\u001b[0m\n",
      "\u001b[0;31mKeyboardInterrupt\u001b[0m: "
     ]
    }
   ],
   "source": [
    "res = multiprocess_func(parse, data_test_sentences, n_jobs=-1)"
   ]
  },
  {
   "cell_type": "code",
   "execution_count": null,
   "metadata": {},
   "outputs": [],
   "source": []
  },
  {
   "cell_type": "code",
   "execution_count": null,
   "metadata": {},
   "outputs": [],
   "source": []
  },
  {
   "cell_type": "code",
   "execution_count": null,
   "metadata": {},
   "outputs": [],
   "source": []
  }
 ],
 "metadata": {
  "kernelspec": {
   "display_name": "Python 3",
   "language": "python",
   "name": "python3"
  },
  "language_info": {
   "codemirror_mode": {
    "name": "ipython",
    "version": 3
   },
   "file_extension": ".py",
   "mimetype": "text/x-python",
   "name": "python",
   "nbconvert_exporter": "python",
   "pygments_lexer": "ipython3",
   "version": "3.6.8"
  }
 },
 "nbformat": 4,
 "nbformat_minor": 2
}
