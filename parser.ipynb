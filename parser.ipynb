{
 "cells": [
  {
   "cell_type": "code",
   "execution_count": 1,
   "metadata": {},
   "outputs": [],
   "source": [
    "import numpy as np\n",
    "import matplotlib.pyplot as plt\n",
    "%matplotlib inline\n",
    "from nltk import Tree, grammar, CFG\n",
    "import random"
   ]
  },
  {
   "cell_type": "code",
   "execution_count": 2,
   "metadata": {},
   "outputs": [],
   "source": [
    "with open('sequoia-corpus+fct.mrg_strict', 'r') as file:\n",
    "    data = file.read().splitlines()\n",
    "    \n",
    "file.close()"
   ]
  },
  {
   "cell_type": "code",
   "execution_count": 3,
   "metadata": {},
   "outputs": [],
   "source": [
    "def ignore_functional_labels(string):\n",
    "    \n",
    "    \"\"\"\n",
    "    Description\n",
    "    ----------------\n",
    "    Ignore functional labels in the non terminals of a rule, for example PP-MOD becomes PP\n",
    "    \n",
    "    Parameters\n",
    "    ----------------\n",
    "    string : String form of parse tree.\n",
    "    \n",
    "    Returns\n",
    "    ----------------\n",
    "    new string form of parse tree\n",
    "    \"\"\"\n",
    "    \n",
    "    l = string.split(' ')\n",
    "    for i in range(len(l)):\n",
    "        if l[i][0] == '(':\n",
    "            l[i] = l[i].split('-')[0]\n",
    "            \n",
    "    return ' '.join(l)\n",
    "    "
   ]
  },
  {
   "cell_type": "code",
   "execution_count": 4,
   "metadata": {},
   "outputs": [],
   "source": [
    "# t = Tree.fromstring(ignore_functional_labels(data[2]))\n",
    "# t.chomsky_normal_form()\n",
    "# t.productions()"
   ]
  },
  {
   "cell_type": "code",
   "execution_count": 5,
   "metadata": {},
   "outputs": [],
   "source": [
    "def extract_nodes(rule):\n",
    "    \n",
    "    \"\"\"\n",
    "    Description\n",
    "    ---------------\n",
    "    Extract the non terminal and terminal nodes from a rule along with the status of the rule (either lexical 1, or not 0)\n",
    "    \n",
    "    Parameters\n",
    "    ---------------\n",
    "    rule : nltk.grammar.Production object, the rule to consider.\n",
    "    \n",
    "    Returns\n",
    "    ---------------\n",
    "    3-tuple, tuple[0] : the lexical status.\n",
    "             tuple[1] : set containing the non terminal nodes.\n",
    "             tuple[2] : set containing the terminal nodes.\n",
    "    \"\"\"\n",
    "    if rule.is_lexical():\n",
    "        return True, set((rule._lhs,)), set((rule._rhs))\n",
    "    \n",
    "    else:\n",
    "        return False, set((rule._lhs,)).union(set(rule._rhs)), set()"
   ]
  },
  {
   "cell_type": "code",
   "execution_count": 6,
   "metadata": {},
   "outputs": [],
   "source": [
    "non_terminals = set()\n",
    "pos_tags = set()\n",
    "terminals = set()\n",
    "binaries = set()\n",
    "for string in data:\n",
    "    t = Tree.fromstring(ignore_functional_labels(string))\n",
    "    t.chomsky_normal_form()\n",
    "    rules = t.productions()\n",
    "    for rule in rules:\n",
    "        lexical, non_terminal_nodes, terminal_nodes = extract_nodes(rule)\n",
    "        if lexical:\n",
    "            non_terminals = non_terminals.union(non_terminal_nodes)\n",
    "            pos_tags = pos_tags.union(non_terminal_nodes)\n",
    "            terminals = terminals.union(terminal_nodes)\n",
    "            \n",
    "        else:\n",
    "            non_terminals = non_terminals.union(non_terminal_nodes)\n",
    "            if len(rule._rhs) == 2:\n",
    "                binaries.add(rule._rhs)\n",
    "\n",
    "# non_terminals = non_terminals.difference(pos_tags)\n",
    "start = rules[0]._lhs   # The start symbol\n",
    "sent = rules[0]._rhs[0] # The previous start symbol"
   ]
  },
  {
   "cell_type": "code",
   "execution_count": 7,
   "metadata": {},
   "outputs": [
    {
     "name": "stdout",
     "output_type": "stream",
     "text": [
      "Number of terminals : 10378\n",
      "Number of POS tags : 29\n",
      "Number of non terminals : 5129\n",
      "Number of binaries : 7269\n"
     ]
    }
   ],
   "source": [
    "print('Number of terminals : %d' %len(terminals))\n",
    "print('Number of POS tags : %d' %len(pos_tags))\n",
    "print('Number of non terminals : %d' %len(non_terminals))\n",
    "print('Number of binaries : %d' %len(binaries))"
   ]
  },
  {
   "cell_type": "code",
   "execution_count": 8,
   "metadata": {},
   "outputs": [],
   "source": [
    "dict_non_terminals_indices = {non_terminal : index for index, non_terminal in enumerate(non_terminals)}\n",
    "dict_indices_non_terminals = {index : non_terminal for non_terminal, index in dict_non_terminals_indices.items()}\n",
    "\n",
    "dict_pos_indices = {pos : index for index, pos in enumerate(pos_tags)}\n",
    "dict_indices_pos = {index : pos for pos, index in dict_pos_indices.items()}\n",
    "\n",
    "dict_terminals_indices = {terminal : index for index, terminal in enumerate(terminals)}\n",
    "dict_indices_terminals = {index : terminal for terminal, index in dict_terminals_indices.items()}\n",
    "\n",
    "dict_binaries_indices = {binary : index for index, binary in enumerate(binaries)}\n",
    "dict_indices_terminals = {index : binary for binary, index in dict_binaries_indices.items()}"
   ]
  },
  {
   "cell_type": "code",
   "execution_count": 9,
   "metadata": {},
   "outputs": [],
   "source": [
    "# random.seed(0)\n",
    "# random.shuffle(data)\n",
    "# data_train, data_dev, data_test = data[:4*len(data)//5], data[4*len(data)//5:9*len(data)//10], data[9*len(data)//10:]\n",
    "# del data"
   ]
  },
  {
   "cell_type": "markdown",
   "metadata": {},
   "source": [
    "## Create PCFG"
   ]
  },
  {
   "cell_type": "code",
   "execution_count": 10,
   "metadata": {},
   "outputs": [],
   "source": [
    "def express_node(rule):\n",
    "    \n",
    "    \"\"\"\n",
    "    Description\n",
    "    ---------------\n",
    "    Express the nature of the rule and extract its left hand and right hand sides.\n",
    "    \n",
    "    Parameters\n",
    "    ---------------\n",
    "    rule : nltk.grammar.Production object, the rule to consider.\n",
    "    \n",
    "    Returns\n",
    "    ---------------\n",
    "    3-tuple, tuple[0] : String describing the rule {'lexical', 'start_node', 'unary', 'binary'}\n",
    "             tuple[1] : nltk.grammar.Production, the left hand side of the rule.\n",
    "             tuple[2] : nltk.grammar.Production, the right hand side of the rule.\n",
    "    \"\"\"\n",
    "    if rule.is_lexical():\n",
    "        return 'lexical', rule._lhs, rule._rhs[0]\n",
    "    \n",
    "    else:\n",
    "        lhs, rhs = rule._lhs, rule._rhs\n",
    "        if rhs[0] == sent:\n",
    "            return 'start_node', lhs, rhs[0]\n",
    "        \n",
    "        elif len(rhs) == 1:\n",
    "            return 'unary', lhs, rhs[0]\n",
    "        \n",
    "#         elif len(rhs) == 1 and rhs[0] == sent:\n",
    "#             return 'start_node -> sent', lhs, rhs[0]\n",
    "        \n",
    "        elif len(rhs) == 2:\n",
    "            return 'binary', lhs, rhs"
   ]
  },
  {
   "cell_type": "code",
   "execution_count": 11,
   "metadata": {},
   "outputs": [],
   "source": [
    "# dict_lexicons, dict_unaries, dict_binaries = {}, {start : {sent : 1}}, {}\n",
    "\n",
    "# for string in data_train:\n",
    "#     t = Tree.fromstring(ignore_functional_labels(string))\n",
    "#     t.chomsky_normal_form()\n",
    "#     rules = t.productions()\n",
    "#     for rule in rules:\n",
    "#         nature, lhs, rhs = express_node(rule)\n",
    "#         if nature == 'lexical':\n",
    "#             if lhs in dict_lexicons:\n",
    "#                 if rhs in dict_lexicons[lhs]:\n",
    "#                     dict_lexicons[lhs][rhs] += 1\n",
    "                    \n",
    "#                 else:\n",
    "#                     dict_lexicons[lhs][rhs] = 1\n",
    "                    \n",
    "#             else:\n",
    "#                 dict_lexicons[lhs] = {rhs : 1}\n",
    "                \n",
    "#         elif nature == 'unary':\n",
    "#             if lhs in dict_unaries:\n",
    "#                 if rhs in dict_unaries[lhs]:\n",
    "#                     dict_unaries[lhs][rhs] += 1\n",
    "                    \n",
    "#                 else:\n",
    "#                     dict_unaries[lhs][rhs] = 1\n",
    "                    \n",
    "#             else:\n",
    "#                 dict_unaries[lhs] = {rhs : 1}\n",
    "                \n",
    "#         elif nature == 'binary':\n",
    "#             if lhs in dict_binaries:\n",
    "#                 if rhs in dict_binaries[lhs]:\n",
    "#                     dict_binaries[lhs][rhs] += 1\n",
    "                    \n",
    "#                 else:\n",
    "#                     dict_binaries[lhs][rhs] = 1\n",
    "                    \n",
    "#             else:\n",
    "#                 dict_binaries[lhs] = {rhs : 1}\n",
    "                \n",
    "#         elif nature == 'start_node':\n",
    "#             continue"
   ]
  },
  {
   "cell_type": "code",
   "execution_count": 12,
   "metadata": {},
   "outputs": [],
   "source": [
    "# data_dev"
   ]
  },
  {
   "cell_type": "code",
   "execution_count": 13,
   "metadata": {},
   "outputs": [],
   "source": [
    "# def pcfg(data):\n",
    "    \n",
    "#     \"\"\"\n",
    "#     Description\n",
    "#     ----------------\n",
    "#     Create PCFG model from the data, i.e compute the probability of each rule (conditiona probabilities) statistically from the data\n",
    "    \n",
    "#     Parameters\n",
    "#     ----------------\n",
    "#     data : List of strings representing parse trees.\n",
    "    \n",
    "#     Returns\n",
    "#     ----------------\n",
    "#     dict_pcfg   : Dictionnary with three keys {'lexical', 'unary', 'binary'}\n",
    "#                  - dict_pcfg['lexical']  : dictionnary of lexicons.\n",
    "#                                            - keys   : POS tags; \n",
    "#                                            - values : dictionnary of probabilities p(terminal|POS_tag)\n",
    "#                                                      - keys   : terminals.\n",
    "#                                                      - values : p(terminal|POS_tag)\n",
    "#                  - dict_pcfg['unary']    : dictionnary of unary laws.\n",
    "#                                            - keys   : non terminals; \n",
    "#                                            - values : dictionnary of probabilities p(node|non_terminal), node here can be\n",
    "#                                                       either a POS tag or a non terminal.\n",
    "#                                                      - keys   : non terminals.\n",
    "#                                                      - values : p(node|non_terminal)\n",
    "                                                                          \n",
    "#                  - dict_pcfg['binary']   : dictionnary of binary laws.\n",
    "#                                            - keys   : non terminals; \n",
    "#                                            - values : dictionnary of probabilities p(node|non_terminal), node here is binary\n",
    "#                                                       containing POS tags or non terminals.\n",
    "#                                                      - keys   : non terminals.\n",
    "#                                                      - values : p(node|non_terminal)\n",
    "                                                                        \n",
    "#     dict_probas : Dictionnary rearranging the elements of dict_pcfg in a way that simplifies the use of the probabilities \n",
    "#                   in the CYK algorithm.\n",
    "#                   - keys   : nodes, either POS tags or non terminals or binary nodes;\n",
    "#                   - values : dictionnary of probabilities.\n",
    "#                             - keys   : unary nodes (POS tags or non terminals).\n",
    "#                             - values : probabilities p(node|unary_node)\n",
    "#     \"\"\"\n",
    "    \n",
    "#     # Initalize dictionnaries dict_lexicons, dict_unaries, dict_binaries that we put in dict_pcfg\n",
    "#     dict_lexicons, dict_unaries, dict_binaries = {}, {start : {sent : 1}}, {} # Notice that we already put the rule of the start node in\n",
    "#                                                                               # Chomsky normal form\n",
    "#     dict_pcfg = {'lexical' : dict_lexicons, 'unary' : dict_unaries, 'binary' : dict_binaries}\n",
    "    \n",
    "#     # Loop over the data\n",
    "#     for string in data:\n",
    "#         t = Tree.fromstring(ignore_functional_labels(string)) # Ignore the functional labels (see the doc of ignore_functional_labels)\n",
    "#         t.chomsky_normal_form()  # Convert the tree to Chomsky normal form\n",
    "#         rules = t.productions()  # Get the rules\n",
    "#         for rule in rules:       # We start by counting the rules in data\n",
    "#             nature, lhs, rhs = express_node(rule)\n",
    "#             if nature in ['lexical', 'unary', 'binary']:\n",
    "#                 if lhs in dict_pcfg[nature]:\n",
    "#                     if rhs in dict_pcfg[nature][lhs]:\n",
    "#                         dict_pcfg[nature][lhs][rhs] += 1\n",
    "\n",
    "#                     else:\n",
    "#                         dict_pcfg[nature][lhs][rhs] = 1\n",
    "\n",
    "#                 else:\n",
    "#                     dict_pcfg[nature][lhs] = {rhs : 1}\n",
    "\n",
    "#             elif nature == 'start_node':\n",
    "#                 continue\n",
    "                \n",
    "#     normalize = lambda dictionnary, key, value : value/sum(dictionnary.values()) # After counting the data, now we normalize the \n",
    "#                                                                                  # dictionnaries in order to get probabilities.\n",
    "#     for nature in dict_pcfg:\n",
    "#         for lhs in dict_pcfg[nature]:\n",
    "#             dict_pcfg[nature][lhs] = dict((key, normalize(dict_pcfg[nature][lhs], key, value)) for key, value in dict_pcfg[nature][lhs].items())\n",
    "            \n",
    "#     dict_probas = {} # Initialize dict_probas\n",
    "#     for nature in dict_pcfg:\n",
    "#         for lhs in dict_pcfg[nature]:\n",
    "#             for node in dict_pcfg[nature][lhs]:\n",
    "#                 if node in dict_probas:\n",
    "#                     dict_probas[node][lhs] = dict_pcfg[nature][lhs][node]\n",
    "\n",
    "#                 else:\n",
    "#                     dict_probas[node] = {lhs : dict_pcfg[nature][lhs][node]}\n",
    "                    \n",
    "#     return dict_pcfg, dict_probas\n",
    "\n",
    "\n"
   ]
  },
  {
   "cell_type": "code",
   "execution_count": 14,
   "metadata": {},
   "outputs": [],
   "source": [
    "def pcfg(data):\n",
    "    \n",
    "    \"\"\"\n",
    "    Description\n",
    "    ----------------\n",
    "    Create PCFG model from the data, i.e compute the probability of each rule (conditiona probabilities) statistically from the data\n",
    "    \n",
    "    Parameters\n",
    "    ----------------\n",
    "    data : List of strings representing parse trees.\n",
    "    \n",
    "    Returns\n",
    "    ----------------\n",
    "    dict_pcfg   : Dictionnary with three keys {'lexical', 'unary', 'binary'}\n",
    "                 - dict_pcfg['lexical']  : dictionnary of lexicons.\n",
    "                                           - keys   : POS tags; \n",
    "                                           - values : dictionnary of probabilities p(terminal|POS_tag)\n",
    "                                                     - keys   : terminals.\n",
    "                                                     - values : p(terminal|POS_tag)\n",
    "                 - dict_pcfg['unary']    : dictionnary of unary laws.\n",
    "                                           - keys   : non terminals; \n",
    "                                           - values : dictionnary of probabilities p(node|non_terminal), node here can be\n",
    "                                                      either a POS tag or a non terminal.\n",
    "                                                     - keys   : non terminals.\n",
    "                                                     - values : p(node|non_terminal)\n",
    "                                                                          \n",
    "                 - dict_pcfg['binary']   : dictionnary of binary laws.\n",
    "                                           - keys   : non terminals; \n",
    "                                           - values : dictionnary of probabilities p(node|non_terminal), node here is binary\n",
    "                                                      containing POS tags or non terminals.\n",
    "                                                     - keys   : non terminals.\n",
    "                                                     - values : p(node|non_terminal)\n",
    "                                                                        \n",
    "    dict_probas : Dictionnary rearranging the elements of dict_pcfg in a way that simplifies the use of the probabilities \n",
    "                  in the CYK algorithm, keys in {'lexical', 'unary', 'binary'}                  \n",
    "                  dictionnary of probabilities.\n",
    "                            - keys   : unary nodes (POS tags or non terminals).\n",
    "                            - values : probabilities p(node|unary_node)\n",
    "    \"\"\"\n",
    "    \n",
    "    # Initalize dictionnaries dict_lexicons, dict_unaries, dict_binaries that we put in dict_pcfg\n",
    "    dict_lexicons, dict_unaries, dict_binaries = {}, {start : {sent : 1}}, {} # Notice that we already put the rule of the start node in\n",
    "                                                                              # Chomsky normal form\n",
    "    dict_pcfg = {'lexical' : dict_lexicons, 'unary' : dict_unaries, 'binary' : dict_binaries}\n",
    "    \n",
    "    # Loop over the data\n",
    "    for string in data:\n",
    "        t = Tree.fromstring(ignore_functional_labels(string)) # Ignore the functional labels (see the doc of ignore_functional_labels)\n",
    "        t.chomsky_normal_form()  # Convert the tree to Chomsky normal form\n",
    "        rules = t.productions()  # Get the rules\n",
    "        for rule in rules:       # We start by counting the rules in data\n",
    "            nature, lhs, rhs = express_node(rule)\n",
    "            if nature in ['lexical', 'unary', 'binary']:\n",
    "                if lhs in dict_pcfg[nature]:\n",
    "                    if rhs in dict_pcfg[nature][lhs]:\n",
    "                        dict_pcfg[nature][lhs][rhs] += 1\n",
    "\n",
    "                    else:\n",
    "                        dict_pcfg[nature][lhs][rhs] = 1\n",
    "\n",
    "                else:\n",
    "                    dict_pcfg[nature][lhs] = {rhs : 1}\n",
    "\n",
    "            elif nature == 'start_node':\n",
    "                continue\n",
    "                \n",
    "    normalize = lambda dictionnary, key, value : value/sum(dictionnary.values()) # After counting the data, now we normalize the \n",
    "                                                                                 # dictionnaries in order to get probabilities.\n",
    "    for nature in dict_pcfg:\n",
    "        for lhs in dict_pcfg[nature]:\n",
    "            dict_pcfg[nature][lhs] = dict((key, normalize(dict_pcfg[nature][lhs], key, value)) for key, value in dict_pcfg[nature][lhs].items())\n",
    "            \n",
    "    dict_probas = {'lexical' : {}, 'unary' : {}, 'binary' : {}} # Initialize dict_probas\n",
    "    for nature in dict_pcfg:\n",
    "        for lhs in dict_pcfg[nature]:\n",
    "            for node in dict_pcfg[nature][lhs]:\n",
    "                if node in dict_probas[nature]:\n",
    "                    dict_probas[nature][node][lhs] = dict_pcfg[nature][lhs][node]\n",
    "\n",
    "                else:\n",
    "                    dict_probas[nature][node] = {lhs : dict_pcfg[nature][lhs][node]}\n",
    "                    \n",
    "    return dict_pcfg, dict_probas\n",
    "\n",
    "\n"
   ]
  },
  {
   "cell_type": "code",
   "execution_count": 15,
   "metadata": {},
   "outputs": [],
   "source": [
    "# dict_pcfg, dict_probas = pcfg(data_train)\n",
    "dict_pcfg, dict_probas = pcfg(data)"
   ]
  },
  {
   "cell_type": "code",
   "execution_count": 16,
   "metadata": {},
   "outputs": [],
   "source": [
    "# dict_lexicons, dict_unaries, dict_binaries = {}, {start : {sent : 1}}, {}\n",
    "# dict_pcfg = {'lexical' : dict_lexicons, 'unary' : dict_unaries, 'binary' : dict_binaries}\n",
    "\n",
    "# for string in data_train:\n",
    "#     t = Tree.fromstring(ignore_functional_labels(string))\n",
    "#     t.chomsky_normal_form()\n",
    "#     rules = t.productions()\n",
    "#     for rule in rules:\n",
    "#         nature, lhs, rhs = express_node(rule)\n",
    "#         if nature in ['lexical', 'unary', 'binary']:\n",
    "#             if lhs in dict_pcfg[nature]:\n",
    "#                 if rhs in dict_pcfg[nature][lhs]:\n",
    "#                     dict_pcfg[nature][lhs][rhs] += 1\n",
    "                    \n",
    "#                 else:\n",
    "#                     dict_pcfg[nature][lhs][rhs] = 1\n",
    "                    \n",
    "#             else:\n",
    "#                 dict_pcfg[nature][lhs] = {rhs : 1}\n",
    "                \n",
    "#         elif nature == 'start_node':\n",
    "#             continue\n",
    "\n",
    "# # Normalize to compute the probabilities\n",
    "# normalize = lambda dictionnary, key, value : value/sum(dictionnary.values())\n",
    "# for nature in dict_pcfg:\n",
    "#     for lhs in dict_pcfg[nature]:\n",
    "#         dict_pcfg[nature][lhs] = dict((key, normalize(dict_pcfg[nature][lhs], key, value)) for key, value in dict_pcfg[nature][lhs].items())\n",
    "    \n",
    "# dict_probas = {}\n",
    "# for nature in dict_pcfg:\n",
    "#     for lhs in dict_pcfg[nature]:\n",
    "#         for node in dict_pcfg[nature][lhs]:\n",
    "#             if node in dict_probas:\n",
    "#                 dict_probas[node][lhs] = dict_pcfg[nature][lhs][node]\n",
    "                \n",
    "#             else:\n",
    "#                 dict_probas[node] = {lhs : dict_pcfg[nature][lhs][node]}\n",
    "        "
   ]
  },
  {
   "cell_type": "code",
   "execution_count": 17,
   "metadata": {},
   "outputs": [],
   "source": [
    "# dict_pcfg['unary']"
   ]
  },
  {
   "cell_type": "code",
   "execution_count": 29,
   "metadata": {},
   "outputs": [],
   "source": [
    "def cyk(sentence):\n",
    "    \n",
    "    n = len(sentence) + 1\n",
    "    k = len(non_terminals)\n",
    "    scores = np.zeros((n, n, k))\n",
    "    back = [[[None for i in range(k)] for j in range(n)] for l in range(n)]\n",
    "    for i in range(0, n-1):\n",
    "        word = sentence[i]\n",
    "        for A in dict_probas['lexical'][word]:\n",
    "            scores[i, i+1, dict_non_terminals_indices[A]] = dict_probas['lexical'][word][A]\n",
    "                        \n",
    "        added = True\n",
    "        while added:\n",
    "            added = False\n",
    "            for B in dict_probas['unary']:\n",
    "                score_B = scores[i, i+1, dict_non_terminals_indices[B]]\n",
    "                if score_B > 0:\n",
    "                    for A in dict_probas['unary'][B]:\n",
    "                        prob = dict_probas['unary'][B][A]*score_B\n",
    "                        if prob > scores[i, i+1, dict_non_terminals_indices[A]]:\n",
    "                            scores[i, i+1, dict_non_terminals_indices[A]] = prob\n",
    "                            back[i][i+1][dict_non_terminals_indices[A]] = B\n",
    "                            added = True\n",
    "                                                        \n",
    "    for span in range(2, n):\n",
    "        for begin in range(0, n-span):\n",
    "            end = begin + span\n",
    "            for split in range(begin+1, end):\n",
    "                for B, C in dict_probas['binary']:\n",
    "                    score_B, score_C = scores[begin, split, dict_non_terminals_indices[B]], scores[split, end, dict_non_terminals_indices[C]]\n",
    "                    if score_B*score_C > 0:\n",
    "                        for A in dict_probas['binary'][(B, C)]:\n",
    "                            prob = score_B*score_C*dict_probas['binary'][(B, C)][A]\n",
    "                            if prob > scores[begin, end, dict_non_terminals_indices[A]]:\n",
    "                                scores[begin, end, dict_non_terminals_indices[A]] = prob\n",
    "                                back[begin][end][dict_non_terminals_indices[A]] = (split, B, C)\n",
    "                                \n",
    "            added = True\n",
    "            while added:\n",
    "                added = False\n",
    "                for B in dict_probas['unary']:\n",
    "                    score_B = scores[begin, end, dict_non_terminals_indices[B]]\n",
    "                    if score_B > 0:\n",
    "                        for A in dict_probas['unary'][B]:\n",
    "                            prob = prob = dict_probas['unary'][B][A]*score_B\n",
    "                            if prob > scores[begin, end, dict_non_terminals_indices[A]]:\n",
    "                                scores[begin, end, dict_non_terminals_indices[A]] = prob\n",
    "                                back[begin][end][dict_non_terminals_indices[A]] = B\n",
    "                                added = True\n",
    "                                \n",
    "                                \n",
    "    return scores, back"
   ]
  },
  {
   "cell_type": "code",
   "execution_count": 63,
   "metadata": {},
   "outputs": [],
   "source": [
    "# def cyk(sentence):\n",
    "    \n",
    "#     n = len(sentence) + 1\n",
    "#     k = len(non_terminals)\n",
    "#     scores = np.zeros((n, n, k))\n",
    "#     back = [[[None for i in range(k)] for j in range(n)] for l in range(n)]\n",
    "#     for i in range(0, n-1):\n",
    "#         word = sentence[i]\n",
    "#         for A in dict_probas['lexical'][word]:\n",
    "#             scores[i, i+1, dict_non_terminals_indices[A]] = dict_probas['lexical'][word][A]\n",
    "                        \n",
    "#         added = True\n",
    "#         while added:\n",
    "#             added = False\n",
    "#             for B in dict_probas['unary']:\n",
    "#                 score_B = scores[i, i+1, dict_non_terminals_indices[B]]\n",
    "#                 if score_B > 0:\n",
    "#                     for A in dict_probas['unary'][B]:\n",
    "#                         prob = dict_probas['unary'][B][A]*score_B\n",
    "#                         if prob > scores[i, i+1, dict_non_terminals_indices[A]]:\n",
    "#                             scores[i, i+1, dict_non_terminals_indices[A]] = prob\n",
    "#                             back[i][i+1][dict_non_terminals_indices[A]] = B._symbol\n",
    "#                             added = True\n",
    "                                                        \n",
    "#     for span in range(2, n):\n",
    "#         for begin in range(0, n-span):\n",
    "#             end = begin + span\n",
    "#             for split in range(begin+1, end):\n",
    "#                 for B, C in dict_probas['binary']:\n",
    "#                     score_B, score_C = scores[begin, split, dict_non_terminals_indices[B]], scores[split, end, dict_non_terminals_indices[C]]\n",
    "#                     if score_B*score_C > 0:\n",
    "#                         for A in dict_probas['binary'][(B, C)]:\n",
    "#                             prob = score_B*score_C*dict_probas['binary'][(B, C)][A]\n",
    "#                             if prob > scores[begin, end, dict_non_terminals_indices[A]]:\n",
    "#                                 scores[begin, end, dict_non_terminals_indices[A]] = prob\n",
    "#                                 back[begin][end][dict_non_terminals_indices[A]] = (split, B._symbol, C._symbol)\n",
    "                                \n",
    "#             added = True\n",
    "#             while added:\n",
    "#                 added = False\n",
    "#                 for B in dict_probas['unary']:\n",
    "#                     score_B = scores[begin, end, dict_non_terminals_indices[B]]\n",
    "#                     if score_B > 0:\n",
    "#                         for A in dict_probas['unary'][B]:\n",
    "#                             prob = prob = dict_probas['unary'][B][A]*score_B\n",
    "#                             if prob > scores[begin, end, dict_non_terminals_indices[A]]:\n",
    "#                                 scores[begin, end, dict_non_terminals_indices[A]] = prob\n",
    "#                                 back[begin][end][dict_non_terminals_indices[A]] = B._symbol\n",
    "#                                 added = True\n",
    "                                \n",
    "                                \n",
    "#     return scores, back"
   ]
  },
  {
   "cell_type": "code",
   "execution_count": 64,
   "metadata": {},
   "outputs": [],
   "source": [
    "t = Tree.fromstring(data[20])\n",
    "t.chomsky_normal_form()"
   ]
  },
  {
   "cell_type": "code",
   "execution_count": 65,
   "metadata": {},
   "outputs": [
    {
     "data": {
      "image/png": "[encoded data removed]",
      "text/plain": [
       "Tree('', [Tree('SENT', [Tree('VN', [Tree('CLS-SUJ', ['Elle']), Tree('VN|<CLR-V>', [Tree('CLR', ['se']), Tree('V', ['veut'])])]), Tree('SENT|<ADV-NP-OBJ-PONCT-PONCT>', [Tree('ADV', ['aussi']), Tree('SENT|<NP-OBJ-PONCT-PONCT>', [Tree('NP-OBJ', [Tree('NC', ['message']), Tree('PP', [Tree('P', [\"d'\"]), Tree('NP', [Tree('NC', ['espoir']), Tree('PP', [Tree('P', ['en']), Tree('NP', [Tree('DET', [\"l'\"]), Tree('NC', ['avenir'])])])])])]), Tree('SENT|<PONCT-PONCT>', [Tree('PONCT', ['\"']), Tree('PONCT', ['.'])])])])])])"
      ]
     },
     "execution_count": 65,
     "metadata": {},
     "output_type": "execute_result"
    }
   ],
   "source": [
    "t"
   ]
  },
  {
   "cell_type": "code",
   "execution_count": 66,
   "metadata": {},
   "outputs": [
    {
     "data": {
      "text/plain": [
       "['Elle',\n",
       " 'se',\n",
       " 'veut',\n",
       " 'aussi',\n",
       " 'message',\n",
       " \"d'\",\n",
       " 'espoir',\n",
       " 'en',\n",
       " \"l'\",\n",
       " 'avenir',\n",
       " '\"',\n",
       " '.']"
      ]
     },
     "execution_count": 66,
     "metadata": {},
     "output_type": "execute_result"
    }
   ],
   "source": [
    "sentence = t.leaves()\n",
    "sentence"
   ]
  },
  {
   "cell_type": "code",
   "execution_count": 67,
   "metadata": {},
   "outputs": [
    {
     "data": {
      "text/plain": [
       "12"
      ]
     },
     "execution_count": 67,
     "metadata": {},
     "output_type": "execute_result"
    }
   ],
   "source": [
    "len(sentence)"
   ]
  },
  {
   "cell_type": "code",
   "execution_count": 68,
   "metadata": {},
   "outputs": [],
   "source": [
    "scores, back = cyk(sentence)"
   ]
  },
  {
   "cell_type": "code",
   "execution_count": 70,
   "metadata": {},
   "outputs": [
    {
     "data": {
      "text/plain": [
       "True"
      ]
     },
     "execution_count": 70,
     "metadata": {},
     "output_type": "execute_result"
    }
   ],
   "source": [
    "sent._symbol in back[0][12]"
   ]
  },
  {
   "cell_type": "code",
   "execution_count": 72,
   "metadata": {},
   "outputs": [
    {
     "data": {
      "text/plain": [
       "(3, 'VN', 'SENT|<ADV-NP-PONCT-PONCT>')"
      ]
     },
     "execution_count": 72,
     "metadata": {},
     "output_type": "execute_result"
    }
   ],
   "source": [
    "back[0][12][dict_non_terminals_indices[sent]]"
   ]
  },
  {
   "cell_type": "code",
   "execution_count": null,
   "metadata": {},
   "outputs": [],
   "source": [
    "back[0][11][dict_non_terminals_indices[sent]]"
   ]
  },
  {
   "cell_type": "code",
   "execution_count": 56,
   "metadata": {},
   "outputs": [
    {
     "name": "stdout",
     "output_type": "stream",
     "text": [
      "1min 5s ± 2.7 s per loop (mean ± std. dev. of 7 runs, 1 loop each)\n"
     ]
    }
   ],
   "source": [
    "# %timeit cyk(sentence)"
   ]
  },
  {
   "cell_type": "code",
   "execution_count": 59,
   "metadata": {},
   "outputs": [
    {
     "data": {
      "text/plain": [
       "{'_symbol': 'SENT', '_hash': 6734061089900793145}"
      ]
     },
     "execution_count": 59,
     "metadata": {},
     "output_type": "execute_result"
    }
   ],
   "source": [
    "sent.__dict__"
   ]
  },
  {
   "cell_type": "code",
   "execution_count": 62,
   "metadata": {},
   "outputs": [
    {
     "data": {
      "text/plain": [
       "'SENT'"
      ]
     },
     "execution_count": 62,
     "metadata": {},
     "output_type": "execute_result"
    }
   ],
   "source": [
    "sent._symbol"
   ]
  },
  {
   "cell_type": "code",
   "execution_count": null,
   "metadata": {},
   "outputs": [],
   "source": []
  },
  {
   "cell_type": "code",
   "execution_count": null,
   "metadata": {},
   "outputs": [],
   "source": []
  },
  {
   "cell_type": "code",
   "execution_count": null,
   "metadata": {},
   "outputs": [],
   "source": []
  },
  {
   "cell_type": "code",
   "execution_count": null,
   "metadata": {},
   "outputs": [],
   "source": []
  },
  {
   "cell_type": "code",
   "execution_count": null,
   "metadata": {},
   "outputs": [],
   "source": []
  },
  {
   "cell_type": "code",
   "execution_count": null,
   "metadata": {},
   "outputs": [],
   "source": []
  },
  {
   "cell_type": "code",
   "execution_count": null,
   "metadata": {},
   "outputs": [],
   "source": []
  },
  {
   "cell_type": "code",
   "execution_count": null,
   "metadata": {},
   "outputs": [],
   "source": []
  }
 ],
 "metadata": {
  "kernelspec": {
   "display_name": "Python 3",
   "language": "python",
   "name": "python3"
  },
  "language_info": {
   "codemirror_mode": {
    "name": "ipython",
    "version": 3
   },
   "file_extension": ".py",
   "mimetype": "text/x-python",
   "name": "python",
   "nbconvert_exporter": "python",
   "pygments_lexer": "ipython3",
   "version": "3.6.8"
  }
 },
 "nbformat": 4,
 "nbformat_minor": 2
}
