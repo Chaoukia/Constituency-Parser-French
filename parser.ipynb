{
 "cells": [
  {
   "cell_type": "code",
   "execution_count": 1,
   "metadata": {},
   "outputs": [],
   "source": [
    "import numpy as np\n",
    "import matplotlib.pyplot as plt\n",
    "%matplotlib inline\n",
    "from nltk import Tree, grammar\n",
    "import random\n",
    "import queue\n",
    "import pickle as pkl\n",
    "from scipy.spatial import distance"
   ]
  },
  {
   "cell_type": "code",
   "execution_count": 2,
   "metadata": {},
   "outputs": [],
   "source": [
    "with open('sequoia-corpus+fct.mrg_strict', 'r') as file:\n",
    "    data = file.read().splitlines()\n",
    "    \n",
    "file.close()"
   ]
  },
  {
   "cell_type": "code",
   "execution_count": 3,
   "metadata": {},
   "outputs": [],
   "source": [
    "def ignore_functional_labels(string):\n",
    "    \n",
    "    \"\"\"\n",
    "    Description\n",
    "    ----------------\n",
    "    Ignore functional labels in the non terminals of a rule, for example PP-MOD becomes PP\n",
    "    \n",
    "    Parameters\n",
    "    ----------------\n",
    "    string : String form of parse tree.\n",
    "    \n",
    "    Returns\n",
    "    ----------------\n",
    "    new string form of parse tree\n",
    "    \"\"\"\n",
    "    \n",
    "    l = string.split(' ')\n",
    "    for i in range(len(l)):\n",
    "        if l[i][0] == '(':\n",
    "            l[i] = l[i].split('-')[0]\n",
    "            \n",
    "    return ' '.join(l)\n",
    "    "
   ]
  },
  {
   "cell_type": "code",
   "execution_count": 4,
   "metadata": {},
   "outputs": [],
   "source": [
    "# t = Tree.fromstring(ignore_functional_labels(data[2]))\n",
    "# t.chomsky_normal_form()\n",
    "# t.productions()"
   ]
  },
  {
   "cell_type": "code",
   "execution_count": 5,
   "metadata": {},
   "outputs": [],
   "source": [
    "def extract_nodes(rule):\n",
    "    \n",
    "    \"\"\"\n",
    "    Description\n",
    "    ---------------\n",
    "    Extract the non terminal and terminal nodes from a rule along with the status of the rule (either lexical 1, or not 0)\n",
    "    \n",
    "    Parameters\n",
    "    ---------------\n",
    "    rule : nltk.grammar.Production object, the rule to consider.\n",
    "    \n",
    "    Returns\n",
    "    ---------------\n",
    "    3-tuple, tuple[0] : the lexical status.\n",
    "             tuple[1] : set containing the non terminal nodes.\n",
    "             tuple[2] : set containing the terminal nodes.\n",
    "    \"\"\"\n",
    "    if rule.is_lexical():\n",
    "        return True, set((rule._lhs,)), set((rule._rhs))\n",
    "    \n",
    "    else:\n",
    "        return False, set((rule._lhs,)).union(set(rule._rhs)), set()"
   ]
  },
  {
   "cell_type": "code",
   "execution_count": 6,
   "metadata": {},
   "outputs": [],
   "source": [
    "non_terminals = set()\n",
    "pos_tags = set()\n",
    "terminals = set()\n",
    "binaries = set()\n",
    "for string in data:\n",
    "    t = Tree.fromstring(ignore_functional_labels(string))\n",
    "    t.chomsky_normal_form()\n",
    "    rules = t.productions()\n",
    "    for rule in rules:\n",
    "        lexical, non_terminal_nodes, terminal_nodes = extract_nodes(rule)\n",
    "        if lexical:\n",
    "            non_terminals = non_terminals.union(non_terminal_nodes)\n",
    "            pos_tags = pos_tags.union(non_terminal_nodes)\n",
    "            terminals = terminals.union(terminal_nodes)\n",
    "            \n",
    "        else:\n",
    "            non_terminals = non_terminals.union(non_terminal_nodes)\n",
    "            if len(rule._rhs) == 2:\n",
    "                binaries.add(rule._rhs)\n",
    "\n",
    "# non_terminals = non_terminals.difference(pos_tags)\n",
    "start = rules[0]._lhs   # The start symbol\n",
    "sent = rules[0]._rhs[0] # The previous start symbol"
   ]
  },
  {
   "cell_type": "code",
   "execution_count": 7,
   "metadata": {},
   "outputs": [
    {
     "name": "stdout",
     "output_type": "stream",
     "text": [
      "Number of terminals : 10378\n",
      "Number of POS tags : 29\n",
      "Number of non terminals : 5129\n",
      "Number of binaries : 7269\n"
     ]
    }
   ],
   "source": [
    "print('Number of terminals : %d' %len(terminals))\n",
    "print('Number of POS tags : %d' %len(pos_tags))\n",
    "print('Number of non terminals : %d' %len(non_terminals))\n",
    "print('Number of binaries : %d' %len(binaries))"
   ]
  },
  {
   "cell_type": "code",
   "execution_count": 8,
   "metadata": {},
   "outputs": [],
   "source": [
    "dict_symbol_non_terminal = dict((non_terminal._symbol, non_terminal) for non_terminal in non_terminals)"
   ]
  },
  {
   "cell_type": "code",
   "execution_count": 9,
   "metadata": {},
   "outputs": [],
   "source": [
    "dict_non_terminals_indices = {non_terminal : index for index, non_terminal in enumerate(non_terminals)}\n",
    "dict_indices_non_terminals = {index : non_terminal for non_terminal, index in dict_non_terminals_indices.items()}\n",
    "\n",
    "dict_pos_indices = {pos : index for index, pos in enumerate(pos_tags)}\n",
    "dict_indices_pos = {index : pos for pos, index in dict_pos_indices.items()}\n",
    "\n",
    "dict_terminals_indices = {terminal : index for index, terminal in enumerate(terminals)}\n",
    "dict_indices_terminals = {index : terminal for terminal, index in dict_terminals_indices.items()}\n",
    "\n",
    "dict_binaries_indices = {binary : index for index, binary in enumerate(binaries)}\n",
    "dict_indices_terminals = {index : binary for binary, index in dict_binaries_indices.items()}"
   ]
  },
  {
   "cell_type": "code",
   "execution_count": 10,
   "metadata": {},
   "outputs": [],
   "source": [
    "# random.seed(0)\n",
    "# random.shuffle(data)\n",
    "# data_train, data_dev, data_test = data[:4*len(data)//5], data[4*len(data)//5:9*len(data)//10], data[9*len(data)//10:]\n",
    "# del data"
   ]
  },
  {
   "cell_type": "markdown",
   "metadata": {},
   "source": [
    "## PCFG"
   ]
  },
  {
   "cell_type": "code",
   "execution_count": 11,
   "metadata": {},
   "outputs": [],
   "source": [
    "def express_node(rule):\n",
    "    \n",
    "    \"\"\"\n",
    "    Description\n",
    "    ---------------\n",
    "    Express the nature of the rule and extract its left hand and right hand sides.\n",
    "    \n",
    "    Parameters\n",
    "    ---------------\n",
    "    rule : nltk.grammar.Production object, the rule to consider.\n",
    "    \n",
    "    Returns\n",
    "    ---------------\n",
    "    3-tuple, tuple[0] : String describing the rule {'lexical', 'start_node', 'unary', 'binary'}\n",
    "             tuple[1] : nltk.grammar.Production, the left hand side of the rule.\n",
    "             tuple[2] : nltk.grammar.Production, the right hand side of the rule.\n",
    "    \"\"\"\n",
    "    if rule.is_lexical():\n",
    "        return 'lexical', rule._lhs, rule._rhs[0]\n",
    "    \n",
    "    else:\n",
    "        lhs, rhs = rule._lhs, rule._rhs\n",
    "        if rhs[0] == sent:\n",
    "            return 'start_node', lhs, rhs[0]\n",
    "        \n",
    "        elif len(rhs) == 1:\n",
    "            return 'unary', lhs, rhs[0]\n",
    "        \n",
    "#         elif len(rhs) == 1 and rhs[0] == sent:\n",
    "#             return 'start_node -> sent', lhs, rhs[0]\n",
    "        \n",
    "        elif len(rhs) == 2:\n",
    "            return 'binary', lhs, rhs"
   ]
  },
  {
   "cell_type": "code",
   "execution_count": 12,
   "metadata": {},
   "outputs": [],
   "source": [
    "def pcfg(data):\n",
    "    \n",
    "    \"\"\"\n",
    "    Description\n",
    "    ----------------\n",
    "    Create PCFG model from the data, i.e compute the probability of each rule (conditiona probabilities) statistically from the data\n",
    "    \n",
    "    Parameters\n",
    "    ----------------\n",
    "    data : List of strings representing parse trees.\n",
    "    \n",
    "    Returns\n",
    "    ----------------\n",
    "    dict_pcfg   : Dictionnary with three keys {'lexical', 'unary', 'binary'}\n",
    "                 - dict_pcfg['lexical']  : dictionnary of lexicons.\n",
    "                                           - keys   : POS tags; \n",
    "                                           - values : dictionnary of probabilities p(terminal|POS_tag)\n",
    "                                                     - keys   : terminals.\n",
    "                                                     - values : p(terminal|POS_tag)\n",
    "                 - dict_pcfg['unary']    : dictionnary of unary laws.\n",
    "                                           - keys   : non terminals; \n",
    "                                           - values : dictionnary of probabilities p(node|non_terminal), node here can be\n",
    "                                                      either a POS tag or a non terminal.\n",
    "                                                     - keys   : non terminals.\n",
    "                                                     - values : p(node|non_terminal)\n",
    "                                                                          \n",
    "                 - dict_pcfg['binary']   : dictionnary of binary laws.\n",
    "                                           - keys   : non terminals; \n",
    "                                           - values : dictionnary of probabilities p(node|non_terminal), node here is binary\n",
    "                                                      containing POS tags or non terminals.\n",
    "                                                     - keys   : non terminals.\n",
    "                                                     - values : p(node|non_terminal)\n",
    "                                                                        \n",
    "    dict_probas : Dictionnary rearranging the elements of dict_pcfg in a way that simplifies the use of the probabilities \n",
    "                  in the CYK algorithm, keys in {'lexical', 'unary', 'binary'}                  \n",
    "                  dictionnary of probabilities.\n",
    "                            - keys   : unary nodes (POS tags or non terminals).\n",
    "                            - values : probabilities p(node|unary_node)\n",
    "    \"\"\"\n",
    "    \n",
    "    # Initalize dictionnaries dict_lexicons, dict_unaries, dict_binaries that we put in dict_pcfg\n",
    "    dict_lexicons, dict_unaries, dict_binaries = {}, {start : {sent : 1.}}, {} # Notice that we already put the rule of the start node in\n",
    "                                                                              # Chomsky normal form\n",
    "    dict_pcfg = {'lexical' : dict_lexicons, 'unary' : dict_unaries, 'binary' : dict_binaries}\n",
    "    \n",
    "    # Loop over the data\n",
    "    for string in data:\n",
    "        t = Tree.fromstring(ignore_functional_labels(string)) # Ignore the functional labels (see the doc of ignore_functional_labels)\n",
    "        t.chomsky_normal_form()  # Convert the tree to Chomsky normal form\n",
    "        rules = t.productions()  # Get the rules\n",
    "        for rule in rules:       # We start by counting the rules in data\n",
    "            nature, lhs, rhs = express_node(rule)\n",
    "            if nature in ['lexical', 'unary', 'binary']:\n",
    "                if lhs in dict_pcfg[nature]:\n",
    "                    if rhs in dict_pcfg[nature][lhs]:\n",
    "                        dict_pcfg[nature][lhs][rhs] += 1\n",
    "\n",
    "                    else:\n",
    "                        dict_pcfg[nature][lhs][rhs] = 1\n",
    "\n",
    "                else:\n",
    "                    dict_pcfg[nature][lhs] = {rhs : 1}\n",
    "\n",
    "            elif nature == 'start_node':\n",
    "                continue\n",
    "                \n",
    "    dict_normalized = {}\n",
    "    for nature in dict_pcfg:\n",
    "        for lhs in dict_pcfg[nature]:\n",
    "            if lhs in dict_normalized:\n",
    "                dict_normalized[lhs] += sum(dict_pcfg[nature][lhs].values())\n",
    "                \n",
    "            else:\n",
    "                dict_normalized[lhs] = sum(dict_pcfg[nature][lhs].values())\n",
    "                \n",
    "    for nature in dict_pcfg:\n",
    "        for lhs in dict_pcfg[nature]:\n",
    "            dict_pcfg[nature][lhs] = dict((key, value/dict_normalized[lhs]) for key, value in dict_pcfg[nature][lhs].items())\n",
    "\n",
    "    dict_probas = {'lexical' : {}, 'unary' : {}, 'binary' : {}} # Initialize dict_probas\n",
    "    for nature in dict_pcfg:\n",
    "        for lhs in dict_pcfg[nature]:\n",
    "            for node in dict_pcfg[nature][lhs]:\n",
    "                if node in dict_probas[nature]:\n",
    "                    dict_probas[nature][node][lhs] = dict_pcfg[nature][lhs][node]\n",
    "\n",
    "                else:\n",
    "                    dict_probas[nature][node] = {lhs : dict_pcfg[nature][lhs][node]}\n",
    "                    \n",
    "    return dict_pcfg, dict_probas"
   ]
  },
  {
   "cell_type": "code",
   "execution_count": 13,
   "metadata": {},
   "outputs": [],
   "source": [
    "dict_pcfg, dict_probas = pcfg(data)"
   ]
  },
  {
   "cell_type": "markdown",
   "metadata": {},
   "source": [
    "## CYK algorithm"
   ]
  },
  {
   "cell_type": "code",
   "execution_count": 16,
   "metadata": {},
   "outputs": [],
   "source": [
    "def cyk(sentence):\n",
    "    \n",
    "    n = len(sentence) + 1\n",
    "    k = len(non_terminals)\n",
    "    scores = np.zeros((n, n, k))\n",
    "    back = [[[None for i in range(k)] for j in range(n)] for l in range(n)]\n",
    "    for i in range(0, n-1):\n",
    "        word = sentence[i]\n",
    "        for A in dict_probas['lexical'][word]:\n",
    "            scores[i, i+1, dict_non_terminals_indices[A]] = dict_probas['lexical'][word][A]\n",
    "                        \n",
    "        added = True\n",
    "        while added:\n",
    "            added = False\n",
    "            for B in dict_probas['unary']:\n",
    "                score_B = scores[i, i+1, dict_non_terminals_indices[B]]\n",
    "                if score_B > 0:\n",
    "                    for A in dict_probas['unary'][B]:\n",
    "                        prob = dict_probas['unary'][B][A]*score_B\n",
    "                        if prob > scores[i, i+1, dict_non_terminals_indices[A]]:\n",
    "                            scores[i, i+1, dict_non_terminals_indices[A]] = prob\n",
    "                            back[i][i+1][dict_non_terminals_indices[A]] = B\n",
    "                            added = True\n",
    "                                                        \n",
    "    for span in range(2, n):\n",
    "        for begin in range(0, n-span):\n",
    "            end = begin + span\n",
    "            for split in range(begin+1, end):\n",
    "                for B, C in dict_probas['binary']:\n",
    "                    score_B, score_C = scores[begin, split, dict_non_terminals_indices[B]], scores[split, end, dict_non_terminals_indices[C]]\n",
    "                    if score_B*score_C > 0:\n",
    "                        for A in dict_probas['binary'][(B, C)]:\n",
    "                            prob = score_B*score_C*dict_probas['binary'][(B, C)][A]\n",
    "                            if prob > scores[begin, end, dict_non_terminals_indices[A]]:\n",
    "                                scores[begin, end, dict_non_terminals_indices[A]] = prob\n",
    "                                back[begin][end][dict_non_terminals_indices[A]] = (split, B, C)\n",
    "                                \n",
    "            added = True\n",
    "            while added:\n",
    "                added = False\n",
    "                for B in dict_probas['unary']:\n",
    "                    score_B = scores[begin, end, dict_non_terminals_indices[B]]\n",
    "                    if score_B > 0:\n",
    "                        for A in dict_probas['unary'][B]:\n",
    "                            prob = prob = dict_probas['unary'][B][A]*score_B\n",
    "                            if prob > scores[begin, end, dict_non_terminals_indices[A]]:\n",
    "                                scores[begin, end, dict_non_terminals_indices[A]] = prob\n",
    "                                back[begin][end][dict_non_terminals_indices[A]] = B\n",
    "                                added = True\n",
    "                                \n",
    "                                \n",
    "    return scores, back"
   ]
  },
  {
   "cell_type": "markdown",
   "metadata": {},
   "source": [
    "## Backtrack : Build parse tree from CYK"
   ]
  },
  {
   "cell_type": "code",
   "execution_count": 21,
   "metadata": {},
   "outputs": [],
   "source": [
    "def build_parentheses(back_track):\n",
    "    \n",
    "    \"\"\"\n",
    "    Description\n",
    "    ---------------\n",
    "    Build the parse tree from tha back_track return of CYK algorithm as a string with parentheses. Then if we want to get the parse\n",
    "    in a tree form, we can simply use function Tree.from_string of nltk package.\n",
    "    \n",
    "    Parameters\n",
    "    ---------------\n",
    "    back_track : 3D matrix in the form of list of lists, of \"shape\" (n, n, r).\n",
    "                 - n : the length of the sentence we want to parse.\n",
    "                 - r : the number of non terminal nodes in our grammar.\n",
    "                 \n",
    "    Returns\n",
    "    ---------------\n",
    "    String, the string form with parentheses of the parse tree.\n",
    "    \"\"\"\n",
    "    \n",
    "    string = '('\n",
    "    q = queue.LifoQueue()\n",
    "    begin = 0\n",
    "    end = len(back_track[0]) - 1\n",
    "    q.put((None, sent, 'start', 1, [begin, end]))\n",
    "\n",
    "    while not q.empty():\n",
    "        split, symbol, status, depth, border = q.get()   # border is begin for left and end for right\n",
    "        string += ' (' + symbol._symbol\n",
    "\n",
    "        if status == 'left':\n",
    "            border = [border[0], split]\n",
    "            children = back[border[0]][border[1]][dict_non_terminals_indices[symbol]]\n",
    "\n",
    "        elif status == 'right':\n",
    "            border = [split, border[1]]\n",
    "            children = back[border[0]][border[1]][dict_non_terminals_indices[symbol]]\n",
    "\n",
    "        elif status == 'start':\n",
    "            children = back[border[0]][border[1]][dict_non_terminals_indices[symbol]]\n",
    "\n",
    "        if children is not None:\n",
    "            if isinstance(children, grammar.Nonterminal):\n",
    "                node = (split, children, status, depth+1, border)\n",
    "                q.put(node)\n",
    "\n",
    "            elif len(children) == 3:\n",
    "                split, l_child, r_child = children\n",
    "                l_node, r_node = (split, l_child, 'left', 0, border), (split, r_child, 'right', depth+1, border)\n",
    "                q.put(r_node)\n",
    "                q.put(l_node)\n",
    "\n",
    "        else:\n",
    "            depth += 1\n",
    "            word = sentence[border[0]:border[1]][0]\n",
    "            string += ' ' + word + ')'*depth\n",
    "            \n",
    "    return string"
   ]
  },
  {
   "cell_type": "code",
   "execution_count": 17,
   "metadata": {},
   "outputs": [
    {
     "data": {
      "image/png": "[encoded data removed]",
      "text/plain": [
       "Tree('', [Tree('SENT', [Tree('AdP', [Tree('PONCT', ['\"']), Tree('AdP|<ADV-ADV-PONCT>', [Tree('ADV', ['Tout']), Tree('AdP|<ADV-PONCT>', [Tree('ADV', ['simplement']), Tree('PONCT', ['\"'])])])]), Tree('SENT|<Sint-PONCT-PONCT-Ssub-PONCT>', [Tree('Sint', [Tree('PONCT', [',']), Tree('Sint|<VN-NP>', [Tree('VN', [Tree('V', ['a']), Tree('VPP', ['précisé'])]), Tree('NP', [Tree('NPP', ['Roger']), Tree('NPP', ['Thiriot'])])])]), Tree('SENT|<PONCT-PONCT-Ssub-PONCT>', [Tree('PONCT', [',']), Tree('SENT|<PONCT-Ssub-PONCT>', [Tree('PONCT', ['\"']), Tree('SENT|<Ssub-PONCT>', [Tree('Ssub', [Tree('CS', ['parce_que']), Tree('Ssub|<NP-VN-PONCT-ADV-PONCT-NP>', [Tree('NP', [Tree('DET', [\"l'\"]), Tree('NP|<NC-PP>', [Tree('NC', ['histoire']), Tree('PP', [Tree('P+D', ['du']), Tree('NP', [Tree('NC', ['travail']), Tree('AP', [Tree('ADJ', ['industriel'])])])])])]), Tree('Ssub|<VN-PONCT-ADV-PONCT-NP>', [Tree('VN', [Tree('V', ['est'])]), Tree('Ssub|<PONCT-ADV-PONCT-NP>', [Tree('PONCT', [',']), Tree('Ssub|<ADV-PONCT-NP>', [Tree('ADV', ['ici']), Tree('Ssub|<PONCT-NP>', [Tree('PONCT', [',']), Tree('NP', [Tree('DET', ['une']), Tree('NP|<AP-NC>', [Tree('AP', [Tree('ADJ', ['longue']), Tree('COORD', [Tree('CC', ['et']), Tree('AP', [Tree('ADJ', ['vieille'])])])]), Tree('NC', ['histoire'])])])])])])])])]), Tree('PONCT', ['.'])])])])])])])"
      ]
     },
     "execution_count": 17,
     "metadata": {},
     "output_type": "execute_result"
    }
   ],
   "source": [
    "t = Tree.fromstring(ignore_functional_labels(data[15]))\n",
    "t.chomsky_normal_form()\n",
    "t"
   ]
  },
  {
   "cell_type": "code",
   "execution_count": 18,
   "metadata": {},
   "outputs": [
    {
     "data": {
      "text/plain": [
       "27"
      ]
     },
     "execution_count": 18,
     "metadata": {},
     "output_type": "execute_result"
    }
   ],
   "source": [
    "sentence = t.leaves()\n",
    "len(sentence)"
   ]
  },
  {
   "cell_type": "code",
   "execution_count": 19,
   "metadata": {},
   "outputs": [],
   "source": [
    "scores, back = cyk(sentence)"
   ]
  },
  {
   "cell_type": "code",
   "execution_count": 70,
   "metadata": {},
   "outputs": [
    {
     "data": {
      "image/png": "[encoded data removed]",
      "text/plain": [
       "Tree('', [Tree('SENT', [Tree('AdP', [Tree('PONCT', ['\"']), Tree('ADV', ['Tout']), Tree('ADV', ['simplement']), Tree('PONCT', ['\"'])]), Tree('Sint', [Tree('PONCT', [',']), Tree('VN', [Tree('V', ['a']), Tree('VPP', ['précisé'])]), Tree('NP', [Tree('NPP', ['Roger']), Tree('NPP', ['Thiriot'])])]), Tree('PONCT', [',']), Tree('PONCT', ['\"']), Tree('Ssub', [Tree('CS', ['parce_que']), Tree('NP', [Tree('DET', [\"l'\"]), Tree('NC', ['histoire']), Tree('PP', [Tree('P', [Tree('D', ['du'])]), Tree('NP', [Tree('NC', ['travail']), Tree('AP', [Tree('ADJ', ['industriel'])])])])]), Tree('VN', [Tree('V', ['est'])]), Tree('PONCT', [',']), Tree('ADV', ['ici']), Tree('PONCT', [',']), Tree('NP', [Tree('DET', ['une']), Tree('AP', [Tree('ADJ', ['longue']), Tree('COORD', [Tree('CC', ['et']), Tree('AP', [Tree('ADJ', ['vieille'])])])]), Tree('NC', ['histoire'])])]), Tree('PONCT', ['.'])])])"
      ]
     },
     "execution_count": 70,
     "metadata": {},
     "output_type": "execute_result"
    }
   ],
   "source": [
    "t.un_chomsky_normal_form()\n",
    "t"
   ]
  },
  {
   "cell_type": "code",
   "execution_count": 72,
   "metadata": {},
   "outputs": [
    {
     "data": {
      "image/png": "[encoded data removed]",
      "text/plain": [
       "Tree('', [Tree('SENT', [Tree('AdP', [Tree('PONCT', ['\"']), Tree('ADV', ['Tout']), Tree('ADV', ['simplement']), Tree('PONCT', ['\"'])]), Tree('Sint', [Tree('PONCT', [',']), Tree('VN', [Tree('V', ['a']), Tree('VPP', ['précisé'])]), Tree('NP', [Tree('NPP', ['Roger']), Tree('NPP', ['Thiriot'])])]), Tree('PONCT', [',']), Tree('PONCT', ['\"']), Tree('Ssub', [Tree('CS', ['parce_que']), Tree('NP', [Tree('DET', [\"l'\"]), Tree('NC', ['histoire']), Tree('PP', [Tree('P', [Tree('D', ['du'])]), Tree('NP', [Tree('NC', ['travail']), Tree('AP', [Tree('ADJ', ['industriel'])])])])]), Tree('VN', [Tree('V', ['est'])]), Tree('PONCT', [',']), Tree('ADV', ['ici']), Tree('PONCT', [',']), Tree('NP', [Tree('DET', ['une']), Tree('AP', [Tree('ADJ', ['longue']), Tree('COORD', [Tree('CC', ['et']), Tree('AP', [Tree('ADJ', ['vieille'])])])]), Tree('NC', ['histoire'])])]), Tree('PONCT', ['.'])])])"
      ]
     },
     "execution_count": 72,
     "metadata": {},
     "output_type": "execute_result"
    }
   ],
   "source": [
    "t_test = Tree.fromstring(build_parentheses(back))\n",
    "t_test.un_chomsky_normal_form()\n",
    "t_test"
   ]
  },
  {
   "cell_type": "code",
   "execution_count": 75,
   "metadata": {},
   "outputs": [
    {
     "data": {
      "text/plain": [
       "True"
      ]
     },
     "execution_count": 75,
     "metadata": {},
     "output_type": "execute_result"
    }
   ],
   "source": [
    "\" \".join(str(t).split()) == \" \".join(str(t_test).split())"
   ]
  },
  {
   "cell_type": "markdown",
   "metadata": {},
   "source": [
    "## OOV module"
   ]
  },
  {
   "cell_type": "code",
   "execution_count": 27,
   "metadata": {},
   "outputs": [],
   "source": [
    "words, embeddings = pkl.load(open('polyglot-fr.pkl', 'rb'), encoding = 'latin')\n",
    "dict_words_embeddings = dict((word, embedding) for word, embedding in zip(words, embeddings))\n",
    "del words, embeddings"
   ]
  },
  {
   "cell_type": "code",
   "execution_count": 28,
   "metadata": {},
   "outputs": [
    {
     "data": {
      "text/plain": [
       "[(0.0, 'homme'),\n",
       " (0.21154648065567017, 'enfant'),\n",
       " (0.21763044595718384, 'acteur'),\n",
       " (0.28635895252227783, 'avocat'),\n",
       " (0.3048095703125, 'officier'),\n",
       " (0.3096308708190918, 'auteur'),\n",
       " (0.30973005294799805, 'écrivain'),\n",
       " (0.3104395270347595, 'entraîneur'),\n",
       " (0.31114840507507324, 'art'),\n",
       " (0.31358325481414795, 'prêtre')]"
      ]
     },
     "execution_count": 28,
     "metadata": {},
     "output_type": "execute_result"
    }
   ],
   "source": [
    "word_original = 'homme'\n",
    "scores = []\n",
    "for word in dict_words_embeddings:\n",
    "    scores.append((distance.cosine(dict_words_embeddings[word_original], dict_words_embeddings[word]), word))\n",
    "    \n",
    "sorted(scores)[:10]"
   ]
  },
  {
   "cell_type": "code",
   "execution_count": 65,
   "metadata": {},
   "outputs": [],
   "source": [
    "def levenshtein(s1, s2):\n",
    "    \n",
    "    \"\"\"\n",
    "    Description\n",
    "    ---------------\n",
    "    Computes the Levenshtein distance between two strings.\n",
    "    \n",
    "    Parameters\n",
    "    ---------------\n",
    "    s1, s2 : The two strings we want to compare.\n",
    "    \n",
    "    Returns\n",
    "    ---------------\n",
    "    Float, the Levenshtein distance between s1 and s2\n",
    "    \"\"\"\n",
    "    \n",
    "    n1, n2 = len(s1), len(s2)\n",
    "    lev = np.zeros((n1 + 1, n2 + 1))\n",
    "    for i in range(n1 + 1):\n",
    "        lev[i, 0] = i\n",
    "        \n",
    "    for j in range(n2 + 1):\n",
    "        lev[0, j] = j\n",
    "        \n",
    "    for i in range(1, n1 + 1):\n",
    "        for j in range(1, n2 + 1):\n",
    "            if s1[i-1] == s2[j-1]:\n",
    "                lev[i, j] = min(lev[i-1, j] + 1, lev[i, j-1] + 1, lev[i-1, j-1])\n",
    "                \n",
    "            else:\n",
    "                lev[i, j] = min(lev[i-1, j] + 1, lev[i, j-1] + 1, lev[i-1, j-1] + 1)\n",
    "                \n",
    "    return lev[n1, n2]\n",
    "\n",
    "def damerau_levenshtein(s1, s2):\n",
    "    \n",
    "    \"\"\"\n",
    "    Description\n",
    "    ---------------\n",
    "    Computes the Damerau-Levenshtein distance between two strings.\n",
    "    \n",
    "    Parameters\n",
    "    ---------------\n",
    "    s1, s2 : The two strings we want to compare.\n",
    "    \n",
    "    Returns\n",
    "    ---------------\n",
    "    Float, the Damerau-Levenshtein distance between s1 and s2\n",
    "    \"\"\"\n",
    "    \n",
    "    s1, s2 = s1.lower(), s2.lower()\n",
    "    n1, n2 = len(s1), len(s2)\n",
    "    alphabet = ['a', 'b', 'c', 'd', 'e', 'f', 'g', 'h', 'i', 'j', 'k', 'l', 'm', \n",
    "           'n', 'o', 'p', 'q', 'r', 's', 't', 'u', 'v', 'w', 'x', 'y', 'z']\n",
    "    dict_alphabet_indices = {char:index for (index, char) in zip(range(26), alphabet)}\n",
    "    da, d = np.zeros(26).astype(np.int8), np.zeros((n1 + 2, n2 + 2)).astype(np.int8)\n",
    "    maxdist = n1 + n2\n",
    "    d[0, 0] = maxdist\n",
    "    for i in range(n1 + 1):\n",
    "        d[i+1, 0] = maxdist\n",
    "        d[i+1, 1] = i\n",
    "        \n",
    "    for j in range(n2 + 1):\n",
    "        d[0, j+1] = maxdist\n",
    "        d[1, j+1] = j\n",
    "        \n",
    "    for i in range(1, n1 + 1):\n",
    "        db = 0\n",
    "        for j in range(1, n2 + 1):\n",
    "            k = da[dict_alphabet_indices[s2[j-1]]]\n",
    "            l = db\n",
    "            if s1[i-1] == s2[j-1]:\n",
    "                cost = 0\n",
    "                db = j\n",
    "                \n",
    "            else:\n",
    "                cost = 1\n",
    "                \n",
    "            d[i+1, j+1] = min(d[i, j] + cost, d[i+1, j] + 1, \n",
    "                              d[i, j+1] + 1, d[k, l] + (i-k-1)+1+(j-l-1))\n",
    "            da[dict_alphabet_indices[s1[i-1]]] = i\n",
    "            \n",
    "    return d[-1, -1]\n",
    "    "
   ]
  },
  {
   "cell_type": "code",
   "execution_count": null,
   "metadata": {},
   "outputs": [],
   "source": []
  },
  {
   "cell_type": "code",
   "execution_count": null,
   "metadata": {},
   "outputs": [],
   "source": []
  },
  {
   "cell_type": "code",
   "execution_count": null,
   "metadata": {},
   "outputs": [],
   "source": []
  },
  {
   "cell_type": "code",
   "execution_count": null,
   "metadata": {},
   "outputs": [],
   "source": []
  },
  {
   "cell_type": "code",
   "execution_count": null,
   "metadata": {},
   "outputs": [],
   "source": []
  },
  {
   "cell_type": "code",
   "execution_count": null,
   "metadata": {},
   "outputs": [],
   "source": []
  },
  {
   "cell_type": "code",
   "execution_count": null,
   "metadata": {},
   "outputs": [],
   "source": []
  },
  {
   "cell_type": "code",
   "execution_count": null,
   "metadata": {},
   "outputs": [],
   "source": []
  },
  {
   "cell_type": "code",
   "execution_count": null,
   "metadata": {},
   "outputs": [],
   "source": []
  },
  {
   "cell_type": "code",
   "execution_count": null,
   "metadata": {},
   "outputs": [],
   "source": []
  },
  {
   "cell_type": "code",
   "execution_count": null,
   "metadata": {},
   "outputs": [],
   "source": []
  }
 ],
 "metadata": {
  "kernelspec": {
   "display_name": "Python 3",
   "language": "python",
   "name": "python3"
  },
  "language_info": {
   "codemirror_mode": {
    "name": "ipython",
    "version": 3
   },
   "file_extension": ".py",
   "mimetype": "text/x-python",
   "name": "python",
   "nbconvert_exporter": "python",
   "pygments_lexer": "ipython3",
   "version": "3.6.8"
  }
 },
 "nbformat": 4,
 "nbformat_minor": 2
}
