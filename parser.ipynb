{
 "cells": [
  {
   "cell_type": "code",
   "execution_count": 202,
   "metadata": {},
   "outputs": [],
   "source": [
    "# !pip install PYEVALB\n",
    "# !pip install unidecode"
   ]
  },
  {
   "cell_type": "code",
   "execution_count": 1,
   "metadata": {},
   "outputs": [],
   "source": [
    "import numpy as np\n",
    "import matplotlib.pyplot as plt\n",
    "%matplotlib inline\n",
    "from nltk import Tree, grammar\n",
    "import random\n",
    "import queue\n",
    "import pickle as pkl\n",
    "from scipy.spatial import distance\n",
    "from PYEVALB import scorer\n",
    "from PYEVALB import parser\n",
    "from sklearn.metrics import precision_recall_fscore_support\n",
    "import unidecode\n",
    "import math\n",
    "from itertools import product"
   ]
  },
  {
   "cell_type": "code",
   "execution_count": 2,
   "metadata": {},
   "outputs": [],
   "source": [
    "with open('sequoia-corpus+fct.mrg_strict', 'r') as file:\n",
    "    data = file.read().splitlines()\n",
    "    \n",
    "file.close()"
   ]
  },
  {
   "cell_type": "code",
   "execution_count": 3,
   "metadata": {},
   "outputs": [],
   "source": [
    "def ignore_functional_labels(string):\n",
    "    \n",
    "    \"\"\"\n",
    "    Description\n",
    "    ----------------\n",
    "    Ignore functional labels in the non terminals of a rule, for example PP-MOD becomes PP\n",
    "    \n",
    "    Parameters\n",
    "    ----------------\n",
    "    string : String form of parse tree.\n",
    "    \n",
    "    Returns\n",
    "    ----------------\n",
    "    new string form of parse tree\n",
    "    \"\"\"\n",
    "    \n",
    "    l = string.split(' ')\n",
    "    for i in range(len(l)):\n",
    "        if l[i][0] == '(':\n",
    "            l[i] = l[i].split('-')[0]\n",
    "            \n",
    "    return ' '.join(l)\n",
    "    "
   ]
  },
  {
   "cell_type": "code",
   "execution_count": 4,
   "metadata": {},
   "outputs": [],
   "source": [
    "def extract_nodes(rule):\n",
    "    \n",
    "    \"\"\"\n",
    "    Description\n",
    "    ---------------\n",
    "    Extract the non terminal and terminal nodes from a rule along with the status of the rule (either lexical 1, or not 0)\n",
    "    \n",
    "    Parameters\n",
    "    ---------------\n",
    "    rule : nltk.grammar.Production object, the rule to consider.\n",
    "    \n",
    "    Returns\n",
    "    ---------------\n",
    "    3-tuple, tuple[0] : the lexical status.\n",
    "             tuple[1] : set containing the non terminal nodes.\n",
    "             tuple[2] : set containing the terminal nodes.\n",
    "    \"\"\"\n",
    "    if rule.is_lexical():\n",
    "        return True, set((rule._lhs,)), set((rule._rhs))\n",
    "    \n",
    "    else:\n",
    "        return False, set((rule._lhs,)).union(set(rule._rhs)), set()"
   ]
  },
  {
   "cell_type": "code",
   "execution_count": 5,
   "metadata": {},
   "outputs": [],
   "source": [
    "# random.seed(0)\n",
    "# random.shuffle(data)\n",
    "# data, data_dev, data_test = data[:4*len(data)//5], data[4*len(data)//5:9*len(data)//10], data[9*len(data)//10:]"
   ]
  },
  {
   "cell_type": "code",
   "execution_count": 6,
   "metadata": {},
   "outputs": [],
   "source": [
    "non_terminals = set()\n",
    "pos_tags = set()\n",
    "terminals = set()\n",
    "binaries = set()\n",
    "for string in data:\n",
    "    t = Tree.fromstring(ignore_functional_labels(string))\n",
    "    t.chomsky_normal_form(horzMarkov=2)\n",
    "    rules = t.productions()\n",
    "    for rule in rules:\n",
    "        lexical, non_terminal_nodes, terminal_nodes = extract_nodes(rule)\n",
    "        if lexical:\n",
    "            non_terminals = non_terminals.union(non_terminal_nodes)\n",
    "            pos_tags = pos_tags.union(non_terminal_nodes)\n",
    "            terminals = terminals.union(terminal_nodes)\n",
    "            \n",
    "        else:\n",
    "            non_terminals = non_terminals.union(non_terminal_nodes)\n",
    "            if len(rule._rhs) == 2:\n",
    "                binaries.add(rule._rhs)\n",
    "\n",
    "# non_terminals = non_terminals.difference(pos_tags)\n",
    "start = rules[0]._lhs   # The start symbol\n",
    "sent = rules[0]._rhs[0] # The previous start symbol"
   ]
  },
  {
   "cell_type": "code",
   "execution_count": 7,
   "metadata": {},
   "outputs": [
    {
     "name": "stdout",
     "output_type": "stream",
     "text": [
      "Number of terminals : 10378\n",
      "Number of POS tags : 29\n",
      "Number of non terminals : 816\n",
      "Number of binaries : 2269\n"
     ]
    }
   ],
   "source": [
    "print('Number of terminals : %d' %len(terminals))\n",
    "print('Number of POS tags : %d' %len(pos_tags))\n",
    "print('Number of non terminals : %d' %len(non_terminals))\n",
    "print('Number of binaries : %d' %len(binaries))"
   ]
  },
  {
   "cell_type": "code",
   "execution_count": 14,
   "metadata": {},
   "outputs": [
    {
     "data": {
      "text/plain": [
       "2269"
      ]
     },
     "execution_count": 14,
     "metadata": {},
     "output_type": "execute_result"
    }
   ],
   "source": [
    "len(dict_probas['binary'])"
   ]
  },
  {
   "cell_type": "code",
   "execution_count": 8,
   "metadata": {},
   "outputs": [],
   "source": [
    "dict_symbol_non_terminal = dict((non_terminal._symbol, non_terminal) for non_terminal in non_terminals)"
   ]
  },
  {
   "cell_type": "code",
   "execution_count": 9,
   "metadata": {},
   "outputs": [],
   "source": [
    "dict_non_terminals_indices = {non_terminal : index for index, non_terminal in enumerate(non_terminals)}\n",
    "dict_indices_non_terminals = {index : non_terminal for non_terminal, index in dict_non_terminals_indices.items()}\n",
    "\n",
    "dict_pos_indices = {pos : index for index, pos in enumerate(pos_tags)}\n",
    "dict_indices_pos = {index : pos for pos, index in dict_pos_indices.items()}\n",
    "\n",
    "dict_terminals_indices = {terminal : index for index, terminal in enumerate(terminals)}\n",
    "dict_indices_terminals = {index : terminal for terminal, index in dict_terminals_indices.items()}\n",
    "\n",
    "dict_binaries_indices = {binary : index for index, binary in enumerate(binaries)}\n",
    "dict_indices_terminals = {index : binary for binary, index in dict_binaries_indices.items()}"
   ]
  },
  {
   "cell_type": "markdown",
   "metadata": {},
   "source": [
    "## PCFG"
   ]
  },
  {
   "cell_type": "code",
   "execution_count": 10,
   "metadata": {},
   "outputs": [],
   "source": [
    "def express_node(rule):\n",
    "    \n",
    "    \"\"\"\n",
    "    Description\n",
    "    ---------------\n",
    "    Express the nature of the rule and extract its left hand and right hand sides.\n",
    "    \n",
    "    Parameters\n",
    "    ---------------\n",
    "    rule : nltk.grammar.Production object, the rule to consider.\n",
    "    \n",
    "    Returns\n",
    "    ---------------\n",
    "    3-tuple, tuple[0] : String describing the rule {'lexical', 'start_node', 'unary', 'binary'}\n",
    "             tuple[1] : nltk.grammar.Production, the left hand side of the rule.\n",
    "             tuple[2] : nltk.grammar.Production, the right hand side of the rule.\n",
    "    \"\"\"\n",
    "    if rule.is_lexical():\n",
    "        return 'lexical', rule._lhs, rule._rhs[0]\n",
    "    \n",
    "    else:\n",
    "        lhs, rhs = rule._lhs, rule._rhs\n",
    "        if rhs[0] == sent:\n",
    "            return 'start_node', lhs, rhs[0]\n",
    "        \n",
    "        elif len(rhs) == 1:\n",
    "            return 'unary', lhs, rhs[0]\n",
    "        \n",
    "#         elif len(rhs) == 1 and rhs[0] == sent:\n",
    "#             return 'start_node -> sent', lhs, rhs[0]\n",
    "        \n",
    "        elif len(rhs) == 2:\n",
    "            return 'binary', lhs, rhs"
   ]
  },
  {
   "cell_type": "code",
   "execution_count": 11,
   "metadata": {},
   "outputs": [],
   "source": [
    "def pcfg(data):\n",
    "    \n",
    "    \"\"\"\n",
    "    Description\n",
    "    ----------------\n",
    "    Create PCFG model from the data, i.e compute the probability of each rule (conditiona probabilities) statistically from the data\n",
    "    \n",
    "    Parameters\n",
    "    ----------------\n",
    "    data : List of strings representing parse trees.\n",
    "    \n",
    "    Returns\n",
    "    ----------------\n",
    "    dict_pcfg   : Dictionnary with three keys {'lexical', 'unary', 'binary'}\n",
    "                 - dict_pcfg['lexical']  : dictionnary of lexicons.\n",
    "                                           - keys   : POS tags; \n",
    "                                           - values : dictionnary of probabilities p(terminal|POS_tag)\n",
    "                                                     - keys   : terminals.\n",
    "                                                     - values : p(terminal|POS_tag)\n",
    "                 - dict_pcfg['unary']    : dictionnary of unary laws.\n",
    "                                           - keys   : non terminals; \n",
    "                                           - values : dictionnary of probabilities p(node|non_terminal), node here can be\n",
    "                                                      either a POS tag or a non terminal.\n",
    "                                                     - keys   : non terminals.\n",
    "                                                     - values : p(node|non_terminal)\n",
    "                                                                          \n",
    "                 - dict_pcfg['binary']   : dictionnary of binary laws.\n",
    "                                           - keys   : non terminals; \n",
    "                                           - values : dictionnary of probabilities p(node|non_terminal), node here is binary\n",
    "                                                      containing POS tags or non terminals.\n",
    "                                                     - keys   : non terminals.\n",
    "                                                     - values : p(node|non_terminal)\n",
    "                                                                        \n",
    "    dict_probas : Dictionnary rearranging the elements of dict_pcfg in a way that simplifies the use of the probabilities \n",
    "                  in the CYK algorithm, keys in {'lexical', 'unary', 'binary'}                  \n",
    "                  dictionnary of probabilities.\n",
    "                            - keys   : unary nodes (POS tags or non terminals).\n",
    "                            - values : probabilities p(node|unary_node)\n",
    "    \"\"\"\n",
    "    \n",
    "    # Initalize dictionnaries dict_lexicons, dict_unaries, dict_binaries that we put in dict_pcfg\n",
    "    dict_lexicons, dict_unaries, dict_binaries = {}, {start : {sent : 1.}}, {} # Notice that we already put the rule of the start node in\n",
    "                                                                              # Chomsky normal form\n",
    "    dict_pcfg = {'lexical' : dict_lexicons, 'unary' : dict_unaries, 'binary' : dict_binaries}\n",
    "    \n",
    "    # Loop over the data\n",
    "    for string in data:\n",
    "        t = Tree.fromstring(ignore_functional_labels(string)) # Ignore the functional labels (see the doc of ignore_functional_labels)\n",
    "        t.chomsky_normal_form(horzMarkov=2)  # Convert the tree to Chomsky normal form\n",
    "        rules = t.productions()  # Get the rules\n",
    "        for rule in rules:       # We start by counting the rules in data\n",
    "            nature, lhs, rhs = express_node(rule)\n",
    "            if nature in ['lexical', 'unary', 'binary']:\n",
    "                if lhs in dict_pcfg[nature]:\n",
    "                    if rhs in dict_pcfg[nature][lhs]:\n",
    "                        dict_pcfg[nature][lhs][rhs] += 1\n",
    "\n",
    "                    else:\n",
    "                        dict_pcfg[nature][lhs][rhs] = 1\n",
    "\n",
    "                else:\n",
    "                    dict_pcfg[nature][lhs] = {rhs : 1}\n",
    "\n",
    "            elif nature == 'start_node':\n",
    "                continue\n",
    "                \n",
    "    dict_normalized = {}\n",
    "    for nature in dict_pcfg:\n",
    "        for lhs in dict_pcfg[nature]:\n",
    "            if lhs in dict_normalized:\n",
    "                dict_normalized[lhs] += sum(dict_pcfg[nature][lhs].values())\n",
    "                \n",
    "            else:\n",
    "                dict_normalized[lhs] = sum(dict_pcfg[nature][lhs].values())\n",
    "                \n",
    "    for nature in dict_pcfg:\n",
    "        for lhs in dict_pcfg[nature]:\n",
    "            dict_pcfg[nature][lhs] = dict((key, value/dict_normalized[lhs]) for key, value in dict_pcfg[nature][lhs].items())\n",
    "\n",
    "    dict_probas = {'lexical' : {}, 'unary' : {}, 'binary' : {}} # Initialize dict_probas\n",
    "    for nature in dict_pcfg:\n",
    "        for lhs in dict_pcfg[nature]:\n",
    "            for node in dict_pcfg[nature][lhs]:\n",
    "                if node in dict_probas[nature]:\n",
    "                    dict_probas[nature][node][lhs] = dict_pcfg[nature][lhs][node]\n",
    "\n",
    "                else:\n",
    "                    dict_probas[nature][node] = {lhs : dict_pcfg[nature][lhs][node]}\n",
    "                    \n",
    "    return dict_pcfg, dict_probas"
   ]
  },
  {
   "cell_type": "code",
   "execution_count": 12,
   "metadata": {},
   "outputs": [],
   "source": [
    "dict_pcfg, dict_probas = pcfg(data)"
   ]
  },
  {
   "cell_type": "markdown",
   "metadata": {},
   "source": [
    "# CYK algorithm"
   ]
  },
  {
   "cell_type": "code",
   "execution_count": 23,
   "metadata": {},
   "outputs": [],
   "source": [
    "# def cyk(sentence):\n",
    "    \n",
    "#     n = len(sentence) + 1\n",
    "#     k = len(non_terminals)\n",
    "#     scores = np.zeros((n, n, k))\n",
    "#     back = [[[None for i in range(k)] for j in range(n)] for l in range(n)]\n",
    "#     for i in range(0, n-1):\n",
    "#         word = sentence[i]\n",
    "#         for A in dict_probas['lexical'][word]:\n",
    "#             scores[i, i+1, dict_non_terminals_indices[A]] = dict_probas['lexical'][word][A]\n",
    "                        \n",
    "#         added = True\n",
    "#         while added:\n",
    "#             added = False\n",
    "#             for B in dict_probas['unary']:\n",
    "#                 score_B = scores[i, i+1, dict_non_terminals_indices[B]]\n",
    "#                 if score_B > 0:\n",
    "#                     for A in dict_probas['unary'][B]:\n",
    "#                         prob = dict_probas['unary'][B][A]*score_B\n",
    "#                         if prob > scores[i, i+1, dict_non_terminals_indices[A]]:\n",
    "#                             scores[i, i+1, dict_non_terminals_indices[A]] = prob\n",
    "#                             back[i][i+1][dict_non_terminals_indices[A]] = B\n",
    "#                             added = True\n",
    "                                                        \n",
    "#     for span in range(2, n):\n",
    "#         for begin in range(0, n-span):\n",
    "#             end = begin + span\n",
    "#             for split in range(begin+1, end):\n",
    "#                 for B, C in dict_probas['binary']:\n",
    "#                     score_B, score_C = scores[begin, split, dict_non_terminals_indices[B]], scores[split, end, dict_non_terminals_indices[C]]\n",
    "#                     if score_B*score_C > 0:\n",
    "#                         for A in dict_probas['binary'][(B, C)]:\n",
    "#                             prob = score_B*score_C*dict_probas['binary'][(B, C)][A]\n",
    "#                             if prob > scores[begin, end, dict_non_terminals_indices[A]]:\n",
    "#                                 scores[begin, end, dict_non_terminals_indices[A]] = prob\n",
    "#                                 back[begin][end][dict_non_terminals_indices[A]] = (split, B, C)\n",
    "                                \n",
    "#             added = True\n",
    "#             while added:\n",
    "#                 added = False\n",
    "#                 for B in dict_probas['unary']:\n",
    "#                     score_B = scores[begin, end, dict_non_terminals_indices[B]]\n",
    "#                     if score_B > 0:\n",
    "#                         for A in dict_probas['unary'][B]:\n",
    "#                             prob = prob = dict_probas['unary'][B][A]*score_B\n",
    "#                             if prob > scores[begin, end, dict_non_terminals_indices[A]]:\n",
    "#                                 scores[begin, end, dict_non_terminals_indices[A]] = prob\n",
    "#                                 back[begin][end][dict_non_terminals_indices[A]] = B\n",
    "#                                 added = True\n",
    "                                \n",
    "                                \n",
    "#     return scores, back"
   ]
  },
  {
   "cell_type": "code",
   "execution_count": 24,
   "metadata": {},
   "outputs": [],
   "source": [
    "B_binary, C_binary = set([binary[0] for binary in dict_probas['binary'].keys()]), set([binary[1] for binary in dict_probas['binary'].keys()])\n",
    "set_binary = set(dict_probas['binary'].keys())"
   ]
  },
  {
   "cell_type": "code",
   "execution_count": 25,
   "metadata": {},
   "outputs": [],
   "source": [
    "from time import time\n",
    "\n",
    "def cyk(sentence):\n",
    "    \n",
    "    n = len(sentence) + 1\n",
    "    k = len(non_terminals)\n",
    "    scores = [[{} for j in range(n)] for l in range(n)]\n",
    "    back = [[[None for i in range(k)] for j in range(n)] for l in range(n)]\n",
    "    for i in range(0, n-1):\n",
    "        word = sentence[i]\n",
    "        for A in dict_probas['lexical'][word]:\n",
    "            scores[i][i+1][A] = dict_probas['lexical'][word][A]\n",
    "             \n",
    "        added = True\n",
    "        while added:\n",
    "            added = False\n",
    "            for B in dict_probas['unary']:\n",
    "                score_B = scores[i][i+1].get(B, 0)\n",
    "                if score_B > 0:\n",
    "                    for A in dict_probas['unary'][B]:\n",
    "                        prob = dict_probas['unary'][B][A]*score_B\n",
    "                        if prob > scores[i][i+1].get(A, 0):\n",
    "                            scores[i][i+1][A] = prob\n",
    "                            back[i][i+1][dict_non_terminals_indices[A]] = B\n",
    "                            added = True\n",
    "                            \n",
    "    \n",
    "    \n",
    "    time_binary, time_unary = 0, 0\n",
    "    for span in range(2, n):\n",
    "        start_time_binary = time()\n",
    "        for begin in range(0, n-span):\n",
    "            end = begin + span\n",
    "            start_time_binary = time()\n",
    "            for split in range(begin+1, end):\n",
    "                Bs = set(scores[begin][split].keys()).intersection(B_binary)\n",
    "                Cs = set(scores[split][end].keys()).intersection(C_binary)\n",
    "                \n",
    "                for B, C in set_binary.intersection(set(product(Bs, Cs))):\n",
    "                    score_B, score_C = scores[begin][split].get(B, 0), scores[split][end].get(C, 0)\n",
    "                    for A in dict_probas['binary'][(B, C)]:\n",
    "                        prob = score_B*score_C*dict_probas['binary'][(B, C)][A]\n",
    "                        if prob > scores[begin][end].get(A, 0):\n",
    "                            scores[begin][end][A] = prob\n",
    "                            back[begin][end][dict_non_terminals_indices[A]] = (split, B, C)\n",
    "                            \n",
    "            time_binary += time() - start_time_binary\n",
    "            \n",
    "            start_time_unary = time()\n",
    "            added = True\n",
    "            while added:\n",
    "                added = False\n",
    "                for B in dict_probas['unary']:\n",
    "                    score_B = scores[begin][end].get(B, 0)\n",
    "                    if score_B > 0:\n",
    "                        for A in dict_probas['unary'][B]:\n",
    "                            prob = prob = dict_probas['unary'][B][A]*score_B\n",
    "                            if prob > scores[begin][end].get(A, 0):\n",
    "                                scores[begin][end][A] = prob\n",
    "                                back[begin][end][dict_non_terminals_indices[A]] = B\n",
    "                                added = True\n",
    "                                \n",
    "            time_unary += time() - start_time_unary\n",
    "            \n",
    "    print('unary time %.6f' %time_unary)\n",
    "    print('binary time %.6f' %time_binary)\n",
    "                                \n",
    "    return scores, back"
   ]
  },
  {
   "cell_type": "code",
   "execution_count": 26,
   "metadata": {},
   "outputs": [
    {
     "data": {
      "text/plain": [
       "2297"
      ]
     },
     "execution_count": 26,
     "metadata": {},
     "output_type": "execute_result"
    }
   ],
   "source": [
    "len(dict_probas['unary']) + len(dict_probas['binary'])"
   ]
  },
  {
   "cell_type": "markdown",
   "metadata": {},
   "source": [
    "# Backtrack : Build parse tree from CYK"
   ]
  },
  {
   "cell_type": "code",
   "execution_count": 27,
   "metadata": {},
   "outputs": [],
   "source": [
    "def build_parentheses(back_track):\n",
    "    \n",
    "    \"\"\"\n",
    "    Description\n",
    "    ---------------\n",
    "    Build the parse tree from tha back_track return of CYK algorithm as a string with parentheses. Then if we want to get the parse\n",
    "    in a tree form, we can simply use function Tree.from_string of nltk package.\n",
    "    \n",
    "    Parameters\n",
    "    ---------------\n",
    "    back_track : 3D matrix in the form of list of lists, of \"shape\" (n, n, r).\n",
    "                 - n : the length of the sentence we want to parse.\n",
    "                 - r : the number of non terminal nodes in our grammar.\n",
    "                 \n",
    "    Returns\n",
    "    ---------------\n",
    "    String, the string form with parentheses of the parse tree.\n",
    "    \"\"\"\n",
    "    \n",
    "    string = '('\n",
    "    q = queue.LifoQueue()\n",
    "    begin = 0\n",
    "    end = len(back_track[0]) - 1\n",
    "    q.put((None, sent, 'start', 1, [begin, end]))\n",
    "\n",
    "    while not q.empty():\n",
    "        split, symbol, status, depth, border = q.get()   # border is begin for left and end for right\n",
    "        string += ' (' + symbol._symbol\n",
    "\n",
    "        if status == 'left':\n",
    "            border = [border[0], split]\n",
    "            children = back[border[0]][border[1]][dict_non_terminals_indices[symbol]]\n",
    "\n",
    "        elif status == 'right':\n",
    "            border = [split, border[1]]\n",
    "            children = back[border[0]][border[1]][dict_non_terminals_indices[symbol]]\n",
    "\n",
    "        elif status == 'start':\n",
    "            children = back[border[0]][border[1]][dict_non_terminals_indices[symbol]]\n",
    "\n",
    "        if children is not None:\n",
    "            if isinstance(children, grammar.Nonterminal):\n",
    "                node = (split, children, status, depth+1, border)\n",
    "                q.put(node)\n",
    "\n",
    "            elif len(children) == 3:\n",
    "                split, l_child, r_child = children\n",
    "                l_node, r_node = (split, l_child, 'left', 0, border), (split, r_child, 'right', depth+1, border)\n",
    "                q.put(r_node)\n",
    "                q.put(l_node)\n",
    "\n",
    "        else:\n",
    "            depth += 1\n",
    "            word = sentence[border[0]:border[1]][0]\n",
    "            string += ' ' + word + ')'*depth\n",
    "            \n",
    "    return string"
   ]
  },
  {
   "cell_type": "code",
   "execution_count": 75,
   "metadata": {},
   "outputs": [
    {
     "data": {
      "image/png": "[encoded data removed]",
      "text/plain": [
       "Tree('', [Tree('SENT', [Tree('PP', [Tree('P', ['Après']), Tree('NP', [Tree('DET', ['une']), Tree('NP|<NC-PP>', [Tree('NC', ['année']), Tree('PP', [Tree('P', [\"d'\"]), Tree('NP', [Tree('NC', ['études'])])])])])]), Tree('SENT|<PONCT-NP>', [Tree('PONCT', [',']), Tree('SENT|<NP-VN>', [Tree('NP', [Tree('DET', ['la']), Tree('NP|<NC-PP>', [Tree('NC', ['conduite']), Tree('PP', [Tree('P+D', ['des']), Tree('NP', [Tree('NC', ['travaux'])])])])]), Tree('SENT|<VN-PP>', [Tree('VN', [Tree('V', ['est']), Tree('VPP', ['menée'])]), Tree('SENT|<PP-PONCT>', [Tree('PP', [Tree('P', ['par']), Tree('NP', [Tree('DET', ['le']), Tree('NP|<NC-NPP>', [Tree('NC', ['cabinet']), Tree('NP|<NPP-COORD>', [Tree('NPP', ['Cadel']), Tree('COORD', [Tree('CC', ['et']), Tree('NP', [Tree('DET', ['son']), Tree('NP|<NC-PONCT>', [Tree('NC', ['associé']), Tree('NP|<PONCT-NP>', [Tree('PONCT', [',']), Tree('NP', [Tree('NC', ['M.']), Tree('NPP', ['Bruand'])])])])])])])])])]), Tree('SENT|<PONCT-PP>', [Tree('PONCT', [',']), Tree('SENT|<PP-PONCT>', [Tree('PP', [Tree('P', ['sous']), Tree('NP', [Tree('DET', ['le']), Tree('NP|<NC-PP>', [Tree('NC', ['contrôle']), Tree('PP', [Tree('P', ['de']), Tree('NP', [Tree('DET', [\"l'\"]), Tree('NC', ['Equipement'])])])])])]), Tree('SENT|<PONCT-PP>', [Tree('PONCT', [',']), Tree('SENT|<PP-PONCT>', [Tree('PP', [Tree('P', ['en']), Tree('NP', [Tree('DET', ['neuf']), Tree('NC', ['mois'])])]), Tree('PONCT', ['.'])])])])])])])])])])])"
      ]
     },
     "execution_count": 75,
     "metadata": {},
     "output_type": "execute_result"
    }
   ],
   "source": [
    "t = Tree.fromstring(ignore_functional_labels(data[30]))\n",
    "t.chomsky_normal_form(horzMarkov=2)\n",
    "t"
   ]
  },
  {
   "cell_type": "code",
   "execution_count": 93,
   "metadata": {},
   "outputs": [
    {
     "data": {
      "text/plain": [
       "'( (SENT (VN (CLS-SUJ Elle) (CLR se) (V veut)) (ADV aussi) (NP-OBJ (NC message) (PP (P d\\') (NP (NC espoir) (PP (P en) (NP (DET l\\') (NC avenir)))))) (PONCT \") (PONCT .)))'"
      ]
     },
     "execution_count": 93,
     "metadata": {},
     "output_type": "execute_result"
    }
   ],
   "source": [
    "data[20]"
   ]
  },
  {
   "cell_type": "code",
   "execution_count": 76,
   "metadata": {},
   "outputs": [
    {
     "data": {
      "text/plain": [
       "34"
      ]
     },
     "execution_count": 76,
     "metadata": {},
     "output_type": "execute_result"
    }
   ],
   "source": [
    "sentence = t.leaves()\n",
    "len(sentence)"
   ]
  },
  {
   "cell_type": "code",
   "execution_count": 77,
   "metadata": {},
   "outputs": [],
   "source": [
    "# sentence = [\"Références\"]"
   ]
  },
  {
   "cell_type": "code",
   "execution_count": 78,
   "metadata": {},
   "outputs": [
    {
     "name": "stdout",
     "output_type": "stream",
     "text": [
      "unary time 0.043797\n",
      "binary time 10.615705\n",
      "10.770781517028809\n"
     ]
    }
   ],
   "source": [
    "from time import time\n",
    "start_time = time()\n",
    "scores, back = cyk(sentence)\n",
    "print(time() - start_time)"
   ]
  },
  {
   "cell_type": "code",
   "execution_count": 79,
   "metadata": {},
   "outputs": [
    {
     "data": {
      "image/png": "[encoded data removed]",
      "text/plain": [
       "Tree('', [Tree('SENT', [Tree('PP', [Tree('P', ['Après']), Tree('NP', [Tree('DET', ['une']), Tree('NC', ['année']), Tree('PP', [Tree('P', [\"d'\"]), Tree('NP', [Tree('NC', ['études'])])])])]), Tree('PONCT', [',']), Tree('NP', [Tree('DET', ['la']), Tree('NC', ['conduite']), Tree('PP', [Tree('P', [Tree('D', ['des'])]), Tree('NP', [Tree('NC', ['travaux'])])])]), Tree('VN', [Tree('V', ['est']), Tree('VPP', ['menée'])]), Tree('PP', [Tree('P', ['par']), Tree('NP', [Tree('DET', ['le']), Tree('NC', ['cabinet']), Tree('NPP', ['Cadel']), Tree('COORD', [Tree('CC', ['et']), Tree('NP', [Tree('DET', ['son']), Tree('NC', ['associé']), Tree('PONCT', [',']), Tree('NP', [Tree('NC', ['M.']), Tree('NPP', ['Bruand'])])])])])]), Tree('PONCT', [',']), Tree('PP', [Tree('P', ['sous']), Tree('NP', [Tree('DET', ['le']), Tree('NC', ['contrôle']), Tree('PP', [Tree('P', ['de']), Tree('NP', [Tree('DET', [\"l'\"]), Tree('NC', ['Equipement'])])])])]), Tree('PONCT', [',']), Tree('PP', [Tree('P', ['en']), Tree('NP', [Tree('DET', ['neuf']), Tree('NC', ['mois'])])]), Tree('PONCT', ['.'])])])"
      ]
     },
     "execution_count": 79,
     "metadata": {},
     "output_type": "execute_result"
    }
   ],
   "source": [
    "t.un_chomsky_normal_form()\n",
    "t"
   ]
  },
  {
   "cell_type": "code",
   "execution_count": 80,
   "metadata": {},
   "outputs": [
    {
     "data": {
      "image/png": "[encoded data removed]",
      "text/plain": [
       "Tree('', [Tree('SENT', [Tree('PP', [Tree('P', ['Après']), Tree('NP', [Tree('DET', ['une']), Tree('NC', ['année']), Tree('PP', [Tree('P', [\"d'\"]), Tree('NP', [Tree('NC', ['études'])])])])]), Tree('PONCT', [',']), Tree('NP', [Tree('DET', ['la']), Tree('NC', ['conduite']), Tree('PP', [Tree('P', [Tree('D', ['des'])]), Tree('NP', [Tree('NC', ['travaux'])])])]), Tree('VN', [Tree('V', ['est']), Tree('VPP', ['menée'])]), Tree('PP', [Tree('P', ['par']), Tree('NP', [Tree('DET', ['le']), Tree('NC', ['cabinet']), Tree('NPP', ['Cadel']), Tree('COORD', [Tree('CC', ['et']), Tree('NP', [Tree('DET', ['son']), Tree('NC', ['associé'])])])])]), Tree('PONCT', [',']), Tree('NP', [Tree('NC', ['M.']), Tree('NPP', ['Bruand'])]), Tree('PONCT', [',']), Tree('PP', [Tree('P', ['sous']), Tree('NP', [Tree('DET', ['le']), Tree('NC', ['contrôle']), Tree('PP', [Tree('P', ['de']), Tree('NP', [Tree('DET', [\"l'\"]), Tree('NC', ['Equipement'])])])])]), Tree('PONCT', [',']), Tree('PP', [Tree('P', ['en']), Tree('NP', [Tree('DET', ['neuf']), Tree('NC', ['mois'])])]), Tree('PONCT', ['.'])])])"
      ]
     },
     "execution_count": 80,
     "metadata": {},
     "output_type": "execute_result"
    }
   ],
   "source": [
    "t_test = Tree.fromstring(build_parentheses(back))\n",
    "t_test.un_chomsky_normal_form()\n",
    "t_test"
   ]
  },
  {
   "cell_type": "code",
   "execution_count": 81,
   "metadata": {},
   "outputs": [
    {
     "data": {
      "text/plain": [
       "False"
      ]
     },
     "execution_count": 81,
     "metadata": {},
     "output_type": "execute_result"
    }
   ],
   "source": [
    "\" \".join(str(t).split()) == \" \".join(str(t_test).split())"
   ]
  },
  {
   "cell_type": "markdown",
   "metadata": {},
   "source": [
    "## Evaluation"
   ]
  },
  {
   "cell_type": "code",
   "execution_count": 91,
   "metadata": {},
   "outputs": [],
   "source": [
    "def score(true_parse, proposed_parse):\n",
    "    \n",
    "    \"\"\"\n",
    "    Description\n",
    "    -----------------\n",
    "    Evaluate a proposed parse given the true one, this function prints recall and precision of the whole parse and on POS tags only also.\n",
    "    \n",
    "    Parameters\n",
    "    -----------------\n",
    "    true_parse, proposed_parse : Bracketed strings, the true and proposed parse trees.\n",
    "    \n",
    "    Returns\n",
    "    -----------------\n",
    "    \"\"\"\n",
    "    \n",
    "    true_parse = true_parse[2:-1]\n",
    "    proposed_parse= proposed_parse[2:-1]\n",
    "    \n",
    "    gold_tree = parser.create_from_bracket_string(true_parse)\n",
    "    test_tree = parser.create_from_bracket_string(proposed_parse)\n",
    "    \n",
    "    # Compute recall and precision for POS tags\n",
    "    y_true = np.array(gold_tree.poss)\n",
    "    y_pred = np.array(test_tree.poss)\n",
    "\n",
    "    y_pred = (y_true == y_pred).astype(int)\n",
    "    y_true = np.ones(len(y_true)).astype(int)\n",
    "\n",
    "    (POS_precision, POS_recall, POS_f_score, beta) = precision_recall_fscore_support(y_true,y_pred, labels=[1])\n",
    "    \n",
    "    # Compute recall and precision for the whole parse\n",
    "    thescorer = scorer.Scorer() \n",
    "    result = thescorer.score_trees(gold_tree, test_tree)\n",
    "    \n",
    "    print('Parse recall : {:.2f}%'.format(result.recall*100))\n",
    "    print('Parse precision : {:.2f}%'.format(result.prec*100), end=\"\\n\\n\")\n",
    "    \n",
    "    print('POS recall : {:.2f}%'.format(POS_recall[0]*100))\n",
    "    print('POS precision : {:.2f}%'.format(POS_precision[0]*100))\n",
    "\n",
    "    return None"
   ]
  },
  {
   "cell_type": "code",
   "execution_count": 92,
   "metadata": {},
   "outputs": [
    {
     "name": "stdout",
     "output_type": "stream",
     "text": [
      "Parse recall : 80.95%\n",
      "Parse precision : 80.95%\n",
      "\n",
      "POS recall : 100.00%\n",
      "POS precision : 100.00%\n"
     ]
    }
   ],
   "source": [
    "score(\" \".join(str(t).split()), \" \".join(str(t_test).split()))"
   ]
  },
  {
   "cell_type": "markdown",
   "metadata": {},
   "source": [
    "# OOV module"
   ]
  },
  {
   "cell_type": "markdown",
   "metadata": {},
   "source": [
    "## Embedding similarity"
   ]
  },
  {
   "cell_type": "code",
   "execution_count": 21,
   "metadata": {},
   "outputs": [],
   "source": [
    "words, embeddings = pkl.load(open('polyglot-fr.pkl', 'rb'), encoding = 'latin')\n",
    "dict_words_embeddings = dict((word, embedding) for word, embedding in zip(words, embeddings))\n",
    "del words, embeddings"
   ]
  },
  {
   "cell_type": "code",
   "execution_count": 22,
   "metadata": {},
   "outputs": [
    {
     "data": {
      "text/plain": [
       "[(0.0, 'joue'),\n",
       " (0.16718369722366333, 'joua'),\n",
       " (0.21939945220947266, 'donne'),\n",
       " (0.22649264335632324, 'passe'),\n",
       " (0.2468007206916809, 'travaille'),\n",
       " (0.26890885829925537, 'tient'),\n",
       " (0.27211642265319824, 'occupe'),\n",
       " (0.2790296673774719, 'offre'),\n",
       " (0.2938283681869507, 'remporte'),\n",
       " (0.3001372814178467, 'ouvre')]"
      ]
     },
     "execution_count": 22,
     "metadata": {},
     "output_type": "execute_result"
    }
   ],
   "source": [
    "word_original = 'joue'\n",
    "scores = []\n",
    "for word in dict_words_embeddings:\n",
    "    scores.append((distance.cosine(dict_words_embeddings[word_original], dict_words_embeddings[word]), word))\n",
    "    \n",
    "sorted(scores)[:10]"
   ]
  },
  {
   "cell_type": "markdown",
   "metadata": {},
   "source": [
    "## Formal similarity"
   ]
  },
  {
   "cell_type": "code",
   "execution_count": 60,
   "metadata": {},
   "outputs": [],
   "source": [
    "def levenshtein(s1, s2):\n",
    "    \n",
    "    \"\"\"\n",
    "    Description\n",
    "    ---------------\n",
    "    Computes the Levenshtein distance between two strings.\n",
    "    \n",
    "    Parameters\n",
    "    ---------------\n",
    "    s1, s2 : The two strings we want to compare.\n",
    "    \n",
    "    Returns\n",
    "    ---------------\n",
    "    Float, the Levenshtein distance between s1 and s2\n",
    "    \"\"\"\n",
    "    \n",
    "    s1, s2 = unidecode.unidecode(s1.lower()), unidecode.unidecode(s2.lower())\n",
    "    n1, n2 = len(s1), len(s2)\n",
    "    lev = np.zeros((n1 + 1, n2 + 1))\n",
    "    for i in range(n1 + 1):\n",
    "        lev[i, 0] = i\n",
    "        \n",
    "    for j in range(n2 + 1):\n",
    "        lev[0, j] = j\n",
    "        \n",
    "    for i in range(1, n1 + 1):\n",
    "        for j in range(1, n2 + 1):\n",
    "            if s1[i-1] == s2[j-1]:\n",
    "                lev[i, j] = min(lev[i-1, j] + 1, lev[i, j-1] + 1, lev[i-1, j-1])\n",
    "                \n",
    "            else:\n",
    "                lev[i, j] = min(lev[i-1, j] + 1, lev[i, j-1] + 1, lev[i-1, j-1] + 1)\n",
    "                \n",
    "    return lev[n1, n2]\n",
    "\n",
    "def damerau_levenshtein(s1, s2):\n",
    "    \n",
    "    \"\"\"\n",
    "    Description\n",
    "    ---------------\n",
    "    Computes the Damerau-Levenshtein distance between two strings.\n",
    "    \n",
    "    Parameters\n",
    "    ---------------\n",
    "    s1, s2 : The two strings we want to compare.\n",
    "    \n",
    "    Returns\n",
    "    ---------------\n",
    "    Float, the Damerau-Levenshtein distance between s1 and s2\n",
    "    \"\"\"\n",
    "    \n",
    "#     s1, s2 = unidecode.unidecode(s1.lower()), unidecode.unidecode(s2.lower())\n",
    "    s1, s2 = s1.lower(), s2.lower()\n",
    "    n1, n2 = len(s1), len(s2)\n",
    "    alphabet = ['!', '\"', '#', '$', '%', '&', '(', ')', \"'\", '*', '+', \n",
    "                ',', '-', '.', '/', ':', ';', '<', '=', '>', '?', '@', \n",
    "                '[', ']', '^', '_', '`', '{', '|', '}', '~', ' ', '°',\n",
    "                'é', 'è', 'ë', 'ê', 'à', 'á', 'â', 'ä', 'ç', 'î', 'ï', \n",
    "                'ô', 'ó', 'ö', 'ù', 'û', 'ß', '©', '±', 'µ', '½'] + [str(i) for i in range(10)] + ['a', 'b', 'c', 'd', 'e', 'f', 'g', 'h', 'i', 'j', 'k', 'l', 'm', \n",
    "                'n', 'o', 'p', 'q', 'r', 's', 't', 'u', 'v', 'w', 'x', 'y', 'z']\n",
    "    for char in s1 + s2:\n",
    "        if char not in alphabet:\n",
    "            return 10\n",
    "        \n",
    "    dict_alphabet_indices = {char:index for (index, char) in zip(range(len(alphabet)), alphabet)}\n",
    "    da, d = np.zeros(len(alphabet)).astype(np.int8), np.zeros((n1 + 2, n2 + 2)).astype(np.int8)\n",
    "    maxdist = n1 + n2\n",
    "    d[0, 0] = maxdist\n",
    "    for i in range(n1 + 1):\n",
    "        d[i+1, 0] = maxdist\n",
    "        d[i+1, 1] = i\n",
    "        \n",
    "    for j in range(n2 + 1):\n",
    "        d[0, j+1] = maxdist\n",
    "        d[1, j+1] = j\n",
    "        \n",
    "    for i in range(1, n1 + 1):\n",
    "        db = 0\n",
    "        for j in range(1, n2 + 1):\n",
    "            k = da[dict_alphabet_indices[s2[j-1]]]\n",
    "            l = db\n",
    "            if s1[i-1] == s2[j-1]:\n",
    "                cost = 0\n",
    "                db = j\n",
    "                \n",
    "            else:\n",
    "                cost = 1\n",
    "                \n",
    "            d[i+1, j+1] = min(d[i, j] + cost, d[i+1, j] + 1, \n",
    "                              d[i, j+1] + 1, d[k, l] + (i-k-1)+1+(j-l-1))\n",
    "            da[dict_alphabet_indices[s1[i-1]]] = i\n",
    "            \n",
    "    return d[-1, -1]\n",
    "    "
   ]
  },
  {
   "cell_type": "markdown",
   "metadata": {},
   "source": [
    "## Language model"
   ]
  },
  {
   "cell_type": "code",
   "execution_count": 61,
   "metadata": {},
   "outputs": [],
   "source": [
    "def unigram(data):\n",
    "    \n",
    "    \"\"\"\n",
    "    Description\n",
    "    ---------------\n",
    "    Compute a unigram model from the corpus data.\n",
    "    \n",
    "    Parameters\n",
    "    ---------------\n",
    "    data : List of bracketed strings\n",
    "    \n",
    "    Returns\n",
    "    ---------------\n",
    "    np.array of shape (#words_in_data,) containing the probabilities p(word).\n",
    "    \"\"\"\n",
    "  \n",
    "    probas = np.zeros(len(terminals))\n",
    "    for bracketed in data:\n",
    "        t = Tree.fromstring(bracketed)\n",
    "        for word in t.leaves():\n",
    "            probas[dict_terminals_indices[word]] += 1\n",
    "\n",
    "    return probas/probas.sum()\n",
    "\n",
    "def bigram(data):\n",
    "    \n",
    "    \"\"\"\n",
    "    Description\n",
    "    ---------------\n",
    "    Compute a bigram model from the corpus data.\n",
    "    \n",
    "    Parameters\n",
    "    ---------------\n",
    "    data : List of bracketed strings\n",
    "    \n",
    "    Returns\n",
    "    ---------------\n",
    "    np.array of shape (#words_in_data, #words_in_data) containing the probabilities p(word_current|word_previous).\n",
    "    \"\"\"\n",
    "  \n",
    "    probas = np.full((len(terminals), len(terminals)), 1e-50)\n",
    "    for bracketed in data:\n",
    "        t = Tree.fromstring(bracketed)\n",
    "        sentence = t.leaves()\n",
    "        if len(sentence) >= 2:\n",
    "            for i in range(1, len(sentence)):\n",
    "                index_1 = dict_terminals_indices[sentence[i - 1]] # The previous word in the sequene.\n",
    "                index_2 = dict_terminals_indices[sentence[i]] # The current word in the sequene.\n",
    "                probas[index_1, index_2] += 1\n",
    "\n",
    "        else:\n",
    "            continue\n",
    "\n",
    "    return probas/((probas.sum(axis = 1).reshape(-1, 1)))"
   ]
  },
  {
   "cell_type": "code",
   "execution_count": 25,
   "metadata": {},
   "outputs": [],
   "source": [
    "# t = Tree.fromstring(ignore_functional_labels(data[16]))\n",
    "# t.chomsky_normal_form()\n",
    "# t.leaves()"
   ]
  },
  {
   "cell_type": "code",
   "execution_count": 26,
   "metadata": {},
   "outputs": [],
   "source": [
    "probas_unigram, probas_bigram = unigram(data), bigram(data)"
   ]
  },
  {
   "cell_type": "markdown",
   "metadata": {},
   "source": [
    "## Assigning OOV words to the training lexique"
   ]
  },
  {
   "cell_type": "code",
   "execution_count": 62,
   "metadata": {},
   "outputs": [],
   "source": [
    "def closest_formal(s, terminals, thresh = 2, swap = True):\n",
    "    \n",
    "    \"\"\"\n",
    "    Description\n",
    "    ---------------\n",
    "    Get the terminals within a lower Damerau-Levenshtein (or Levenshtein) distance of thresh to the word s.\n",
    "    \n",
    "    Parameters\n",
    "    ---------------\n",
    "    s         : String, the oov word\n",
    "    terminals : Set of words we have in our corpus.\n",
    "    thresh    : Int, the threshold of Damerau-Levenshtein distance.\n",
    "    swap      : Boolean, True  : Use Damerau-Levenshtein distance.\n",
    "                         False : Use Levenshtein distance\n",
    "    \n",
    "    Returns\n",
    "    ---------------\n",
    "    Dictionnary of the closest words.\n",
    "        keys   : words in terminals.\n",
    "        values : distance(s, word)\n",
    "    \"\"\"\n",
    "    \n",
    "    if swap:\n",
    "        fun = lambda word : damerau_levenshtein(s, word)\n",
    "        \n",
    "    else:\n",
    "        fun = lambda word : levenshtein(s, word)\n",
    "        \n",
    "    return {word : score for word, score in zip(terminals, list(map(fun, terminals))) if score <= thresh}"
   ]
  },
  {
   "cell_type": "code",
   "execution_count": 28,
   "metadata": {},
   "outputs": [],
   "source": [
    "lower_case = lambda s : s.lower()\n",
    "terminals_lower = set(map(lower_case, terminals))\n",
    "dict_terminals_lower_indices = {terminal.lower() : index for (terminal, index) in dict_terminals_indices.items()}"
   ]
  },
  {
   "cell_type": "code",
   "execution_count": 63,
   "metadata": {},
   "outputs": [],
   "source": [
    "def closest_embedding(s, terminals, n_words = 10):\n",
    "    \n",
    "    \"\"\"\n",
    "    Description\n",
    "    ---------------\n",
    "    Get the terminals within a lower Damerau-Levenshtein (or Levenshtein) distance of thresh to the word s.\n",
    "    \n",
    "    Parameters\n",
    "    ---------------\n",
    "    s         : String, oov word\n",
    "    terminals : Set of words we have in our corpus.\n",
    "    n_words   : Int, number of closest words to s.\n",
    "    \n",
    "    Returns\n",
    "    ---------------\n",
    "    Dictionnary of the closest words.\n",
    "        keys   : words in terminals.\n",
    "        values : cosine_distance(s, word)\n",
    "    \"\"\"\n",
    "    \n",
    "    fun = lambda word : distance.cosine(dict_words_embeddings[s], dict_words_embeddings[word]) if word in dict_words_embeddings else 1.\n",
    "    return {score_word[1] : score_word[0] for score_word in sorted(zip(list(map(fun, terminals)), terminals))[:n_words]}"
   ]
  },
  {
   "cell_type": "code",
   "execution_count": 31,
   "metadata": {},
   "outputs": [
    {
     "data": {
      "text/plain": [
       "{'mer': 0.0,\n",
       " 'terre': 0.22055935859680176,\n",
       " 'ville': 0.3071545362472534,\n",
       " 'pluie': 0.30734384059906006,\n",
       " 'forêt': 0.32614070177078247,\n",
       " 'nature': 0.3320302367210388,\n",
       " 'lumière': 0.3353707194328308,\n",
       " 'glace': 0.3402719497680664,\n",
       " 'neige': 0.3502733111381531,\n",
       " 'circulation': 0.352333128452301}"
      ]
     },
     "execution_count": 31,
     "metadata": {},
     "output_type": "execute_result"
    }
   ],
   "source": [
    "s = 'mer'\n",
    "closest_embedding(s, terminals_lower)"
   ]
  },
  {
   "cell_type": "code",
   "execution_count": 91,
   "metadata": {},
   "outputs": [],
   "source": [
    "def choose_words(sentence, terminals, probas_unigram, probas_bigram, thresh = 2, swap = True, n_words = 10):\n",
    "    \n",
    "    \"\"\"\n",
    "    Description\n",
    "    ---------------\n",
    "    Given a word s of the sentence, start by checking if it is in the training lexique, if not then choose a similar word \n",
    "    from the lexique using the formal and embedding similarities and a bigram language model trained on the training corpus.\n",
    "    \n",
    "    Parameters\n",
    "    ---------------\n",
    "    sentence       : List of strings containing tokens of a sentence.\n",
    "    terminals      : Set of all words in the training corpus.\n",
    "    probas_unigram : 1D np.array of shape (len(terminals),), unigram model trained on the training corpus.\n",
    "    probas_bigram  : 2D np.array of shape (len(terminals), len(terminals)), bigram model trained on the training corpus.\n",
    "    thresh, swap,  : Parameters of closest_formal (see its doc).\n",
    "    n_words        : Parameters of closest_embedding (see its doc).\n",
    "    \n",
    "    Returns\n",
    "    ---------------\n",
    "    List of strings containing the closest words to the sentence from the training corpus.\n",
    "    \"\"\"\n",
    "    \n",
    "    log_proba = 0\n",
    "    for i in range(len(sentence)):\n",
    "        s = sentence[i]\n",
    "        if s in terminals:\n",
    "            log_proba += math.log(probas_unigram[dict_terminals_lower_indices[s]]) if i==0 else math.log(probas_bigram[dict_terminals_lower_indices[sentence[i-1]], dict_terminals_lower_indices[s]])\n",
    "            continue\n",
    "\n",
    "        else:\n",
    "            print(s + ' is oov')\n",
    "            words_formal = closest_formal(s, terminals, thresh, swap)\n",
    "            words_embedding = closest_embedding(s, terminals, n_words) if s in dict_words_embeddings else {}\n",
    "            words_proposed = set(words_formal.keys()) | set(words_embedding.keys()) # Set of the proposed words\n",
    "            if len(words_proposed) == 0:\n",
    "                print('word not found : Need to look for the closest words in the form among the polyglot words')\n",
    "                dict_closest = closest_formal(s, set(dict_words_embeddings.keys()), thresh=1)\n",
    "                if len(dict_closest) == 0:\n",
    "                    print(\"We didn't find matching words\")\n",
    "                    \n",
    "                    continue\n",
    "                    \n",
    "                else:\n",
    "                    words_proposed = set(closest_embedding(min(dict_closest, key = lambda word : dict_closest[word])[0], terminals, 1).keys())\n",
    "                    \n",
    "            if i == 0:\n",
    "                scores = []\n",
    "                for word in words_proposed:\n",
    "                    unigram = math.log(probas_unigram[dict_terminals_indices[word]])\n",
    "                    scores.append((unigram, word))\n",
    "                \n",
    "            else:\n",
    "                scores = []\n",
    "                for word in words_proposed:\n",
    "                    bigram = math.log(probas_bigram[dict_terminals_lower_indices[sentence[i-1]], dict_terminals_lower_indices[word]])\n",
    "                    score = log_proba + bigram\n",
    "                    scores.append((score, word))\n",
    "                \n",
    "            scores.sort(reverse = True)\n",
    "            sentence[i] = scores[0][1]\n",
    "            log_proba += scores[0][0]\n",
    "        \n",
    "    return sentence"
   ]
  },
  {
   "cell_type": "code",
   "execution_count": 120,
   "metadata": {},
   "outputs": [
    {
     "name": "stdout",
     "output_type": "stream",
     "text": [
      "alors , à qui profite le crime ?\n",
      "profite is oov\n",
      "crime is oov\n",
      "alors , à qui dispose le racisme ?\n"
     ]
    }
   ],
   "source": [
    "sentence = Tree.fromstring(data_test[np.random.randint(0, 309)]).leaves()\n",
    "sentence = [word.lower() for word in sentence]\n",
    "# sentence = \"guerre d' indochine\".split(' ')\n",
    "print(\" \".join(sentence))\n",
    "# print('\\n')\n",
    "print(\" \".join(choose_words(sentence, terminals_lower, probas_unigram, probas_bigram, thresh=2)))"
   ]
  },
  {
   "cell_type": "code",
   "execution_count": 117,
   "metadata": {},
   "outputs": [],
   "source": [
    "# sentence = \"rené mayer , président du conseil , y mit fin en 1953 en ramenant le taux des piastres à 10 francs , un cours plus réaliste , mais ce en violation des accords du 8 mars 1949 et des accords de pau de 1950 ; les états associés du cambodge , laos et viêtnam ne furent pas consultés .\""
   ]
  },
  {
   "cell_type": "code",
   "execution_count": 121,
   "metadata": {},
   "outputs": [
    {
     "data": {
      "text/plain": [
       "'alors , à qui dispose le racisme ?'"
      ]
     },
     "execution_count": 121,
     "metadata": {},
     "output_type": "execute_result"
    }
   ],
   "source": [
    "\" \".join(sentence)"
   ]
  },
  {
   "cell_type": "code",
   "execution_count": null,
   "metadata": {},
   "outputs": [],
   "source": []
  },
  {
   "cell_type": "code",
   "execution_count": null,
   "metadata": {},
   "outputs": [],
   "source": []
  },
  {
   "cell_type": "code",
   "execution_count": null,
   "metadata": {},
   "outputs": [],
   "source": []
  },
  {
   "cell_type": "code",
   "execution_count": null,
   "metadata": {},
   "outputs": [],
   "source": []
  },
  {
   "cell_type": "code",
   "execution_count": null,
   "metadata": {},
   "outputs": [],
   "source": []
  },
  {
   "cell_type": "code",
   "execution_count": null,
   "metadata": {},
   "outputs": [],
   "source": []
  },
  {
   "cell_type": "code",
   "execution_count": null,
   "metadata": {},
   "outputs": [],
   "source": []
  },
  {
   "cell_type": "code",
   "execution_count": null,
   "metadata": {},
   "outputs": [],
   "source": []
  },
  {
   "cell_type": "code",
   "execution_count": null,
   "metadata": {},
   "outputs": [],
   "source": []
  }
 ],
 "metadata": {
  "kernelspec": {
   "display_name": "Python 3",
   "language": "python",
   "name": "python3"
  },
  "language_info": {
   "codemirror_mode": {
    "name": "ipython",
    "version": 3
   },
   "file_extension": ".py",
   "mimetype": "text/x-python",
   "name": "python",
   "nbconvert_exporter": "python",
   "pygments_lexer": "ipython3",
   "version": "3.6.8"
  }
 },
 "nbformat": 4,
 "nbformat_minor": 2
}
