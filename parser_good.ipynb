{
 "cells": [
  {
   "cell_type": "code",
   "execution_count": 1,
   "metadata": {},
   "outputs": [],
   "source": [
    "# !pip install PYEVALB\n",
    "# !pip install unidecode"
   ]
  },
  {
   "cell_type": "code",
   "execution_count": 1,
   "metadata": {},
   "outputs": [],
   "source": [
    "import numpy as np\n",
    "import matplotlib.pyplot as plt\n",
    "%matplotlib inline\n",
    "from nltk import Tree, grammar\n",
    "import random\n",
    "import queue\n",
    "import pickle as pkl\n",
    "from scipy.spatial import distance\n",
    "from PYEVALB import scorer\n",
    "from PYEVALB import parser\n",
    "from sklearn.metrics import precision_recall_fscore_support\n",
    "import unidecode\n",
    "import math\n",
    "from itertools import product"
   ]
  },
  {
   "cell_type": "code",
   "execution_count": 2,
   "metadata": {},
   "outputs": [],
   "source": [
    "with open('sequoia-corpus+fct.mrg_strict', 'r') as file:\n",
    "    data = file.read().splitlines()\n",
    "    \n",
    "file.close()"
   ]
  },
  {
   "cell_type": "code",
   "execution_count": 3,
   "metadata": {},
   "outputs": [],
   "source": [
    "def ignore_functional_labels(string):\n",
    "    \n",
    "    \"\"\"\n",
    "    Description\n",
    "    ----------------\n",
    "    Ignore functional labels in the non terminals of a rule, for example PP-MOD becomes PP\n",
    "    \n",
    "    Parameters\n",
    "    ----------------\n",
    "    string : String form of parse tree.\n",
    "    \n",
    "    Returns\n",
    "    ----------------\n",
    "    new string form of parse tree\n",
    "    \"\"\"\n",
    "    \n",
    "    l = string.split(' ')[1:]\n",
    "    for i in range(len(l)):\n",
    "        if l[i][0] == '(':\n",
    "            l[i] = l[i].split('-')[0]\n",
    "            \n",
    "    return ' '.join(l)[:-1]\n",
    "#     return ' '.join(l)\n",
    "    "
   ]
  },
  {
   "cell_type": "code",
   "execution_count": 4,
   "metadata": {},
   "outputs": [],
   "source": [
    "def extract_nodes(rule):\n",
    "    \n",
    "    \"\"\"\n",
    "    Description\n",
    "    ---------------\n",
    "    Extract the non terminal and terminal nodes from a rule along with the status of the rule (either lexical 1, or not 0)\n",
    "    \n",
    "    Parameters\n",
    "    ---------------\n",
    "    rule : nltk.grammar.Production object, the rule to consider.\n",
    "    \n",
    "    Returns\n",
    "    ---------------\n",
    "    3-tuple, tuple[0] : the lexical status.\n",
    "             tuple[1] : set containing the non terminal nodes.\n",
    "             tuple[2] : set containing the terminal nodes.\n",
    "    \"\"\"\n",
    "    if rule.is_lexical():\n",
    "        return True, set((rule._lhs._symbol,)), set((rule._rhs))\n",
    "    \n",
    "    else:\n",
    "        return False, set((rule._lhs._symbol,)).union(set((rule._rhs[0]._symbol, rule._rhs[1]._symbol))), set()"
   ]
  },
  {
   "cell_type": "code",
   "execution_count": 5,
   "metadata": {},
   "outputs": [],
   "source": [
    "# random.seed(0)\n",
    "# data_dev, data_test = data[4*len(data)//5:9*len(data)//10], data[9*len(data)//10:]\n",
    "data_test = data[9*len(data)//10:]\n",
    "# data = data[:4*len(data)//5]\n",
    "data = data[:9*len(data)//10]"
   ]
  },
  {
   "cell_type": "code",
   "execution_count": 6,
   "metadata": {},
   "outputs": [],
   "source": [
    "non_terminals = set()\n",
    "pos_tags = set()\n",
    "terminals = set()\n",
    "binaries = set()\n",
    "starts = set()\n",
    "for string in data:\n",
    "    t = Tree.fromstring(ignore_functional_labels(string))\n",
    "    t.chomsky_normal_form(horzMarkov=2)\n",
    "    t.collapse_unary(collapsePOS=True, collapseRoot=True)\n",
    "    rules = t.productions()\n",
    "    starts.add(rules[0]._lhs._symbol)\n",
    "    for rule in rules:\n",
    "        lexical, non_terminal_nodes, terminal_nodes = extract_nodes(rule)\n",
    "        if lexical:\n",
    "            non_terminals = non_terminals.union(non_terminal_nodes)\n",
    "            pos_tags = pos_tags.union(non_terminal_nodes)\n",
    "            terminals = terminals.union(terminal_nodes)\n",
    "            \n",
    "        else:\n",
    "            non_terminals = non_terminals.union(non_terminal_nodes)\n",
    "            if len(rule._rhs) == 2:\n",
    "                binaries.add((rule._rhs[0]._symbol, rule._rhs[1]._symbol))"
   ]
  },
  {
   "cell_type": "code",
   "execution_count": 7,
   "metadata": {},
   "outputs": [
    {
     "data": {
      "text/plain": [
       "{'SENT',\n",
       " 'SENT+AP',\n",
       " 'SENT+AP+ADJ',\n",
       " 'SENT+COORD',\n",
       " 'SENT+NC',\n",
       " 'SENT+NP',\n",
       " 'SENT+NP+NC',\n",
       " 'SENT+NP+NPP',\n",
       " 'SENT+NPP',\n",
       " 'SENT+PONCT',\n",
       " 'SENT+PP',\n",
       " 'SENT+VPinf'}"
      ]
     },
     "execution_count": 7,
     "metadata": {},
     "output_type": "execute_result"
    }
   ],
   "source": [
    "starts"
   ]
  },
  {
   "cell_type": "code",
   "execution_count": 8,
   "metadata": {},
   "outputs": [
    {
     "name": "stdout",
     "output_type": "stream",
     "text": [
      "Number of terminals : 9632\n",
      "Number of POS tags : 60\n",
      "Number of non terminals : 832\n",
      "Number of binaries : 2640\n"
     ]
    }
   ],
   "source": [
    "print('Number of terminals : %d' %len(terminals))\n",
    "print('Number of POS tags : %d' %len(pos_tags))\n",
    "print('Number of non terminals : %d' %len(non_terminals))\n",
    "print('Number of binaries : %d' %len(binaries))"
   ]
  },
  {
   "cell_type": "code",
   "execution_count": 9,
   "metadata": {},
   "outputs": [],
   "source": [
    "# dict_symbol_non_terminal = dict((non_terminal._symbol, non_terminal) for non_terminal in non_terminals)"
   ]
  },
  {
   "cell_type": "code",
   "execution_count": 10,
   "metadata": {},
   "outputs": [],
   "source": [
    "dict_non_terminals_indices = {non_terminal : index for index, non_terminal in enumerate(non_terminals)}\n",
    "dict_indices_non_terminals = {index : non_terminal for non_terminal, index in dict_non_terminals_indices.items()}\n",
    "\n",
    "dict_pos_indices = {pos : index for index, pos in enumerate(pos_tags)}\n",
    "dict_indices_pos = {index : pos for pos, index in dict_pos_indices.items()}\n",
    "\n",
    "dict_terminals_indices = {terminal : index for index, terminal in enumerate(terminals)}\n",
    "dict_indices_terminals = {index : terminal for terminal, index in dict_terminals_indices.items()}\n",
    "\n",
    "dict_binaries_indices = {binary : index for index, binary in enumerate(binaries)}\n",
    "dict_indices_terminals = {index : binary for binary, index in dict_binaries_indices.items()}\n",
    "\n",
    "dict_starts_indices = {binary : index for index, binary in enumerate(starts)}\n",
    "dict_indices_starts = {index : binary for binary, index in dict_starts_indices.items()}"
   ]
  },
  {
   "cell_type": "markdown",
   "metadata": {},
   "source": [
    "# PCFG"
   ]
  },
  {
   "cell_type": "code",
   "execution_count": 11,
   "metadata": {},
   "outputs": [],
   "source": [
    "def express_node(rule):\n",
    "    \n",
    "    \"\"\"\n",
    "    Description\n",
    "    ---------------\n",
    "    Express the nature of the rule and extract its left hand and right hand sides.\n",
    "    \n",
    "    Parameters\n",
    "    ---------------\n",
    "    rule : nltk.grammar.Production object, the rule to consider.\n",
    "    \n",
    "    Returns\n",
    "    ---------------\n",
    "    3-tuple, tuple[0] : String describing the rule {'lexical', 'start_node', 'unary', 'binary'}\n",
    "             tuple[1] : nltk.grammar.Production, the left hand side of the rule.\n",
    "             tuple[2] : nltk.grammar.Production, the right hand side of the rule.\n",
    "    \"\"\"\n",
    "    if rule.is_lexical():\n",
    "        return 'lexical', rule._lhs._symbol, rule._rhs[0]\n",
    "    \n",
    "    else:\n",
    "        lhs, rhs = rule._lhs._symbol, (rule._rhs[0]._symbol, rule._rhs[1]._symbol)\n",
    "        if len(rhs) == 2:\n",
    "            return 'binary', lhs, rhs"
   ]
  },
  {
   "cell_type": "code",
   "execution_count": 12,
   "metadata": {},
   "outputs": [],
   "source": [
    "def pcfg(data):\n",
    "    \n",
    "    \"\"\"\n",
    "    Description\n",
    "    ----------------\n",
    "    Create PCFG model from the data, i.e compute the probability of each rule (conditiona probabilities) statistically from the data\n",
    "    \n",
    "    Parameters\n",
    "    ----------------\n",
    "    data : List of strings representing parse trees.\n",
    "    \n",
    "    Returns\n",
    "    ----------------\n",
    "    dict_pcfg   : Dictionnary with three keys {'lexical', 'unary', 'binary'}\n",
    "                 - dict_pcfg['lexical']  : dictionnary of lexicons.\n",
    "                                           - keys   : POS tags; \n",
    "                                           - values : dictionnary of probabilities p(terminal|POS_tag)\n",
    "                                                     - keys   : terminals.\n",
    "                                                     - values : p(terminal|POS_tag)\n",
    "                 - dict_pcfg['unary']    : dictionnary of unary laws.\n",
    "                                           - keys   : non terminals; \n",
    "                                           - values : dictionnary of probabilities p(node|non_terminal), node here can be\n",
    "                                                      either a POS tag or a non terminal.\n",
    "                                                     - keys   : non terminals.\n",
    "                                                     - values : p(node|non_terminal)\n",
    "                                                                          \n",
    "                 - dict_pcfg['binary']   : dictionnary of binary laws.\n",
    "                                           - keys   : non terminals; \n",
    "                                           - values : dictionnary of probabilities p(node|non_terminal), node here is binary\n",
    "                                                      containing POS tags or non terminals.\n",
    "                                                     - keys   : non terminals.\n",
    "                                                     - values : p(node|non_terminal)\n",
    "                                                                        \n",
    "    dict_probas : Dictionnary rearranging the elements of dict_pcfg in a way that simplifies the use of the probabilities \n",
    "                  in the CYK algorithm, keys in {'lexical', 'unary', 'binary'}                  \n",
    "                  dictionnary of probabilities.\n",
    "                            - keys   : unary nodes (POS tags or non terminals).\n",
    "                            - values : probabilities p(node|unary_node)\n",
    "    \"\"\"\n",
    "    \n",
    "    # Initalize dictionnaries dict_lexicons, dict_unaries, dict_binaries that we put in dict_pcfg\n",
    "    dict_lexicons, dict_binaries = {}, {} # Notice that we already put the rule of the start node in\n",
    "                                                                              # Chomsky normal form\n",
    "    dict_pcfg = {'lexical' : dict_lexicons, 'binary' : dict_binaries}\n",
    "    \n",
    "    # Loop over the data\n",
    "    for string in data:\n",
    "        t = Tree.fromstring(ignore_functional_labels(string)) # Ignore the functional labels (see the doc of ignore_functional_labels)\n",
    "        t.chomsky_normal_form(horzMarkov=2)  # Convert the tree to Chomsky normal form\n",
    "        t.collapse_unary(collapsePOS=True, collapseRoot=True)\n",
    "        rules = t.productions()  # Get the rules\n",
    "        for rule in rules:       # We start by counting the rules in data\n",
    "            nature, lhs, rhs = express_node(rule)\n",
    "            if lhs in dict_pcfg[nature]:\n",
    "                if rhs in dict_pcfg[nature][lhs]:\n",
    "                    dict_pcfg[nature][lhs][rhs] += 1\n",
    "\n",
    "                else:\n",
    "                    dict_pcfg[nature][lhs][rhs] = 1\n",
    "\n",
    "            else:\n",
    "                dict_pcfg[nature][lhs] = {rhs : 1}\n",
    "                \n",
    "    dict_normalized = {}\n",
    "    for nature in dict_pcfg:\n",
    "        for lhs in dict_pcfg[nature]:\n",
    "            if lhs in dict_normalized:\n",
    "                dict_normalized[lhs] += sum(dict_pcfg[nature][lhs].values())\n",
    "                \n",
    "            else:\n",
    "                dict_normalized[lhs] = sum(dict_pcfg[nature][lhs].values())\n",
    "                \n",
    "    for nature in dict_pcfg:\n",
    "        for lhs in dict_pcfg[nature]:\n",
    "            dict_pcfg[nature][lhs] = dict((key, value/dict_normalized[lhs]) for key, value in dict_pcfg[nature][lhs].items())\n",
    "\n",
    "    dict_probas = {'lexical' : {}, 'unary' : {}, 'binary' : {}} # Initialize dict_probas\n",
    "    for nature in dict_pcfg:\n",
    "        for lhs in dict_pcfg[nature]:\n",
    "            for node in dict_pcfg[nature][lhs]:\n",
    "                if node in dict_probas[nature]:\n",
    "                    dict_probas[nature][node][lhs] = math.log(dict_pcfg[nature][lhs][node])\n",
    "\n",
    "                else:\n",
    "                    dict_probas[nature][node] = {lhs : math.log(dict_pcfg[nature][lhs][node])}\n",
    "                    \n",
    "    return dict_pcfg, dict_probas"
   ]
  },
  {
   "cell_type": "code",
   "execution_count": 13,
   "metadata": {},
   "outputs": [],
   "source": [
    "dict_pcfg, dict_probas = pcfg(data)"
   ]
  },
  {
   "cell_type": "code",
   "execution_count": 14,
   "metadata": {},
   "outputs": [
    {
     "data": {
      "text/plain": [
       "9632"
      ]
     },
     "execution_count": 14,
     "metadata": {},
     "output_type": "execute_result"
    }
   ],
   "source": [
    "len(dict_probas['lexical'])"
   ]
  },
  {
   "cell_type": "code",
   "execution_count": 15,
   "metadata": {},
   "outputs": [
    {
     "data": {
      "text/plain": [
       "2640"
      ]
     },
     "execution_count": 15,
     "metadata": {},
     "output_type": "execute_result"
    }
   ],
   "source": [
    "len(dict_probas['binary'])"
   ]
  },
  {
   "cell_type": "markdown",
   "metadata": {},
   "source": [
    "# CYK algorithm"
   ]
  },
  {
   "cell_type": "code",
   "execution_count": 16,
   "metadata": {},
   "outputs": [],
   "source": [
    "B_binary, C_binary = set([binary[0] for binary in dict_probas['binary'].keys()]), set([binary[1] for binary in dict_probas['binary'].keys()])\n",
    "set_binary = set(dict_probas['binary'].keys())"
   ]
  },
  {
   "cell_type": "code",
   "execution_count": 17,
   "metadata": {},
   "outputs": [],
   "source": [
    "# from time import time\n",
    "\n",
    "# index_non_terminal = lambda index : dict_indices_non_terminals[index]\n",
    "\n",
    "def cyk(sentence):\n",
    "    \n",
    "    n = len(sentence) + 1\n",
    "    k = len(non_terminals)\n",
    "    scores = [[{} for j in range(n)] for l in range(n)]\n",
    "    back = [[[None for i in range(k)] for j in range(n)] for l in range(n)]\n",
    "    Bs_scores, Cs_scores = [[set() for j in range(n)] for l in range(n)], [[set() for j in range(n)] for l in range(n)]\n",
    "    for i in range(0, n-1):\n",
    "        word = sentence[i]\n",
    "        if word in dict_probas['lexical'].keys():\n",
    "            for A in dict_probas['lexical'][word]:\n",
    "                scores[i][i+1][A] = dict_probas['lexical'][word][A]\n",
    "                if A in B_binary:\n",
    "                    Bs_scores[i][i+1].add(A)\n",
    "\n",
    "                if A in C_binary:\n",
    "                    Cs_scores[i][i+1].add(A)\n",
    "                    \n",
    "        else:\n",
    "            print(word + \" : isn't in terminals\")\n",
    "            return scores, back\n",
    "                 \n",
    "    for span in range(2, n):\n",
    "        start_time_binary = time()\n",
    "        for begin in range(0, n-span):\n",
    "            end = begin + span\n",
    "            start_time_binary = time()\n",
    "            for split in range(begin+1, end):\n",
    "#                 Bs = set(scores[begin][split].keys()).intersection(B_binary)\n",
    "#                 Cs = set(scores[split][end].keys()).intersection(C_binary)\n",
    "                Bs = Bs_scores[begin][split].intersection(B_binary)\n",
    "                Cs = Cs_scores[split][end].intersection(C_binary)\n",
    "                \n",
    "                for B, C in set_binary.intersection(set(product(Bs, Cs))):\n",
    "                    score_B, score_C = scores[begin][split].get(B, -np.inf), scores[split][end].get(C, -np.inf)\n",
    "                    for A in dict_probas['binary'][(B, C)]:\n",
    "                        prob = score_B + score_C + dict_probas['binary'][(B, C)][A]\n",
    "                        if prob > scores[begin][end].get(A, -np.inf):\n",
    "                            scores[begin][end][A] = prob\n",
    "                            back[begin][end][dict_non_terminals_indices[A]] = (split, B, C)\n",
    "                            if A in B_binary:\n",
    "                                Bs_scores[begin][end].add(A)\n",
    "\n",
    "                            if A in C_binary:\n",
    "                                Cs_scores[begin][end].add(A)\n",
    "                                \n",
    "    return scores, back"
   ]
  },
  {
   "cell_type": "markdown",
   "metadata": {},
   "source": [
    "# Backtrack : Build parse tree from CYK"
   ]
  },
  {
   "cell_type": "code",
   "execution_count": 18,
   "metadata": {},
   "outputs": [],
   "source": [
    "def not_in_grammar(sentence):\n",
    "    string = '( (Not-inGrammar '\n",
    "    for i in range(len(sentence)-1):\n",
    "        string += '(Not-in-Grammar ' + sentence[i] + ')'\n",
    "        \n",
    "    string += '(Not-in-Grammar ' + sentence[-1] + ')))'\n",
    "    return string"
   ]
  },
  {
   "cell_type": "code",
   "execution_count": 19,
   "metadata": {},
   "outputs": [],
   "source": [
    "def build_parentheses(back_track, scores, sentence):\n",
    "    \n",
    "    \"\"\"\n",
    "    Description\n",
    "    ---------------\n",
    "    Build the parse tree from tha back_track return of CYK algorithm as a string with parentheses. Then if we want to get the parse\n",
    "    in a tree form, we can simply use function Tree.from_string of nltk package.\n",
    "    \n",
    "    Parameters\n",
    "    ---------------\n",
    "    back_track : 3D matrix in the form of list of lists, of \"shape\" (n, n, r).\n",
    "                 - n : the length of the sentence we want to parse.\n",
    "                 - r : the number of non terminal nodes in our grammar.\n",
    "                 \n",
    "    Returns\n",
    "    ---------------\n",
    "    String, the string form with parentheses of the parse tree.\n",
    "    \"\"\"\n",
    "    \n",
    "    \n",
    "    q = queue.LifoQueue()\n",
    "    begin = 0\n",
    "    end = len(back_track[0]) - 1\n",
    "    starts_scores = []\n",
    "    for start in starts:\n",
    "        starts_scores.append((scores[begin][end].get(start,-np.inf), start))\n",
    "    \n",
    "    starts_scores.sort(reverse=True)\n",
    "    if starts_scores[0][0] == -np.inf:\n",
    "        return not_in_grammar(sentence)\n",
    "    \n",
    "    sent = starts_scores[0][1]\n",
    "    string = '('\n",
    "    print(sent)\n",
    "    q.put((None, sent, 'start', 1, [begin, end]))\n",
    "\n",
    "    while not q.empty():\n",
    "        split, symbol, status, depth, border = q.get()   # border is begin for left and end for right\n",
    "        string += ' (' + symbol\n",
    "\n",
    "        if status == 'left':\n",
    "            border = [border[0], split]\n",
    "            children = back[border[0]][border[1]][dict_non_terminals_indices[symbol]]\n",
    "\n",
    "        elif status == 'right':\n",
    "            border = [split, border[1]]\n",
    "            children = back[border[0]][border[1]][dict_non_terminals_indices[symbol]]\n",
    "\n",
    "        elif status == 'start':\n",
    "            children = back[border[0]][border[1]][dict_non_terminals_indices[symbol]]\n",
    "\n",
    "        if children is not None:\n",
    "            if isinstance(children, grammar.Nonterminal):\n",
    "                node = (split, children, status, depth+1, border)\n",
    "                q.put(node)\n",
    "\n",
    "            elif len(children) == 3:\n",
    "                split, l_child, r_child = children\n",
    "                l_node, r_node = (split, l_child, 'left', 0, border), (split, r_child, 'right', depth+1, border)\n",
    "                q.put(r_node)\n",
    "                q.put(l_node)\n",
    "\n",
    "        else:\n",
    "            depth += 1\n",
    "            word = sentence[border[0]:border[1]][0]\n",
    "            string += ' ' + word + ')'*depth\n",
    "            \n",
    "#     return string[2:-1]\n",
    "    return string"
   ]
  },
  {
   "cell_type": "code",
   "execution_count": 21,
   "metadata": {},
   "outputs": [
    {
     "data": {
      "image/png": "[encoded data removed]",
      "text/plain": [
       "Tree('+SENT', [Tree('NP', [Tree('DET', ['Une']), Tree('NP|<NC-COORD>', [Tree('NC', ['heure']), Tree('COORD', [Tree('CC', ['et']), Tree('NP', [Tree('DET', ['vingt']), Tree('NC', ['minutes'])])])])]), Tree('SENT|<PONCT-VN>', [Tree('PONCT', [',']), Tree('SENT|<VN-NP>', [Tree('VN', [Tree('CLS', [\"c'\"]), Tree('V', ['est'])]), Tree('SENT|<NP-PONCT>', [Tree('NP', [Tree('DET', ['le']), Tree('NP|<NC-Srel>', [Tree('NC', ['temps']), Tree('Srel', [Tree('NP+PROREL', [\"qu'\"]), Tree('Srel|<VN-PP>', [Tree('VN', [Tree('CLS', ['il']), Tree('VN|<V-VPP>', [Tree('V', ['aura']), Tree('VPP', ['fallu'])])]), Tree('Srel|<PP-PONCT>', [Tree('PP', [Tree('P', ['à']), Tree('NP', [Tree('NPP', ['Thierry']), Tree('NP|<NPP-PONCT>', [Tree('NPP', ['Guerry']), Tree('NP|<PONCT-NP>', [Tree('PONCT', [',']), Tree('NP', [Tree('NC', ['chauffeur-routier']), Tree('PP', [Tree('P', ['chez']), Tree('NP', [Tree('NPP', ['Caillaud']), Tree('NP|<PONCT-NP>', [Tree('PONCT', [',']), Tree('NP', [Tree('DET', [\"l'\"]), Tree('NP|<NC-PP>', [Tree('NC', ['entreprise']), Tree('NP|<PP-VPpart>', [Tree('PP', [Tree('P', ['en']), Tree('NP+NC', ['charpente'])]), Tree('VPpart', [Tree('VPP', ['chargée']), Tree('PP', [Tree('P', ['de']), Tree('NP', [Tree('DET', ['la']), Tree('NP|<NC-PP>', [Tree('NC', ['pose']), Tree('PP', [Tree('P', ['de']), Tree('NP', [Tree('DET', ['la']), Tree('NP|<NC-PP>', [Tree('NC', ['toiture']), Tree('PP', [Tree('P+D', ['des']), Tree('NP', [Tree('NC', ['cours']), Tree('NP|<PP-AP>', [Tree('PP', [Tree('P', ['de']), Tree('NP+NC', ['tennis'])]), Tree('AP+ADJ', ['couverts'])])])])])])])])])])])])])])])])])])])])])]), Tree('Srel|<PONCT-VPinf>', [Tree('PONCT', [',']), Tree('VPinf', [Tree('P', ['pour']), Tree('VPinf|<VN-PP>', [Tree('VN+VINF', ['pénétrer']), Tree('VPinf|<PP-PONCT>', [Tree('PP', [Tree('P', ['dans']), Tree('NP', [Tree('DET', [\"l'\"]), Tree('NP|<NC-PP>', [Tree('NC', ['enceinte']), Tree('PP', [Tree('P+D', ['du']), Tree('NP', [Tree('NC', ['complexe']), Tree('NP|<AP-PP>', [Tree('AP+ADJ', ['sportif']), Tree('PP', [Tree('P', ['de']), Tree('NP', [Tree('DET', ['la']), Tree('NC', ['commune'])])])])])])])])]), Tree('VPinf|<PONCT-PP>', [Tree('PONCT', [',']), Tree('PP', [Tree('P', ['avec']), Tree('NP', [Tree('DET', ['son']), Tree('NP|<NC-PONCT>', [Tree('NC', ['semi-remorque']), Tree('NP|<PONCT-Srel>', [Tree('PONCT', [',']), Tree('Srel', [Tree('PP', [Tree('P', ['sur']), Tree('NP+PROREL', ['lequel'])]), Tree('Srel|<VN-NP>', [Tree('VN', [Tree('V', ['étaient']), Tree('VPP', ['chargées'])]), Tree('NP', [Tree('DET', ['quatorze']), Tree('NP|<NC-PP>', [Tree('NC', ['tonnes']), Tree('PP', [Tree('P', [\"d'\"]), Tree('NP', [Tree('NC', ['éléments']), Tree('NP|<PP-PP>', [Tree('PP', [Tree('P', ['en']), Tree('NP+NC', ['bois'])]), Tree('NP|<PP-PONCT>', [Tree('PP', [Tree('P', ['de']), Tree('NP', [Tree('DET', ['trente']), Tree('NP|<NC-PP>', [Tree('NC', ['mètres']), Tree('PP', [Tree('P', ['de']), Tree('NP+ADJ', ['long'])])])])]), Tree('NP|<PONCT-VPpart>', [Tree('PONCT', [',']), Tree('VPpart', [Tree('VPP', ['destinés']), Tree('PP', [Tree('P', ['à']), Tree('NP', [Tree('DET', ['la']), Tree('NP|<NC-PP>', [Tree('NC', ['couverture']), Tree('PP', [Tree('P+D', ['du']), Tree('NP', [Tree('NC', ['bâtiment']), Tree('PP', [Tree('P', ['en']), Tree('NP', [Tree('NC', ['construction']), Tree('PP', [Tree('P', ['sur']), Tree('NP', [Tree('DET', ['le']), Tree('NC', ['stade'])])])])])])])])])])])])])])])])])])])])])])])])])])])])])])])])])]), Tree('PONCT', ['.'])])])])])"
      ]
     },
     "execution_count": 21,
     "metadata": {},
     "output_type": "execute_result"
    }
   ],
   "source": [
    "t = Tree.fromstring('( ' + ignore_functional_labels(data[97]) + ')')\n",
    "t.chomsky_normal_form(horzMarkov=2)\n",
    "t.collapse_unary(collapsePOS=True, collapseRoot=True)\n",
    "t"
   ]
  },
  {
   "cell_type": "code",
   "execution_count": 22,
   "metadata": {},
   "outputs": [
    {
     "data": {
      "text/plain": [
       "83"
      ]
     },
     "execution_count": 22,
     "metadata": {},
     "output_type": "execute_result"
    }
   ],
   "source": [
    "sentence = t.leaves()\n",
    "len(sentence)\n",
    "# sentence = [\"Références\"]"
   ]
  },
  {
   "cell_type": "code",
   "execution_count": 23,
   "metadata": {},
   "outputs": [],
   "source": [
    "# sentence = \"pourquoi le chien est mort .\".split(' ')\n",
    "# sentence"
   ]
  },
  {
   "cell_type": "code",
   "execution_count": 24,
   "metadata": {},
   "outputs": [
    {
     "name": "stdout",
     "output_type": "stream",
     "text": [
      "0.0022177696228027344\n"
     ]
    }
   ],
   "source": [
    "from time import time\n",
    "start_time = time()\n",
    "sentence = ['Histoire', 'de', 'la', 'loge']\n",
    "scores, back = cyk(sentence)\n",
    "print(time() - start_time)"
   ]
  },
  {
   "cell_type": "code",
   "execution_count": 25,
   "metadata": {},
   "outputs": [
    {
     "data": {
      "text/plain": [
       "{'ADVWH': -2.512305623976115}"
      ]
     },
     "execution_count": 25,
     "metadata": {},
     "output_type": "execute_result"
    }
   ],
   "source": [
    "dict_probas['lexical']['pourquoi']"
   ]
  },
  {
   "cell_type": "code",
   "execution_count": 26,
   "metadata": {},
   "outputs": [
    {
     "name": "stdout",
     "output_type": "stream",
     "text": [
      "SENT+NP\n"
     ]
    },
    {
     "data": {
      "image/png": "[encoded data removed]",
      "text/plain": [
       "Tree('', [Tree('SENT', [Tree('NP', [Tree('NC', ['Histoire']), Tree('PP', [Tree('P', ['de']), Tree('NP', [Tree('DET', ['la']), Tree('NC', ['loge'])])])])])])"
      ]
     },
     "execution_count": 26,
     "metadata": {},
     "output_type": "execute_result"
    }
   ],
   "source": [
    "t_test = Tree.fromstring(build_parentheses(back, scores, sentence))\n",
    "t_test.un_chomsky_normal_form()\n",
    "t_test"
   ]
  },
  {
   "cell_type": "code",
   "execution_count": 27,
   "metadata": {},
   "outputs": [],
   "source": [
    "t.un_chomsky_normal_form()"
   ]
  },
  {
   "cell_type": "code",
   "execution_count": 28,
   "metadata": {},
   "outputs": [
    {
     "data": {
      "text/plain": [
       "False"
      ]
     },
     "execution_count": 28,
     "metadata": {},
     "output_type": "execute_result"
    }
   ],
   "source": [
    "\" \".join(str(t).split()) == \" \".join(str(t_test).split())"
   ]
  },
  {
   "cell_type": "markdown",
   "metadata": {},
   "source": [
    "## Evaluation"
   ]
  },
  {
   "cell_type": "code",
   "execution_count": 29,
   "metadata": {},
   "outputs": [],
   "source": [
    "def score(true_parse, proposed_parse):\n",
    "    \n",
    "    \"\"\"\n",
    "    Description\n",
    "    -----------------\n",
    "    Evaluate a proposed parse given the true one, this function prints recall and precision of the whole parse and on POS tags only also.\n",
    "    \n",
    "    Parameters\n",
    "    -----------------\n",
    "    true_parse, proposed_parse : Bracketed strings, the true and proposed parse trees.\n",
    "    \n",
    "    Returns\n",
    "    -----------------\n",
    "    \"\"\"\n",
    "    \n",
    "    true_parse = true_parse[2:-1]\n",
    "    proposed_parse= proposed_parse[2:-1]\n",
    "    \n",
    "    gold_tree = parser.create_from_bracket_string(true_parse)\n",
    "    test_tree = parser.create_from_bracket_string(proposed_parse)\n",
    "    \n",
    "    # Compute recall and precision for POS tags\n",
    "    y_true = np.array(gold_tree.poss)\n",
    "    y_pred = np.array(test_tree.poss)\n",
    "\n",
    "    y_pred = (y_true == y_pred).astype(int)\n",
    "    y_true = np.ones(len(y_true)).astype(int)\n",
    "\n",
    "    (POS_precision, POS_recall, POS_f_score, beta) = precision_recall_fscore_support(y_true,y_pred, labels=[1])\n",
    "    \n",
    "    # Compute recall and precision for the whole parse\n",
    "    thescorer = scorer.Scorer() \n",
    "    result = thescorer.score_trees(gold_tree, test_tree)\n",
    "    \n",
    "    print('Parse recall : {:.2f}%'.format(result.recall*100))\n",
    "    print('Parse precision : {:.2f}%'.format(result.prec*100), end=\"\\n\\n\")\n",
    "    \n",
    "    print('POS recall : {:.2f}%'.format(POS_recall[0]*100))\n",
    "    print('POS precision : {:.2f}%'.format(POS_precision[0]*100))\n",
    "\n",
    "    return None"
   ]
  },
  {
   "cell_type": "code",
   "execution_count": 30,
   "metadata": {},
   "outputs": [],
   "source": [
    "# score(\" \".join(str(t).split()), \" \".join(str(t_test).split()))"
   ]
  },
  {
   "cell_type": "markdown",
   "metadata": {},
   "source": [
    "# OOV module"
   ]
  },
  {
   "cell_type": "markdown",
   "metadata": {},
   "source": [
    "## Embedding similarity"
   ]
  },
  {
   "cell_type": "code",
   "execution_count": 31,
   "metadata": {},
   "outputs": [],
   "source": [
    "words, embeddings = pkl.load(open('polyglot-fr.pkl', 'rb'), encoding = 'latin')\n",
    "dict_words_embeddings = dict((word, embedding) for word, embedding in zip(words, embeddings))\n",
    "del words, embeddings"
   ]
  },
  {
   "cell_type": "code",
   "execution_count": 32,
   "metadata": {},
   "outputs": [
    {
     "data": {
      "text/plain": [
       "[(0.0, 'femme'),\n",
       " (0.13840019702911377, 'mère'),\n",
       " (0.2212699055671692, 'sorcière'),\n",
       " (0.22470712661743164, 'dame'),\n",
       " (0.23393511772155762, 'fille'),\n",
       " (0.2370111346244812, 'chanteuse'),\n",
       " (0.2375941276550293, 'reine'),\n",
       " (0.24107229709625244, 'personne'),\n",
       " (0.24143099784851074, 'sœur'),\n",
       " (0.24942022562026978, 'princesse')]"
      ]
     },
     "execution_count": 32,
     "metadata": {},
     "output_type": "execute_result"
    }
   ],
   "source": [
    "word_original = 'femme'\n",
    "scores = []\n",
    "for word in dict_words_embeddings:\n",
    "    scores.append((distance.cosine(dict_words_embeddings[word_original], dict_words_embeddings[word]), word))\n",
    "    \n",
    "sorted(scores)[:10]"
   ]
  },
  {
   "cell_type": "markdown",
   "metadata": {},
   "source": [
    "## Formal similarity"
   ]
  },
  {
   "cell_type": "code",
   "execution_count": 33,
   "metadata": {},
   "outputs": [],
   "source": [
    "def levenshtein(s1, s2):\n",
    "    \n",
    "    \"\"\"\n",
    "    Description\n",
    "    ---------------\n",
    "    Computes the Levenshtein distance between two strings.\n",
    "    \n",
    "    Parameters\n",
    "    ---------------\n",
    "    s1, s2 : The two strings we want to compare.\n",
    "    \n",
    "    Returns\n",
    "    ---------------\n",
    "    Float, the Levenshtein distance between s1 and s2\n",
    "    \"\"\"\n",
    "    \n",
    "    s1, s2 = unidecode.unidecode(s1.lower()), unidecode.unidecode(s2.lower())\n",
    "    n1, n2 = len(s1), len(s2)\n",
    "    lev = np.zeros((n1 + 1, n2 + 1))\n",
    "    for i in range(n1 + 1):\n",
    "        lev[i, 0] = i\n",
    "        \n",
    "    for j in range(n2 + 1):\n",
    "        lev[0, j] = j\n",
    "        \n",
    "    for i in range(1, n1 + 1):\n",
    "        for j in range(1, n2 + 1):\n",
    "            if s1[i-1] == s2[j-1]:\n",
    "                lev[i, j] = min(lev[i-1, j] + 1, lev[i, j-1] + 1, lev[i-1, j-1])\n",
    "                \n",
    "            else:\n",
    "                lev[i, j] = min(lev[i-1, j] + 1, lev[i, j-1] + 1, lev[i-1, j-1] + 1)\n",
    "                \n",
    "    return lev[n1, n2]\n",
    "\n",
    "def damerau_levenshtein(s1, s2):\n",
    "    \n",
    "    \"\"\"\n",
    "    Description\n",
    "    ---------------\n",
    "    Computes the Damerau-Levenshtein distance between two strings.\n",
    "    \n",
    "    Parameters\n",
    "    ---------------\n",
    "    s1, s2 : The two strings we want to compare.\n",
    "    \n",
    "    Returns\n",
    "    ---------------\n",
    "    Float, the Damerau-Levenshtein distance between s1 and s2\n",
    "    \"\"\"\n",
    "    \n",
    "#     s1, s2 = unidecode.unidecode(s1.lower()), unidecode.unidecode(s2.lower())\n",
    "    s1, s2 = s1.lower(), s2.lower()\n",
    "    n1, n2 = len(s1), len(s2)\n",
    "    alphabet = ['!', '\"', '#', '$', '%', '&', '(', ')', \"'\", '*', '+', \n",
    "                ',', '-', '.', '/', ':', ';', '<', '=', '>', '?', '@', \n",
    "                '[', ']', '^', '_', '`', '{', '|', '}', '~', ' ', '°',\n",
    "                'é', 'è', 'ë', 'ê', 'à', 'á', 'â', 'ä', 'ç', 'î', 'ï', \n",
    "                'ô', 'ó', 'ö', 'ù', 'û', 'ß', '©', '±', 'µ', '½'] + [str(i) for i in range(10)] + ['a', 'b', 'c', 'd', 'e', 'f', 'g', 'h', 'i', 'j', 'k', 'l', 'm', \n",
    "                'n', 'o', 'p', 'q', 'r', 's', 't', 'u', 'v', 'w', 'x', 'y', 'z']\n",
    "    for char in s1 + s2:\n",
    "        if char not in alphabet:\n",
    "            return 10\n",
    "        \n",
    "    dict_alphabet_indices = {char:index for (index, char) in zip(range(len(alphabet)), alphabet)}\n",
    "    da, d = np.zeros(len(alphabet)).astype(np.int8), np.zeros((n1 + 2, n2 + 2)).astype(np.int8)\n",
    "    maxdist = n1 + n2\n",
    "    d[0, 0] = maxdist\n",
    "    for i in range(n1 + 1):\n",
    "        d[i+1, 0] = maxdist\n",
    "        d[i+1, 1] = i\n",
    "        \n",
    "    for j in range(n2 + 1):\n",
    "        d[0, j+1] = maxdist\n",
    "        d[1, j+1] = j\n",
    "        \n",
    "    for i in range(1, n1 + 1):\n",
    "        db = 0\n",
    "        for j in range(1, n2 + 1):\n",
    "            k = da[dict_alphabet_indices[s2[j-1]]]\n",
    "            l = db\n",
    "            if s1[i-1] == s2[j-1]:\n",
    "                cost = 0\n",
    "                db = j\n",
    "                \n",
    "            else:\n",
    "                cost = 1\n",
    "                \n",
    "            d[i+1, j+1] = min(d[i, j] + cost, d[i+1, j] + 1, \n",
    "                              d[i, j+1] + 1, d[k, l] + (i-k-1)+1+(j-l-1))\n",
    "            da[dict_alphabet_indices[s1[i-1]]] = i\n",
    "            \n",
    "    return d[-1, -1]\n",
    "    "
   ]
  },
  {
   "cell_type": "markdown",
   "metadata": {},
   "source": [
    "## Language model"
   ]
  },
  {
   "cell_type": "code",
   "execution_count": 34,
   "metadata": {},
   "outputs": [],
   "source": [
    "def unigram(data):\n",
    "    \n",
    "    \"\"\"\n",
    "    Description\n",
    "    ---------------\n",
    "    Compute a unigram model from the corpus data.\n",
    "    \n",
    "    Parameters\n",
    "    ---------------\n",
    "    data : List of bracketed strings\n",
    "    \n",
    "    Returns\n",
    "    ---------------\n",
    "    np.array of shape (#words_in_data,) containing the probabilities p(word).\n",
    "    \"\"\"\n",
    "  \n",
    "    probas = np.zeros(len(terminals))\n",
    "    for bracketed in data:\n",
    "        t = Tree.fromstring(bracketed)\n",
    "        for word in t.leaves():\n",
    "            probas[dict_terminals_indices[word]] += 1\n",
    "\n",
    "    return probas/probas.sum()\n",
    "\n",
    "def bigram(data):\n",
    "    \n",
    "    \"\"\"\n",
    "    Description\n",
    "    ---------------\n",
    "    Compute a bigram model from the corpus data.\n",
    "    \n",
    "    Parameters\n",
    "    ---------------\n",
    "    data : List of bracketed strings\n",
    "    \n",
    "    Returns\n",
    "    ---------------\n",
    "    np.array of shape (#words_in_data, #words_in_data) containing the probabilities p(word_current|word_previous).\n",
    "    \"\"\"\n",
    "  \n",
    "    probas = np.full((len(terminals), len(terminals)), 1e-50)\n",
    "    for bracketed in data:\n",
    "        t = Tree.fromstring(bracketed)\n",
    "        sentence = t.leaves()\n",
    "        if len(sentence) >= 2:\n",
    "            for i in range(1, len(sentence)):\n",
    "                index_1 = dict_terminals_indices[sentence[i - 1]] # The previous word in the sequene.\n",
    "                index_2 = dict_terminals_indices[sentence[i]] # The current word in the sequene.\n",
    "                probas[index_1, index_2] += 1\n",
    "\n",
    "        else:\n",
    "            continue\n",
    "\n",
    "    return probas/((probas.sum(axis = 1).reshape(-1, 1)))"
   ]
  },
  {
   "cell_type": "code",
   "execution_count": 35,
   "metadata": {},
   "outputs": [],
   "source": [
    "probas_unigram, probas_bigram = unigram(data), bigram(data)"
   ]
  },
  {
   "cell_type": "markdown",
   "metadata": {},
   "source": [
    "## Assigning OOV words to the training lexique"
   ]
  },
  {
   "cell_type": "code",
   "execution_count": 36,
   "metadata": {},
   "outputs": [],
   "source": [
    "lower_case = lambda s : s.lower()\n",
    "terminals_lower = set(map(lower_case, terminals))\n",
    "dict_terminals_lower_indices = {terminal.lower() : index for (terminal, index) in dict_terminals_indices.items()}\n",
    "dict_terminals_lower_terminals = {terminal.lower() : terminal for terminal in terminals}\n",
    "\n",
    "dict_terminals_embeddings = {terminal : embedding for (terminal, embedding) in dict_words_embeddings.items() if terminal in dict_terminals_lower_indices}\n",
    "terminals_embedded = set(dict_terminals_embeddings.keys())"
   ]
  },
  {
   "cell_type": "code",
   "execution_count": 38,
   "metadata": {},
   "outputs": [],
   "source": [
    "def closest_formal(s, terminals, n_words = 5, swap = True):\n",
    "    \n",
    "    \"\"\"\n",
    "    Description\n",
    "    ---------------\n",
    "    Get the terminals within a lower Damerau-Levenshtein (or Levenshtein) distance of thresh to the word s.\n",
    "    \n",
    "    Parameters\n",
    "    ---------------\n",
    "    s         : String, the oov word\n",
    "    terminals : Set of words we have in our corpus.\n",
    "    thresh    : Int, the threshold of Damerau-Levenshtein distance.\n",
    "    swap      : Boolean, True  : Use Damerau-Levenshtein distance.\n",
    "                         False : Use Levenshtein distance\n",
    "    \n",
    "    Returns\n",
    "    ---------------\n",
    "    Dictionnary of the closest words.\n",
    "        keys   : words in terminals.\n",
    "        values : distance(s, word)\n",
    "    \"\"\"\n",
    "    \n",
    "    if swap:\n",
    "        fun = lambda word : damerau_levenshtein(s, word)\n",
    "        \n",
    "    else:\n",
    "        fun = lambda word : levenshtein(s, word)\n",
    "        \n",
    "#     return {word : score for word, score in zip(terminals, list(map(fun, terminals))) if score <= thresh}\n",
    "#     return {dict_terminals_lower_terminals[word] : score for score, word in sorted(zip(list(map(fun, terminals)), terminals))[:n_words]}\n",
    "    return {word : score for score, word in sorted(zip(list(map(fun, terminals)), terminals))[:n_words]}"
   ]
  },
  {
   "cell_type": "code",
   "execution_count": 39,
   "metadata": {},
   "outputs": [],
   "source": [
    "def closest_embedding(s, terminals, n_words = 10):\n",
    "    \n",
    "    \"\"\"\n",
    "    Description\n",
    "    ---------------\n",
    "    Get the terminals within a lower Damerau-Levenshtein (or Levenshtein) distance of thresh to the word s.\n",
    "    \n",
    "    Parameters\n",
    "    ---------------\n",
    "    s         : String, oov word\n",
    "    terminals : Set of words we have in our corpus.\n",
    "    n_words   : Int, number of closest words to s.\n",
    "    \n",
    "    Returns\n",
    "    ---------------\n",
    "    Dictionnary of the closest words.\n",
    "        keys   : words in terminals.\n",
    "        values : cosine_distance(s, word)\n",
    "    \"\"\"\n",
    "    \n",
    "    fun = lambda word : distance.cosine(dict_words_embeddings[s], dict_words_embeddings[word]) if word in dict_words_embeddings else 2.\n",
    "#     fun = lambda word : (distance.cosine(dict_words_embeddings[s], dict_terminals_embeddings[word]), word)\n",
    "#     return {dict_terminals_lower_terminals[score_word[1]] : score_word[0] for score_word in sorted(zip(list(map(fun, terminals)), terminals))[:n_words]}\n",
    "    return {score_word[1] : score_word[0] for score_word in sorted(zip(list(map(fun, terminals)), terminals))[:n_words]}"
   ]
  },
  {
   "cell_type": "code",
   "execution_count": 111,
   "metadata": {},
   "outputs": [
    {
     "name": "stdout",
     "output_type": "stream",
     "text": [
      "598 ms ± 3.92 ms per loop (mean ± std. dev. of 7 runs, 1 loop each)\n"
     ]
    }
   ],
   "source": [
    "s = 'mer'\n",
    "%timeit closest_formal(s, terminals, swap = False)\n",
    "# closest_embedding(s, terminals)"
   ]
  },
  {
   "cell_type": "code",
   "execution_count": 42,
   "metadata": {},
   "outputs": [],
   "source": [
    "def choose_words_1(sentence, terminals, probas_unigram, probas_bigram, thresh = 2, swap = True, n_words = 10):\n",
    "    \n",
    "    \"\"\"\n",
    "    Description\n",
    "    ---------------\n",
    "    Given a word s of the sentence, start by checking if it is in the training lexique, if not then choose a similar word \n",
    "    from the lexique using the formal and embedding similarities and a bigram language model trained on the training corpus.\n",
    "    \n",
    "    Parameters\n",
    "    ---------------\n",
    "    sentence       : List of strings containing tokens of a sentence.\n",
    "    terminals      : Set of all words in the training corpus.\n",
    "    probas_unigram : 1D np.array of shape (len(terminals),), unigram model trained on the training corpus.\n",
    "    probas_bigram  : 2D np.array of shape (len(terminals), len(terminals)), bigram model trained on the training corpus.\n",
    "    thresh, swap,  : Parameters of closest_formal (see its doc).\n",
    "    n_words        : Parameters of closest_embedding (see its doc).\n",
    "    \n",
    "    Returns\n",
    "    ---------------\n",
    "    List of strings containing the closest words to the sentence from the training corpus.\n",
    "    \"\"\"\n",
    "    \n",
    "    log_proba = 0\n",
    "    sent = sentence.copy()\n",
    "    for i in range(len(sent)):\n",
    "        s = sent[i]\n",
    "        if s in terminals:\n",
    "            log_proba += math.log(probas_unigram[dict_terminals_lower_indices[s]]) if i==0 else math.log(probas_bigram[dict_terminals_lower_indices[sent[i-1]], dict_terminals_lower_indices[s]])\n",
    "            continue\n",
    "\n",
    "        else:\n",
    "            print(s + ' is oov')\n",
    "            words_formal = closest_formal(s, terminals, thresh, swap)\n",
    "            words_embedding = closest_embedding(s, terminals, n_words) if s in dict_words_embeddings else {}\n",
    "            words_proposed = set(words_formal.keys()) | set(words_embedding.keys()) # Set of the proposed words\n",
    "            if len(words_proposed) == 0:\n",
    "                print('word not found : Need to look for the closest words in the form among the polyglot words')\n",
    "                dict_closest = closest_formal(s, set(dict_words_embeddings.keys()), thresh=1, swap=False)\n",
    "                if len(dict_closest) == 0:\n",
    "                    print(\"We didn't find matching words\")\n",
    "                    \n",
    "                    continue\n",
    "                    \n",
    "                else:\n",
    "                    words_proposed = set(closest_embedding(min(dict_closest, key = lambda word : dict_closest[word])[0], terminals, 1).keys())\n",
    "                    \n",
    "            if i == 0:\n",
    "                scores = []\n",
    "                for word in words_proposed:\n",
    "#                     unigram = math.log(probas_unigram[dict_terminals_indices[word]])\n",
    "                    unigram = math.log(probas_unigram[dict_terminals_lower_indices[word]])\n",
    "                    scores.append((unigram, word))\n",
    "                \n",
    "            else:\n",
    "                scores = []\n",
    "                for word in words_proposed:\n",
    "                    bigram = math.log(probas_bigram[dict_terminals_lower_indices[sent[i-1]], dict_terminals_lower_indices[word]])\n",
    "                    score = log_proba + bigram\n",
    "                    scores.append((score, word))\n",
    "                \n",
    "            scores.sort(reverse = True)\n",
    "            sent[i] = scores[0][1]\n",
    "            log_proba += scores[0][0]\n",
    "        \n",
    "    return sent"
   ]
  },
  {
   "cell_type": "code",
   "execution_count": 102,
   "metadata": {},
   "outputs": [],
   "source": [
    "def choose_words(sentence, terminals, probas_unigram, probas_bigram, swap = True, n_words = 10, n_words_formal = 5):\n",
    "    \n",
    "    \"\"\"\n",
    "    Description\n",
    "    ---------------\n",
    "    Given a word s of the sentence, start by checking if it is in the training lexique, if not then choose a similar word \n",
    "    from the lexique using the formal and embedding similarities and a bigram language model trained on the training corpus.\n",
    "    \n",
    "    Parameters\n",
    "    ---------------\n",
    "    sentence       : List of strings containing tokens of a sentence.\n",
    "    terminals      : Set of all words in the training corpus.\n",
    "    probas_unigram : 1D np.array of shape (len(terminals),), unigram model trained on the training corpus.\n",
    "    probas_bigram  : 2D np.array of shape (len(terminals), len(terminals)), bigram model trained on the training corpus.\n",
    "    thresh, swap,  : Parameters of closest_formal (see its doc).\n",
    "    n_words        : Parameters of closest_embedding (see its doc).\n",
    "    \n",
    "    Returns\n",
    "    ---------------\n",
    "    List of strings containing the closest words to the sentence from the training corpus.\n",
    "    \"\"\"\n",
    "    \n",
    "    log_proba = 0\n",
    "    sent = sentence.copy()\n",
    "    print(\" \".join(sentence))\n",
    "    for i in range(len(sent)):\n",
    "        s = sent[i]\n",
    "        if s in terminals:\n",
    "#         if s.lower() in terminals_lower:\n",
    "            log_proba += math.log(probas_unigram[dict_terminals_indices[s]]) if i==0 else math.log(probas_bigram[dict_terminals_indices[sent[i-1]], dict_terminals_indices[s]])\n",
    "#             log_proba += math.log(probas_unigram[s]) if i==0 else math.log(probas_bigram[sent[i-1], s])\n",
    "            continue\n",
    "\n",
    "        else:\n",
    "            print(s + ' is oov')\n",
    "#             words_formal = closest_formal(s, terminals, thresh, swap)\n",
    "            words_formal = closest_formal(s, terminals, n_words_formal, swap)\n",
    "            words_embedding = closest_embedding(s, terminals, n_words) if s in dict_words_embeddings else {}\n",
    "            words_proposed = set(words_formal.keys()) | set(words_embedding.keys()) # Set of the proposed words\n",
    "            if i == 0:\n",
    "                scores = []\n",
    "                for word in words_proposed:\n",
    "                    unigram = math.log(probas_unigram[dict_terminals_indices[word]])\n",
    "#                     unigram = math.log(probas_unigram[dict_terminals_lower_indices[word]])\n",
    "                    scores.append((unigram, word))\n",
    "                \n",
    "            else:\n",
    "                scores = []\n",
    "                for word in words_proposed:\n",
    "#                     bigram = math.log(probas_bigram[dict_terminals_lower_indices[sent[i-1]], dict_terminals_lower_indices[word]])\n",
    "                    bigram = math.log(probas_bigram[dict_terminals_indices[sent[i-1]], dict_terminals_indices[word]])\n",
    "                    score = log_proba + bigram\n",
    "                    scores.append((score, word))\n",
    "                \n",
    "            scores.sort(reverse = True)\n",
    "            sent[i] = scores[0][1]\n",
    "            log_proba += scores[0][0]\n",
    "            \n",
    "    print(\" \".join(sent))\n",
    "    return sent"
   ]
  },
  {
   "cell_type": "code",
   "execution_count": 108,
   "metadata": {},
   "outputs": [],
   "source": [
    "# %timeit choose_words(sentence, terminals, probas_unigram, probas_bigram, n_words_formal=50, n_words=50, swap=False)"
   ]
  },
  {
   "cell_type": "code",
   "execution_count": 105,
   "metadata": {},
   "outputs": [
    {
     "name": "stdout",
     "output_type": "stream",
     "text": [
      "- 19 janvier 2004 : le juge Armand Riberolles clôt ses investigations et l' instruction de l' affaire des HLM de Paris .\n",
      "- 19 janvier 2004 : le juge Armand Riberolles évoqua ses investigations et l' instruction de l' affaire des HLM de Paris .\n"
     ]
    }
   ],
   "source": [
    "index = np.random.randint(0, 309)\n",
    "t = Tree.fromstring('( ' + ignore_functional_labels(data_test[0]) + ')')\n",
    "sentence = t.leaves().copy()\n",
    "# sentence = \"guerre d' indochine\".split(' ')\n",
    "print(\" \".join(sentence))\n",
    "# print('\\n')\n",
    "# sent = choose_words(sentence, terminals_lower, probas_unigram, probas_bigram, n_words_formal=5, swap=False)\n",
    "sent = choose_words(sentence, terminals, probas_unigram, probas_bigram, n_words_formal=5, swap=False)\n",
    "print(\" \".join(sent))"
   ]
  },
  {
   "cell_type": "code",
   "execution_count": 97,
   "metadata": {},
   "outputs": [],
   "source": [
    "scores, back = cyk(sent)"
   ]
  },
  {
   "cell_type": "code",
   "execution_count": 98,
   "metadata": {},
   "outputs": [
    {
     "data": {
      "image/png": "[encoded data removed]",
      "text/plain": [
       "Tree('', [Tree('SENT', [Tree('PONCT', ['-']), Tree('NP', [Tree('ADJ', ['19']), Tree('NC', ['janvier']), Tree('NC', ['2004'])]), Tree('PONCT', [':']), Tree('NP', [Tree('DET', ['le']), Tree('NC', ['juge']), Tree('NPP', ['Armand']), Tree('NPP', ['Riberolles'])]), Tree('VN', [Tree('V', ['clôt'])]), Tree('NP', [Tree('DET', ['ses']), Tree('NC', ['investigations']), Tree('COORD', [Tree('CC', ['et']), Tree('NP', [Tree('DET', [\"l'\"]), Tree('NC', ['instruction']), Tree('PP', [Tree('P', ['de']), Tree('NP', [Tree('DET', [\"l'\"]), Tree('NC', ['affaire']), Tree('PP', [Tree('P', [Tree('D', ['des'])]), Tree('NP', [Tree('NC', ['HLM']), Tree('PP', [Tree('P', ['de']), Tree('NP', [Tree('NPP', ['Paris'])])])])])])])])])]), Tree('PONCT', ['.'])])])"
      ]
     },
     "execution_count": 98,
     "metadata": {},
     "output_type": "execute_result"
    }
   ],
   "source": [
    "t.chomsky_normal_form(horzMarkov=2)\n",
    "t.collapse_unary(True, True)\n",
    "t.un_chomsky_normal_form()\n",
    "t"
   ]
  },
  {
   "cell_type": "code",
   "execution_count": 99,
   "metadata": {},
   "outputs": [
    {
     "data": {
      "image/png": "[encoded data removed]",
      "text/plain": [
       "Tree('', [Tree('Not-inGrammar', [Tree('Not-in-Grammar', ['-']), Tree('Not-in-Grammar', ['19']), Tree('Not-in-Grammar', ['janvier']), Tree('Not-in-Grammar', ['2004']), Tree('Not-in-Grammar', [':']), Tree('Not-in-Grammar', ['le']), Tree('Not-in-Grammar', ['juge']), Tree('Not-in-Grammar', ['Armand']), Tree('Not-in-Grammar', ['Riberolles']), Tree('Not-in-Grammar', ['clôt']), Tree('Not-in-Grammar', ['ses']), Tree('Not-in-Grammar', ['investigations']), Tree('Not-in-Grammar', ['et']), Tree('Not-in-Grammar', [\"l'\"]), Tree('Not-in-Grammar', ['instruction']), Tree('Not-in-Grammar', ['de']), Tree('Not-in-Grammar', [\"l'\"]), Tree('Not-in-Grammar', ['affaire']), Tree('Not-in-Grammar', ['des']), Tree('Not-in-Grammar', ['HLM']), Tree('Not-in-Grammar', ['de']), Tree('Not-in-Grammar', ['Paris']), Tree('Not-in-Grammar', ['.'])])])"
      ]
     },
     "execution_count": 99,
     "metadata": {},
     "output_type": "execute_result"
    }
   ],
   "source": [
    "t_test = Tree.fromstring(build_parentheses(back, scores, sentence))\n",
    "t_test.un_chomsky_normal_form()\n",
    "t_test"
   ]
  },
  {
   "cell_type": "code",
   "execution_count": 86,
   "metadata": {},
   "outputs": [
    {
     "name": "stdout",
     "output_type": "stream",
     "text": [
      "Parse recall : 73.08%\n",
      "Parse precision : 67.86%\n",
      "\n",
      "POS recall : 93.02%\n",
      "POS precision : 100.00%\n"
     ]
    }
   ],
   "source": [
    "score(\" \".join(str(t).split()), \" \".join(str(t_test).split()))"
   ]
  },
  {
   "cell_type": "markdown",
   "metadata": {},
   "source": [
    "## Evaluation"
   ]
  },
  {
   "cell_type": "code",
   "execution_count": 104,
   "metadata": {},
   "outputs": [
    {
     "name": "stdout",
     "output_type": "stream",
     "text": [
      "- 19 janvier 2004 : le juge Armand Riberolles clôt ses investigations et l' instruction de l' affaire des HLM de Paris .\n",
      "clôt is oov\n",
      "- 19 janvier 2004 : le juge Armand Riberolles évoqua ses investigations et l' instruction de l' affaire des HLM de Paris .\n",
      "finished sentence 0\n",
      "\n",
      "\n",
      "- Février 2005 : le parquet de Paris requiert un non- lieu en_faveur_de Jean Tiberi , accordé par le juge Armand Riberolles .\n",
      "Février is oov\n",
      "requiert is oov\n",
      "- octobre 2005 : le parquet de Paris relient un non- lieu en_faveur_de Jean Tiberi , accordé par le juge Armand Riberolles .\n",
      "SENT\n",
      "finished sentence 1\n",
      "\n",
      "\n",
      "Il demande toutefois le renvoi devant le tribunal correctionnel de la majorité de la cinquantaine de personnes mises en examen .\n",
      "Il demande toutefois le renvoi devant le tribunal correctionnel de la majorité de la cinquantaine de personnes mises en examen .\n",
      "SENT\n",
      "finished sentence 2\n",
      "\n",
      "\n",
      "- Juin 2005 : l' ex- conseiller général RPR des Hauts-de-Seine Didier Schuller et le député-maire -LRB- UMP -RRB- de Levallois-Perret Patrick Balkany comparaissent devant le tribunal correctionnel de Créteil dans l' affaire des HLM des Hauts-de-Seine .\n",
      "député-maire is oov\n",
      "- Juin 2005 : l' ex- conseiller général RPR des Hauts-de-Seine Didier Schuller et le septembre -LRB- UMP -RRB- de Levallois-Perret Patrick Balkany comparaissent devant le tribunal correctionnel de Créteil dans l' affaire des HLM des Hauts-de-Seine .\n",
      "SENT\n",
      "finished sentence 3\n",
      "\n",
      "\n",
      "Le Procès en première instance\n",
      "Le Procès en première instance\n",
      "finished sentence 4\n",
      "\n",
      "\n",
      "- Le procès de l' affaire des HLM de Paris s' est déroulé dans l' indifférence du 23 décembre 2005 au 5 avril 2006 .\n",
      "indifférence is oov\n",
      "- Le procès de l' affaire des HLM de Paris s' est déroulé dans l' efficacité du 23 décembre 2005 au 5 avril 2006 .\n",
      "SENT\n",
      "finished sentence 5\n",
      "\n",
      "\n",
      "- Les hommes politiques -clés de la capitale comme Jean Tiberi , Michel Roussin ou Jacques Chirac ont bénéficié de non- lieu , de vices de forme ou de protection statutaire .\n",
      "-clés is oov\n",
      "vices is oov\n",
      "statutaire is oov\n",
      "- Les hommes politiques Ces de la capitale comme Jean Tiberi , Michel Roussin ou Jacques Chirac ont bénéficié de non- lieu , de tortures de forme ou de protection subsidiaire .\n",
      "SENT\n",
      "finished sentence 6\n",
      "\n",
      "\n",
      "Selon l' accusation : \" L' instruction n' est pas parvenue à établir formellement l' implication personnelle des responsables au_sein_de l' appareil politique du RPR . \"\n",
      "Selon l' accusation : \" L' instruction n' est pas parvenue à établir formellement l' implication personnelle des responsables au_sein_de l' appareil politique du RPR . \"\n",
      "SENT\n",
      "finished sentence 7\n",
      "\n",
      "\n",
      "- En l' absence de tout responsable politique , c' est l' ancien directeur général de l' Office public HLM de Paris et élu corrézien , Georges Pérol , qui fait figure de clé de voûte de ce vaste système de versements de commissions par les entreprises et de détournement de procédures dans l' attribution de marchés publics .\n",
      "corrézien is oov\n",
      "clé is oov\n",
      "voûte is oov\n",
      "versements is oov\n",
      "détournement is oov\n",
      "attribution is oov\n",
      "- En l' absence de tout responsable politique , c' est l' ancien directeur général de l' Office public HLM de Paris et élu correcte , Georges Pérol , qui fait figure de ce de toute de ce vaste système de motions de commissions par les entreprises et de renouvellement de procédures dans l' intervention de marchés publics .\n",
      "SENT\n",
      "finished sentence 8\n",
      "\n",
      "\n",
      "Contre lui , le parquet a requis quatre ans d' emprisonnement avec sursis , 50_000 euros d' amende et trois ans d' interdiction des droits civiques et civils .\n",
      "interdiction is oov\n",
      "civiques is oov\n",
      "civils is oov\n",
      "Contre lui , le parquet a requis quatre ans d' emprisonnement avec sursis , 50_000 euros d' amende et trois ans d' interactions des droits économiques et policiers .\n",
      "SENT\n",
      "finished sentence 9\n",
      "\n",
      "\n",
      "- Le 14 mars 2006 , des peines de prison avec sursis et des amendes ont été requises contre 41 des 49 prévenus du procès de l' office public HLM de Paris -LRB- OPAC -RRB- , considérés comme les acteurs ou les complices d' un \" système de fraude de grande envergure , parfaitement organisé \" et destiné à \" constituer des caisses noires \" , selon les mots de la vice-procureure , Chantal de Leiris .\n",
      "requises is oov\n",
      "complices is oov\n",
      "caisses is oov\n",
      "noires is oov\n",
      "vice-procureure is oov\n",
      "Leiris is oov\n",
      "- Le 14 mars 2006 , des peines de prison avec sursis et des amendes ont été vérifiées contre 41 des 49 prévenus du procès de l' office public HLM de Paris -LRB- OPAC -RRB- , considérés comme les acteurs ou les serviteurs d' un \" système de fraude de grande envergure , parfaitement organisé \" et destiné à \" constituer des machines vivantes \" , selon les mots de la vice-président , Chantal de leurs .\n",
      "SENT\n",
      "finished sentence 10\n",
      "\n",
      "\n",
      "Évoquant dès le début de son réquisitoire , devant la 11e chambre du tribunal correctionnel de Paris , la question du financement politique , elle a relevé que \" l' instruction n' a pas trouvé de réponse et s' est heurtée au silence et aux flux financiers des sociétés off-shore \" .\n",
      "Évoquant is oov\n",
      "11e is oov\n",
      "heurtée is oov\n",
      "off-shore is oov\n",
      "évoquant dès le début de son réquisitoire , devant la 21e chambre du tribunal correctionnel de Paris , la question du financement politique , elle a relevé que \" l' instruction n' a pas trouvé de réponse et s' est intéressée au silence et aux flux financiers des sociétés offre \" .\n",
      "SENT\n",
      "finished sentence 11\n",
      "\n",
      "\n",
      "- 5 avril 2006 : dernier jour du procès des HLM de paris consacré aux plaidoiries .\n",
      "paris is oov\n",
      "plaidoiries is oov\n",
      "- 5 avril 2006 : dernier jour du procès des HLM de Paris consacré aux plaisirs .\n",
      "SENT\n",
      "finished sentence 12\n",
      "\n",
      "\n",
      "Pendant deux mois et demi de débats , une cinquantaine de chefs d' entreprise ont été entendus et ont reconnu avoir versé des fonds contre l' obtention de marchés des HLM de Paris .\n",
      "entendus is oov\n",
      "Pendant deux mois et demi de débats , une cinquantaine de chefs d' entreprise ont été évalués et ont reconnu avoir versé des fonds contre l' obtention de marchés des HLM de Paris .\n",
      "SENT\n",
      "finished sentence 13\n",
      "\n",
      "\n",
      "Aucun financement politique occulte n' a pu être mis en évidence .\n",
      "Aucun financement politique occulte n' a pu être mis en évidence .\n",
      "SENT\n",
      "finished sentence 14\n",
      "\n",
      "\n",
      "L' utilisation de sociétés-écrans basées dans des paradis fiscaux -LRB- voir société panaméenne et fiduciaire suisse -RRB- a empêché de retracer les flux financiers .\n",
      "sociétés-écrans is oov\n",
      "paradis is oov\n",
      "fiscaux is oov\n",
      "panaméenne is oov\n",
      "fiduciaire is oov\n",
      "empêché is oov\n",
      "retracer is oov\n",
      "L' utilisation de sociétés basées dans des partis sociaux -LRB- voir société parisienne et judiciaires suisse -RRB- a tenté de saisir les flux financiers .\n",
      "SENT\n",
      "finished sentence 15\n",
      "\n",
      "\n",
      "Les marchés truqués\n",
      "truqués is oov\n",
      "Les marchés électoraux\n",
      "SENT+NP\n",
      "finished sentence 16\n",
      "\n",
      "\n",
      "Les ascenseurs des HLM de Paris\n",
      "Les ascenseurs des HLM de Paris\n",
      "finished sentence 17\n",
      "\n",
      "\n",
      "- Le contrat de maintenance et de rénovation des 3_092 cabines d' ascenseurs des immeubles d' HLM parisiens est attribué en 1992 .\n",
      "maintenance is oov\n",
      "rénovation is oov\n",
      "3_092 is oov\n",
      "cabines is oov\n",
      "immeubles is oov\n",
      "attribué is oov\n",
      "- Le contrat de sécurité et de résolution des 3_862 tâches d' ascenseurs des établissements d' HLM parisiens est présenté en 1992 .\n",
      "SENT\n",
      "finished sentence 18\n",
      "\n",
      "\n",
      "Le marché est important : 2,2 milliards de francs sur quinze ans , soit un budget annuel de 140 millions de francs .\n",
      "2,2 is oov\n",
      "140 is oov\n",
      "Le marché est important : 2,5 milliards de francs sur quinze ans , soit un budget annuel de 10 millions de francs .\n",
      "SENT\n",
      "finished sentence 19\n",
      "\n",
      "\n",
      "- Trois entreprises sont retenues : la Somatem , filiale de la Lyonnaise des eaux , la CG2A , filiale de l' ex- Compagnie générale des eaux -LRB- CGE , devenue Vivendi -RRB- , et le groupe américain Otis .\n",
      "Lyonnaise is oov\n",
      "CG2A is oov\n",
      "CGE is oov\n",
      "Otis is oov\n",
      "- Trois entreprises sont retenues : la Somatem , filiale de la départementale des eaux , la CO2 , filiale de l' ex- Compagnie générale des eaux -LRB- SCA , devenue Vivendi -RRB- , et le groupe américain Andrew .\n",
      "SENT\n",
      "finished sentence 20\n",
      "\n",
      "\n",
      "Otis refuse de traiter avec Jean-Claude Méry et obtiendra un petit lot en rémunérant un autre intermédiaire .\n",
      "Otis is oov\n",
      "obtiendra is oov\n",
      "rémunérant is oov\n",
      "Mais refuse de traiter avec Jean-Claude Méry et reçut un petit lot en rémunérés un autre intermédiaire .\n",
      "SENT\n",
      "finished sentence 21\n",
      "\n",
      "\n",
      "- L' enquête a montré que , pour cet appel d' offres , des commissions avaient été versées , via le règlement de factures d' \" assistance commerciale \" à l' une des sociétés de Jean-Claude Méry .\n",
      "- L' enquête a montré que , pour cet appel d' offres , des commissions avaient été versées , via le règlement de factures d' \" assistance commerciale \" à l' une des sociétés de Jean-Claude Méry .\n",
      "SENT\n",
      "finished sentence 22\n",
      "\n",
      "\n",
      "Un dirigeant de la CG2A , lors_de l' attribution du marché , a ainsi déclaré au juge avoir acquitté de semblables factures au mois de février 1992 \" parce_que la commission d' appel d' offres se réunissait la semaine suivante \" .\n",
      "CG2A is oov\n",
      "attribution is oov\n",
      "acquitté is oov\n",
      "semblables is oov\n",
      "réunissait is oov\n",
      "Un dirigeant de la CO2 , lors_de l' intervention du marché , a ainsi déclaré au juge avoir remboursé de rares factures au mois de février 1992 \" parce_que la commission d' appel d' offres se réunissaient la semaine suivante \" .\n",
      "SENT\n",
      "finished sentence 23\n",
      "\n",
      "\n",
      "Jean-Claude Méry , expliquait -il , lui avait mis \" le couteau sous la gorge \" .\n",
      "couteau is oov\n",
      "Jean-Claude Méry , expliquait -il , lui avait mis \" le bras sous la gorge \" .\n",
      "SENT\n",
      "finished sentence 24\n",
      "\n",
      "\n",
      "Le dirigeant de la Somatem , lui , avait confirmé , sur procès-verbal , que ce marché devait entraîner \" le versement d' une commission d' entre 1 % et 5 % du montant du marché , dont le paiement devait s' effectuer à_l'_étranger \" .\n",
      "à_l'_étranger is oov\n",
      "Le dirigeant de la Somatem , lui , avait confirmé , sur procès-verbal , que ce marché devait entraîner \" le versement d' une commission d' entre 1 % et 5 % du montant du marché , dont le paiement devait s' effectuer étrangère \" .\n",
      "SENT\n",
      "finished sentence 25\n",
      "\n",
      "\n",
      "- Questionné le 11 mai 1998 , Jean-Claude Méry avait , pour sa part , reconnu avoir \" demandé 1,5 % du marché , qui [ lui ] ont été versés en Suisse \" , mais il n' avait pas évoqué de destination politique .\n",
      "- Questionné le 11 mai 1998 , Jean-Claude Méry avait , pour sa part , reconnu avoir \" demandé 1,5 % du marché , qui [ lui ] ont été versés en Suisse \" , mais il n' avait pas évoqué de destination politique .\n",
      "SENT\n",
      "finished sentence 26\n",
      "\n",
      "\n",
      "Collusions maçonniques\n",
      "Collusions is oov\n",
      "maçonniques is oov\n",
      "conclusion électorales\n",
      "SENT+NP\n",
      "finished sentence 27\n",
      "\n",
      "\n",
      "Comme dans d'_autres affaires politico- financières françaises des années 1990 , plusieurs protagonistes de cette affaire appartiennent à des loges maçonniques : Jean-Claude Méry , Jacky Chaisaz , Didier Schuller -LRB- loge Silence de la GLNF -RRB- .\n",
      "maçonniques is oov\n",
      "Silence is oov\n",
      "GLNF is oov\n",
      "Comme dans d'_autres affaires politico- financières françaises des années 1990 , plusieurs protagonistes de cette affaire appartiennent à des loges bourgeoises : Jean-Claude Méry , Jacky Chaisaz , Didier Schuller -LRB- loge violence de la gens -RRB- .\n",
      "finished sentence 28\n",
      "\n",
      "\n",
      "Références\n",
      "Références\n",
      "SENT+NP+NC\n",
      "finished sentence 29\n",
      "\n",
      "\n",
      "- HLM de Paris : les seuls patrons du bâtiment à la barre - Libération - 23/12/2006\n",
      "patrons is oov\n",
      "barre is oov\n",
      "23/12/2006 is oov\n",
      "- HLM de Paris : les seuls secrétaires du bâtiment à la voie - Libération - 2002-2004\n",
      "SENT\n",
      "finished sentence 30\n",
      "\n",
      "\n",
      "- Le Monde du 22 septembre 2000\n",
      "- Le Monde du 22 septembre 2000\n",
      "SENT\n",
      "finished sentence 31\n",
      "\n",
      "\n",
      "Catégories : Affaire politico- financière française .\n",
      "Catégories : Affaire politico- financière française .\n",
      "SENT\n",
      "finished sentence 32\n",
      "\n",
      "\n",
      "Financement illégal des partis .\n",
      "Financement illégal des partis .\n",
      "SENT+NP\n",
      "finished sentence 33\n",
      "\n",
      "\n",
      "Rassemblement pour la République .\n",
      "Rassemblement is oov\n",
      "Parlement pour la République .\n",
      "SENT\n",
      "finished sentence 34\n",
      "\n",
      "\n",
      "Paris .\n",
      "Paris .\n",
      "SENT\n",
      "finished sentence 35\n",
      "\n",
      "\n",
      "Histoire de Paris\n",
      "Histoire de Paris\n",
      "SENT+NP\n",
      "finished sentence 36\n",
      "\n",
      "\n",
      "Affaire des marchés publics d' Île-de-France\n",
      "Île-de-France is oov\n",
      "Affaire des marchés publics d' Ile-de-France\n",
      "SENT+NP\n",
      "finished sentence 37\n",
      "\n",
      "\n",
      "L' affaire des marchés publics d' Île-de-France ou Affaire des marchés truqués des lycées d' Île-de-France est un dossier emblématique des dérives du financement des partis politiques dans les années 1990 .\n",
      "Île-de-France is oov\n",
      "truqués is oov\n",
      "lycées is oov\n",
      "Île-de-France is oov\n",
      "emblématique is oov\n",
      "dérives is oov\n",
      "L' affaire des marchés publics d' Ile-de-France ou Affaire des marchés électoraux des établissements d' Ile-de-France est un dossier épileptique des réactions du financement des partis politiques dans les années 1990 .\n",
      "SENT\n",
      "finished sentence 38\n",
      "\n",
      "\n",
      "Cette affaire politico- financière française porte sur le financement par les marchés de construction et d' entretien des lycées des grands partis politiques français : RPR , PR , PS , PCF , organisés en cartel .\n",
      "lycées is oov\n",
      "PR is oov\n",
      "PCF is oov\n",
      "cartel is oov\n",
      "Cette affaire politico- financière française porte sur le financement par les marchés de construction et d' entretien des établissements des grands partis politiques français : RPR , SI , PS , gaulliste , organisés en tournoi .\n",
      "SENT\n",
      "finished sentence 39\n",
      "\n",
      "\n",
      "Seuls les Verts et le FN n' ont pas participé à ce détournement .\n",
      "Verts is oov\n",
      "FN is oov\n",
      "détournement is oov\n",
      "Seuls les députés et le PS n' ont pas participé à ce transfert .\n",
      "SENT\n",
      "finished sentence 40\n",
      "\n",
      "\n",
      "Les montants détournés aux frais du contribuable francilien se montent à plusieurs dizaines de millions d' euros -LRB- 300 à 600 millions de francs -RRB- .\n",
      "montants is oov\n",
      "détournés is oov\n",
      "contribuable is oov\n",
      "francilien is oov\n",
      "montent is oov\n",
      "300 is oov\n",
      "Les frais écartés aux frais du budget rural se montèrent à plusieurs dizaines de millions d' euros -LRB- 30 à 600 millions de francs -RRB- .\n",
      "SENT\n",
      "finished sentence 41\n",
      "\n",
      "\n",
      "La rénovation des lycées d' Île-de-France\n",
      "rénovation is oov\n",
      "lycées is oov\n",
      "Île-de-France is oov\n",
      "La réhabilitation des établissements d' Ile-de-France\n",
      "SENT+NP\n",
      "finished sentence 42\n",
      "\n",
      "\n",
      "Chargé des lycées depuis les premières lois de décentralisation , le conseil régional dirigé par le RPR et dont le président était Michel Giraud a engagé , entre 1988 et 1997 , 24 milliards de francs de travaux de rénovation , extension et construction dans 471 établissements , il a été prélevé 2 % de \" commissions occultes \" que se sont partagés ces grands partis , au prorata de leur représentation à l' assemblée régionale -LRB- 0,8 % pour la gauche et 1,2 % pour la droite -RRB- .\n",
      "Chargé is oov\n",
      "lycées is oov\n",
      "engagé is oov\n",
      "rénovation is oov\n",
      "471 is oov\n",
      "prélevé is oov\n",
      "partagés is oov\n",
      "prorata is oov\n",
      "Présidente des établissements depuis les premières lois de décentralisation , le conseil régional dirigé par le RPR et dont le président était Michel Giraud a reconnu , entre 1988 et 1997 , 24 milliards de francs de travaux de résolution , extension et construction dans 71 établissements , il a été mesuré 2 % de \" commissions occultes \" que se sont présentés ces grands partis , au redémarrage de leur représentation à l' assemblée régionale -LRB- 0,8 % pour la gauche et 1,2 % pour la droite -RRB- .\n",
      "SENT\n",
      "finished sentence 43\n",
      "\n",
      "\n",
      "Selon l' accusation , les entreprises qui se voyaient attribuer des marchés de construction des lycées d' Île-de-France devaient reverser 2 % de leurs montants aux partis : RPR , PS , Parti républicain .\n",
      "voyaient is oov\n",
      "attribuer is oov\n",
      "lycées is oov\n",
      "Île-de-France is oov\n",
      "devaient is oov\n",
      "reverser is oov\n",
      "montants is oov\n",
      "républicain is oov\n",
      "Selon l' accusation , les entreprises qui se verront offrir des marchés de construction des établissements d' Ile-de-France puissent verser 2 % de leurs stocks aux partis : RPR , PS , Parti communiste .\n",
      "SENT\n",
      "finished sentence 44\n",
      "\n",
      "\n",
      "La plus grosse part -LRB- 1,2 % -RRB- du \" racket \" revint au RPR , alors dirigé par Jacques Chirac , secondé par Michel Roussin .\n",
      "racket is oov\n",
      "secondé is oov\n",
      "La plus grosse part -LRB- 1,2 % -RRB- du \" recel \" revint au RPR , alors dirigé par Jacques Chirac , présidée par Michel Roussin .\n",
      "SENT\n",
      "finished sentence 45\n",
      "\n",
      "\n",
      "En cinq ans , pour la seule période comprise entre 1990 et 1995 , le RPR recevra 53 millions de francs , le PS arrive en deuxième position , avec 46,7 millions , suivi du Parti républicain -LRB- 32,6 millions -RRB- et du PCF -LRB- 21 millions -RRB- .\n",
      "recevra is oov\n",
      "46,7 is oov\n",
      "républicain is oov\n",
      "32,6 is oov\n",
      "PCF is oov\n",
      "En cinq ans , pour la seule période comprise entre 1990 et 1995 , le RPR utilisera 53 millions de francs , le PS arrive en deuxième position , avec 6,7 millions , suivi du Parti communiste -LRB- 2,6 millions -RRB- et du RPR -LRB- 21 millions -RRB- .\n",
      "SENT\n",
      "finished sentence 46\n",
      "\n",
      "\n",
      "Soit , au_total , un_peu_plus de 150 millions de francs ont été versés par les grands groupes : Bouygues , Eiffage , Spie-Batignolles , Suez et Générale des eaux .\n",
      "Soit is oov\n",
      "Bouygues is oov\n",
      "Eiffage is oov\n",
      "Spie-Batignolles is oov\n",
      "Suez is oov\n",
      "doit , au_total , un_peu_plus de 150 millions de francs ont été versés par les grands groupes : Thomson , Thales , internationales , QUEL et Générale des eaux .\n",
      "SENT\n",
      "finished sentence 47\n",
      "\n",
      "\n",
      "Protagonistes\n",
      "Protagonistes is oov\n",
      "protagonistes\n",
      "finished sentence 48\n",
      "\n",
      "\n",
      "- Michel Roussin , ex- bras droit de Jacques Chirac à la mairie de Paris .\n",
      "- Michel Roussin , ex- bras droit de Jacques Chirac à la mairie de Paris .\n",
      "SENT\n",
      "finished sentence 49\n",
      "\n",
      "\n",
      "- Louise-Yvonne Casetta , trésorière occulte du RPR , ancêtre de l' UMP .\n",
      "Louise-Yvonne is oov\n",
      "Casetta is oov\n",
      "ancêtre is oov\n",
      "- soupçonné causette , trésorière occulte du RPR , successeur de l' UMP .\n",
      "SENT\n",
      "finished sentence 50\n",
      "\n",
      "\n",
      "- Jean-Claude Méry , ancien collecteur de fonds occulte du RPR , décédé .\n",
      "collecteur is oov\n",
      "- Jean-Claude Méry , ancien privé de fonds occulte du RPR , décédé .\n",
      "SENT\n",
      "finished sentence 51\n",
      "\n",
      "\n",
      "Le dossier d' instruction comporte ses célèbres \" confessions \" posthumes , publiées en 2000 -LRB- Cassette Méry -RRB- .\n",
      "célèbres is oov\n",
      "confessions is oov\n",
      "Cassette is oov\n",
      "Le dossier d' instruction comporte ses vénérables \" tragédies \" posthumes , publiées en 2000 -LRB- cassette Méry -RRB- .\n",
      "SENT\n",
      "finished sentence 52\n",
      "\n",
      "\n",
      "Il y racontait notamment avoir remis peronnellement des fonds en espèces en 1986 à Jacques Chirac en_présence_de Michel Roussin .\n",
      "racontait is oov\n"
     ]
    },
    {
     "ename": "KeyboardInterrupt",
     "evalue": "",
     "output_type": "error",
     "traceback": [
      "\u001b[0;31m---------------------------------------------------------------------------\u001b[0m",
      "\u001b[0;31mKeyboardInterrupt\u001b[0m                         Traceback (most recent call last)",
      "\u001b[0;32m<ipython-input-104-7c62a14be9e2>\u001b[0m in \u001b[0;36m<module>\u001b[0;34m\u001b[0m\n\u001b[1;32m      4\u001b[0m     \u001b[0mt\u001b[0m \u001b[0;34m=\u001b[0m \u001b[0mTree\u001b[0m\u001b[0;34m.\u001b[0m\u001b[0mfromstring\u001b[0m\u001b[0;34m(\u001b[0m\u001b[0mbracketed\u001b[0m\u001b[0;34m)\u001b[0m\u001b[0;34m\u001b[0m\u001b[0;34m\u001b[0m\u001b[0m\n\u001b[1;32m      5\u001b[0m     \u001b[0msentence\u001b[0m \u001b[0;34m=\u001b[0m \u001b[0mt\u001b[0m\u001b[0;34m.\u001b[0m\u001b[0mleaves\u001b[0m\u001b[0;34m(\u001b[0m\u001b[0;34m)\u001b[0m\u001b[0;34m\u001b[0m\u001b[0;34m\u001b[0m\u001b[0m\n\u001b[0;32m----> 6\u001b[0;31m     \u001b[0msentence_oov\u001b[0m \u001b[0;34m=\u001b[0m \u001b[0mchoose_words\u001b[0m\u001b[0;34m(\u001b[0m\u001b[0msentence\u001b[0m\u001b[0;34m,\u001b[0m \u001b[0mterminals\u001b[0m\u001b[0;34m,\u001b[0m \u001b[0mprobas_unigram\u001b[0m\u001b[0;34m,\u001b[0m \u001b[0mprobas_bigram\u001b[0m\u001b[0;34m,\u001b[0m \u001b[0mn_words_formal\u001b[0m\u001b[0;34m=\u001b[0m\u001b[0;36m5\u001b[0m\u001b[0;34m,\u001b[0m \u001b[0mswap\u001b[0m\u001b[0;34m=\u001b[0m\u001b[0;32mFalse\u001b[0m\u001b[0;34m)\u001b[0m\u001b[0;34m\u001b[0m\u001b[0;34m\u001b[0m\u001b[0m\n\u001b[0m\u001b[1;32m      7\u001b[0m     \u001b[0mscores\u001b[0m\u001b[0;34m,\u001b[0m \u001b[0mback\u001b[0m \u001b[0;34m=\u001b[0m \u001b[0mcyk\u001b[0m\u001b[0;34m(\u001b[0m\u001b[0msentence_oov\u001b[0m\u001b[0;34m)\u001b[0m\u001b[0;34m\u001b[0m\u001b[0;34m\u001b[0m\u001b[0m\n\u001b[1;32m      8\u001b[0m     \u001b[0mt_test\u001b[0m \u001b[0;34m=\u001b[0m \u001b[0mTree\u001b[0m\u001b[0;34m.\u001b[0m\u001b[0mfromstring\u001b[0m\u001b[0;34m(\u001b[0m\u001b[0mbuild_parentheses\u001b[0m\u001b[0;34m(\u001b[0m\u001b[0mback\u001b[0m\u001b[0;34m,\u001b[0m \u001b[0mscores\u001b[0m\u001b[0;34m,\u001b[0m \u001b[0msentence_oov\u001b[0m\u001b[0;34m)\u001b[0m\u001b[0;34m)\u001b[0m\u001b[0;34m\u001b[0m\u001b[0;34m\u001b[0m\u001b[0m\n",
      "\u001b[0;32m<ipython-input-102-8317da295b43>\u001b[0m in \u001b[0;36mchoose_words\u001b[0;34m(sentence, terminals, probas_unigram, probas_bigram, swap, n_words, n_words_formal)\u001b[0m\n\u001b[1;32m     36\u001b[0m \u001b[0;31m#             words_formal = closest_formal(s, terminals, thresh, swap)\u001b[0m\u001b[0;34m\u001b[0m\u001b[0;34m\u001b[0m\u001b[0;34m\u001b[0m\u001b[0m\n\u001b[1;32m     37\u001b[0m             \u001b[0mwords_formal\u001b[0m \u001b[0;34m=\u001b[0m \u001b[0mclosest_formal\u001b[0m\u001b[0;34m(\u001b[0m\u001b[0ms\u001b[0m\u001b[0;34m,\u001b[0m \u001b[0mterminals\u001b[0m\u001b[0;34m,\u001b[0m \u001b[0mn_words_formal\u001b[0m\u001b[0;34m,\u001b[0m \u001b[0mswap\u001b[0m\u001b[0;34m)\u001b[0m\u001b[0;34m\u001b[0m\u001b[0;34m\u001b[0m\u001b[0m\n\u001b[0;32m---> 38\u001b[0;31m             \u001b[0mwords_embedding\u001b[0m \u001b[0;34m=\u001b[0m \u001b[0mclosest_embedding\u001b[0m\u001b[0;34m(\u001b[0m\u001b[0ms\u001b[0m\u001b[0;34m,\u001b[0m \u001b[0mterminals\u001b[0m\u001b[0;34m,\u001b[0m \u001b[0mn_words\u001b[0m\u001b[0;34m)\u001b[0m \u001b[0;32mif\u001b[0m \u001b[0ms\u001b[0m \u001b[0;32min\u001b[0m \u001b[0mdict_words_embeddings\u001b[0m \u001b[0;32melse\u001b[0m \u001b[0;34m{\u001b[0m\u001b[0;34m}\u001b[0m\u001b[0;34m\u001b[0m\u001b[0;34m\u001b[0m\u001b[0m\n\u001b[0m\u001b[1;32m     39\u001b[0m             \u001b[0mwords_proposed\u001b[0m \u001b[0;34m=\u001b[0m \u001b[0mset\u001b[0m\u001b[0;34m(\u001b[0m\u001b[0mwords_formal\u001b[0m\u001b[0;34m.\u001b[0m\u001b[0mkeys\u001b[0m\u001b[0;34m(\u001b[0m\u001b[0;34m)\u001b[0m\u001b[0;34m)\u001b[0m \u001b[0;34m|\u001b[0m \u001b[0mset\u001b[0m\u001b[0;34m(\u001b[0m\u001b[0mwords_embedding\u001b[0m\u001b[0;34m.\u001b[0m\u001b[0mkeys\u001b[0m\u001b[0;34m(\u001b[0m\u001b[0;34m)\u001b[0m\u001b[0;34m)\u001b[0m \u001b[0;31m# Set of the proposed words\u001b[0m\u001b[0;34m\u001b[0m\u001b[0;34m\u001b[0m\u001b[0m\n\u001b[1;32m     40\u001b[0m             \u001b[0;32mif\u001b[0m \u001b[0mi\u001b[0m \u001b[0;34m==\u001b[0m \u001b[0;36m0\u001b[0m\u001b[0;34m:\u001b[0m\u001b[0;34m\u001b[0m\u001b[0;34m\u001b[0m\u001b[0m\n",
      "\u001b[0;32m<ipython-input-39-db71dcfb943e>\u001b[0m in \u001b[0;36mclosest_embedding\u001b[0;34m(s, terminals, n_words)\u001b[0m\n\u001b[1;32m     22\u001b[0m \u001b[0;31m#     fun = lambda word : (distance.cosine(dict_words_embeddings[s], dict_terminals_embeddings[word]), word)\u001b[0m\u001b[0;34m\u001b[0m\u001b[0;34m\u001b[0m\u001b[0;34m\u001b[0m\u001b[0m\n\u001b[1;32m     23\u001b[0m \u001b[0;31m#     return {dict_terminals_lower_terminals[score_word[1]] : score_word[0] for score_word in sorted(zip(list(map(fun, terminals)), terminals))[:n_words]}\u001b[0m\u001b[0;34m\u001b[0m\u001b[0;34m\u001b[0m\u001b[0;34m\u001b[0m\u001b[0m\n\u001b[0;32m---> 24\u001b[0;31m     \u001b[0;32mreturn\u001b[0m \u001b[0;34m{\u001b[0m\u001b[0mscore_word\u001b[0m\u001b[0;34m[\u001b[0m\u001b[0;36m1\u001b[0m\u001b[0;34m]\u001b[0m \u001b[0;34m:\u001b[0m \u001b[0mscore_word\u001b[0m\u001b[0;34m[\u001b[0m\u001b[0;36m0\u001b[0m\u001b[0;34m]\u001b[0m \u001b[0;32mfor\u001b[0m \u001b[0mscore_word\u001b[0m \u001b[0;32min\u001b[0m \u001b[0msorted\u001b[0m\u001b[0;34m(\u001b[0m\u001b[0mzip\u001b[0m\u001b[0;34m(\u001b[0m\u001b[0mlist\u001b[0m\u001b[0;34m(\u001b[0m\u001b[0mmap\u001b[0m\u001b[0;34m(\u001b[0m\u001b[0mfun\u001b[0m\u001b[0;34m,\u001b[0m \u001b[0mterminals\u001b[0m\u001b[0;34m)\u001b[0m\u001b[0;34m)\u001b[0m\u001b[0;34m,\u001b[0m \u001b[0mterminals\u001b[0m\u001b[0;34m)\u001b[0m\u001b[0;34m)\u001b[0m\u001b[0;34m[\u001b[0m\u001b[0;34m:\u001b[0m\u001b[0mn_words\u001b[0m\u001b[0;34m]\u001b[0m\u001b[0;34m}\u001b[0m\u001b[0;34m\u001b[0m\u001b[0;34m\u001b[0m\u001b[0m\n\u001b[0m",
      "\u001b[0;32m<ipython-input-39-db71dcfb943e>\u001b[0m in \u001b[0;36m<lambda>\u001b[0;34m(word)\u001b[0m\n\u001b[1;32m     19\u001b[0m     \"\"\"\n\u001b[1;32m     20\u001b[0m \u001b[0;34m\u001b[0m\u001b[0m\n\u001b[0;32m---> 21\u001b[0;31m     \u001b[0mfun\u001b[0m \u001b[0;34m=\u001b[0m \u001b[0;32mlambda\u001b[0m \u001b[0mword\u001b[0m \u001b[0;34m:\u001b[0m \u001b[0mdistance\u001b[0m\u001b[0;34m.\u001b[0m\u001b[0mcosine\u001b[0m\u001b[0;34m(\u001b[0m\u001b[0mdict_words_embeddings\u001b[0m\u001b[0;34m[\u001b[0m\u001b[0ms\u001b[0m\u001b[0;34m]\u001b[0m\u001b[0;34m,\u001b[0m \u001b[0mdict_words_embeddings\u001b[0m\u001b[0;34m[\u001b[0m\u001b[0mword\u001b[0m\u001b[0;34m]\u001b[0m\u001b[0;34m)\u001b[0m \u001b[0;32mif\u001b[0m \u001b[0mword\u001b[0m \u001b[0;32min\u001b[0m \u001b[0mdict_words_embeddings\u001b[0m \u001b[0;32melse\u001b[0m \u001b[0;36m2.\u001b[0m\u001b[0;34m\u001b[0m\u001b[0;34m\u001b[0m\u001b[0m\n\u001b[0m\u001b[1;32m     22\u001b[0m \u001b[0;31m#     fun = lambda word : (distance.cosine(dict_words_embeddings[s], dict_terminals_embeddings[word]), word)\u001b[0m\u001b[0;34m\u001b[0m\u001b[0;34m\u001b[0m\u001b[0;34m\u001b[0m\u001b[0m\n\u001b[1;32m     23\u001b[0m \u001b[0;31m#     return {dict_terminals_lower_terminals[score_word[1]] : score_word[0] for score_word in sorted(zip(list(map(fun, terminals)), terminals))[:n_words]}\u001b[0m\u001b[0;34m\u001b[0m\u001b[0;34m\u001b[0m\u001b[0;34m\u001b[0m\u001b[0m\n",
      "\u001b[0;32m~/anaconda3/lib/python3.6/site-packages/scipy/spatial/distance.py\u001b[0m in \u001b[0;36mcosine\u001b[0;34m(u, v, w)\u001b[0m\n\u001b[1;32m    742\u001b[0m     \u001b[0;31m# cosine distance is also referred to as 'uncentered correlation',\u001b[0m\u001b[0;34m\u001b[0m\u001b[0;34m\u001b[0m\u001b[0;34m\u001b[0m\u001b[0m\n\u001b[1;32m    743\u001b[0m     \u001b[0;31m#   or 'reflective correlation'\u001b[0m\u001b[0;34m\u001b[0m\u001b[0;34m\u001b[0m\u001b[0;34m\u001b[0m\u001b[0m\n\u001b[0;32m--> 744\u001b[0;31m     \u001b[0;32mreturn\u001b[0m \u001b[0mcorrelation\u001b[0m\u001b[0;34m(\u001b[0m\u001b[0mu\u001b[0m\u001b[0;34m,\u001b[0m \u001b[0mv\u001b[0m\u001b[0;34m,\u001b[0m \u001b[0mw\u001b[0m\u001b[0;34m=\u001b[0m\u001b[0mw\u001b[0m\u001b[0;34m,\u001b[0m \u001b[0mcentered\u001b[0m\u001b[0;34m=\u001b[0m\u001b[0;32mFalse\u001b[0m\u001b[0;34m)\u001b[0m\u001b[0;34m\u001b[0m\u001b[0;34m\u001b[0m\u001b[0m\n\u001b[0m\u001b[1;32m    745\u001b[0m \u001b[0;34m\u001b[0m\u001b[0m\n\u001b[1;32m    746\u001b[0m \u001b[0;34m\u001b[0m\u001b[0m\n",
      "\u001b[0;32m~/anaconda3/lib/python3.6/site-packages/scipy/spatial/distance.py\u001b[0m in \u001b[0;36mcorrelation\u001b[0;34m(u, v, w, centered)\u001b[0m\n\u001b[1;32m    695\u001b[0m     \u001b[0muv\u001b[0m \u001b[0;34m=\u001b[0m \u001b[0mnp\u001b[0m\u001b[0;34m.\u001b[0m\u001b[0maverage\u001b[0m\u001b[0;34m(\u001b[0m\u001b[0mu\u001b[0m \u001b[0;34m*\u001b[0m \u001b[0mv\u001b[0m\u001b[0;34m,\u001b[0m \u001b[0mweights\u001b[0m\u001b[0;34m=\u001b[0m\u001b[0mw\u001b[0m\u001b[0;34m)\u001b[0m\u001b[0;34m\u001b[0m\u001b[0;34m\u001b[0m\u001b[0m\n\u001b[1;32m    696\u001b[0m     \u001b[0muu\u001b[0m \u001b[0;34m=\u001b[0m \u001b[0mnp\u001b[0m\u001b[0;34m.\u001b[0m\u001b[0maverage\u001b[0m\u001b[0;34m(\u001b[0m\u001b[0mnp\u001b[0m\u001b[0;34m.\u001b[0m\u001b[0msquare\u001b[0m\u001b[0;34m(\u001b[0m\u001b[0mu\u001b[0m\u001b[0;34m)\u001b[0m\u001b[0;34m,\u001b[0m \u001b[0mweights\u001b[0m\u001b[0;34m=\u001b[0m\u001b[0mw\u001b[0m\u001b[0;34m)\u001b[0m\u001b[0;34m\u001b[0m\u001b[0;34m\u001b[0m\u001b[0m\n\u001b[0;32m--> 697\u001b[0;31m     \u001b[0mvv\u001b[0m \u001b[0;34m=\u001b[0m \u001b[0mnp\u001b[0m\u001b[0;34m.\u001b[0m\u001b[0maverage\u001b[0m\u001b[0;34m(\u001b[0m\u001b[0mnp\u001b[0m\u001b[0;34m.\u001b[0m\u001b[0msquare\u001b[0m\u001b[0;34m(\u001b[0m\u001b[0mv\u001b[0m\u001b[0;34m)\u001b[0m\u001b[0;34m,\u001b[0m \u001b[0mweights\u001b[0m\u001b[0;34m=\u001b[0m\u001b[0mw\u001b[0m\u001b[0;34m)\u001b[0m\u001b[0;34m\u001b[0m\u001b[0;34m\u001b[0m\u001b[0m\n\u001b[0m\u001b[1;32m    698\u001b[0m     \u001b[0mdist\u001b[0m \u001b[0;34m=\u001b[0m \u001b[0;36m1.0\u001b[0m \u001b[0;34m-\u001b[0m \u001b[0muv\u001b[0m \u001b[0;34m/\u001b[0m \u001b[0mnp\u001b[0m\u001b[0;34m.\u001b[0m\u001b[0msqrt\u001b[0m\u001b[0;34m(\u001b[0m\u001b[0muu\u001b[0m \u001b[0;34m*\u001b[0m \u001b[0mvv\u001b[0m\u001b[0;34m)\u001b[0m\u001b[0;34m\u001b[0m\u001b[0;34m\u001b[0m\u001b[0m\n\u001b[1;32m    699\u001b[0m     \u001b[0;32mreturn\u001b[0m \u001b[0mdist\u001b[0m\u001b[0;34m\u001b[0m\u001b[0;34m\u001b[0m\u001b[0m\n",
      "\u001b[0;32m~/anaconda3/lib/python3.6/site-packages/numpy/lib/function_base.py\u001b[0m in \u001b[0;36maverage\u001b[0;34m(a, axis, weights, returned)\u001b[0m\n\u001b[1;32m    354\u001b[0m \u001b[0;34m\u001b[0m\u001b[0m\n\u001b[1;32m    355\u001b[0m     \u001b[0;32mif\u001b[0m \u001b[0mweights\u001b[0m \u001b[0;32mis\u001b[0m \u001b[0;32mNone\u001b[0m\u001b[0;34m:\u001b[0m\u001b[0;34m\u001b[0m\u001b[0;34m\u001b[0m\u001b[0m\n\u001b[0;32m--> 356\u001b[0;31m         \u001b[0mavg\u001b[0m \u001b[0;34m=\u001b[0m \u001b[0ma\u001b[0m\u001b[0;34m.\u001b[0m\u001b[0mmean\u001b[0m\u001b[0;34m(\u001b[0m\u001b[0maxis\u001b[0m\u001b[0;34m)\u001b[0m\u001b[0;34m\u001b[0m\u001b[0;34m\u001b[0m\u001b[0m\n\u001b[0m\u001b[1;32m    357\u001b[0m         \u001b[0mscl\u001b[0m \u001b[0;34m=\u001b[0m \u001b[0mavg\u001b[0m\u001b[0;34m.\u001b[0m\u001b[0mdtype\u001b[0m\u001b[0;34m.\u001b[0m\u001b[0mtype\u001b[0m\u001b[0;34m(\u001b[0m\u001b[0ma\u001b[0m\u001b[0;34m.\u001b[0m\u001b[0msize\u001b[0m\u001b[0;34m/\u001b[0m\u001b[0mavg\u001b[0m\u001b[0;34m.\u001b[0m\u001b[0msize\u001b[0m\u001b[0;34m)\u001b[0m\u001b[0;34m\u001b[0m\u001b[0;34m\u001b[0m\u001b[0m\n\u001b[1;32m    358\u001b[0m     \u001b[0;32melse\u001b[0m\u001b[0;34m:\u001b[0m\u001b[0;34m\u001b[0m\u001b[0;34m\u001b[0m\u001b[0m\n",
      "\u001b[0;32m~/anaconda3/lib/python3.6/site-packages/numpy/core/_methods.py\u001b[0m in \u001b[0;36m_mean\u001b[0;34m(a, axis, dtype, out, keepdims)\u001b[0m\n\u001b[1;32m     83\u001b[0m             \u001b[0mret\u001b[0m \u001b[0;34m=\u001b[0m \u001b[0marr\u001b[0m\u001b[0;34m.\u001b[0m\u001b[0mdtype\u001b[0m\u001b[0;34m.\u001b[0m\u001b[0mtype\u001b[0m\u001b[0;34m(\u001b[0m\u001b[0mret\u001b[0m \u001b[0;34m/\u001b[0m \u001b[0mrcount\u001b[0m\u001b[0;34m)\u001b[0m\u001b[0;34m\u001b[0m\u001b[0;34m\u001b[0m\u001b[0m\n\u001b[1;32m     84\u001b[0m         \u001b[0;32melse\u001b[0m\u001b[0;34m:\u001b[0m\u001b[0;34m\u001b[0m\u001b[0;34m\u001b[0m\u001b[0m\n\u001b[0;32m---> 85\u001b[0;31m             \u001b[0mret\u001b[0m \u001b[0;34m=\u001b[0m \u001b[0mret\u001b[0m\u001b[0;34m.\u001b[0m\u001b[0mdtype\u001b[0m\u001b[0;34m.\u001b[0m\u001b[0mtype\u001b[0m\u001b[0;34m(\u001b[0m\u001b[0mret\u001b[0m \u001b[0;34m/\u001b[0m \u001b[0mrcount\u001b[0m\u001b[0;34m)\u001b[0m\u001b[0;34m\u001b[0m\u001b[0;34m\u001b[0m\u001b[0m\n\u001b[0m\u001b[1;32m     86\u001b[0m     \u001b[0;32melse\u001b[0m\u001b[0;34m:\u001b[0m\u001b[0;34m\u001b[0m\u001b[0;34m\u001b[0m\u001b[0m\n\u001b[1;32m     87\u001b[0m         \u001b[0mret\u001b[0m \u001b[0;34m=\u001b[0m \u001b[0mret\u001b[0m \u001b[0;34m/\u001b[0m \u001b[0mrcount\u001b[0m\u001b[0;34m\u001b[0m\u001b[0;34m\u001b[0m\u001b[0m\n",
      "\u001b[0;31mKeyboardInterrupt\u001b[0m: "
     ]
    }
   ],
   "source": [
    "parses = []\n",
    "start_time = time()\n",
    "for i, bracketed in enumerate(data_test):\n",
    "    t = Tree.fromstring(bracketed)\n",
    "    sentence = t.leaves()\n",
    "    sentence_oov = choose_words(sentence, terminals, probas_unigram, probas_bigram, n_words_formal=5, swap=False)\n",
    "    scores, back = cyk(sentence_oov)\n",
    "    t_test = Tree.fromstring(build_parentheses(back, scores, sentence_oov))\n",
    "    t_test.un_chomsky_normal_form()\n",
    "    parses.append(\" \".join(str(t_test).split()))\n",
    "    print('finished sentence %d' %i)\n",
    "    print('\\n')\n",
    "    \n",
    "print(time() - start_time)"
   ]
  },
  {
   "cell_type": "code",
   "execution_count": 100,
   "metadata": {},
   "outputs": [
    {
     "data": {
      "text/plain": [
       "'( (SENT (PONCT -) (NP (NC octobre) (NC 2005)) (PONCT :) (NP (DET le) (NC parquet) (PP (P de) (NP (NPP Paris)))) (VN (V relient)) (NP (DET un) (PREF non-) (NC lieu)) (PP (P en_faveur_de) (NP (NPP Jean) (NPP Tiberi))) (PONCT ,) (VPpart (VPP accordé) (PP (P par) (NP (DET le) (NC juge) (NPP Armand) (NPP Riberolles)))) (PONCT .)))'"
      ]
     },
     "execution_count": 100,
     "metadata": {},
     "output_type": "execute_result"
    }
   ],
   "source": [
    "parses[1]"
   ]
  },
  {
   "cell_type": "code",
   "execution_count": null,
   "metadata": {},
   "outputs": [],
   "source": []
  },
  {
   "cell_type": "code",
   "execution_count": null,
   "metadata": {},
   "outputs": [],
   "source": []
  },
  {
   "cell_type": "code",
   "execution_count": null,
   "metadata": {},
   "outputs": [],
   "source": []
  },
  {
   "cell_type": "code",
   "execution_count": null,
   "metadata": {},
   "outputs": [],
   "source": []
  },
  {
   "cell_type": "code",
   "execution_count": null,
   "metadata": {},
   "outputs": [],
   "source": []
  },
  {
   "cell_type": "code",
   "execution_count": null,
   "metadata": {},
   "outputs": [],
   "source": []
  },
  {
   "cell_type": "code",
   "execution_count": null,
   "metadata": {},
   "outputs": [],
   "source": []
  },
  {
   "cell_type": "code",
   "execution_count": null,
   "metadata": {},
   "outputs": [],
   "source": []
  }
 ],
 "metadata": {
  "kernelspec": {
   "display_name": "Python 3",
   "language": "python",
   "name": "python3"
  },
  "language_info": {
   "codemirror_mode": {
    "name": "ipython",
    "version": 3
   },
   "file_extension": ".py",
   "mimetype": "text/x-python",
   "name": "python",
   "nbconvert_exporter": "python",
   "pygments_lexer": "ipython3",
   "version": "3.6.8"
  }
 },
 "nbformat": 4,
 "nbformat_minor": 2
}
